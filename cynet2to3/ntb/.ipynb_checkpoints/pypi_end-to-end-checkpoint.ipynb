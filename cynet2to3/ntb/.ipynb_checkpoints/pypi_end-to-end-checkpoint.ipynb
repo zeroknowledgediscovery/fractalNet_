{
 "cells": [
  {
   "cell_type": "code",
   "execution_count": 2,
   "metadata": {},
   "outputs": [],
   "source": [
    "import sys\n",
    "path = '/home/yihuang/Documents/CODE/fractalNet_/cynet2to3/'\n",
    "sys.path.append(path)\n",
    "import cynet.cynet as cn\n",
    "import pandas as pd\n",
    "import numpy as np\n",
    "import os\n",
    "from glob import glob"
   ]
  },
  {
   "cell_type": "markdown",
   "metadata": {},
   "source": [
    "## Process Event Log File and Generate Split and Triplet"
   ]
  },
  {
   "cell_type": "markdown",
   "metadata": {},
   "source": [
    "### 1. Parameter setting"
   ]
  },
  {
   "cell_type": "markdown",
   "metadata": {},
   "source": [
    "#### a. File\n",
    "In the following cell, we specify the event log input file as `LOGFILE`. Since the `STOREFILE` is only used internally, we can just name it after the `LOGFILE`. "
   ]
  },
  {
   "cell_type": "code",
   "execution_count": 3,
   "metadata": {},
   "outputs": [
    {
     "ename": "SyntaxError",
     "evalue": "invalid syntax (<ipython-input-3-2713cd560cc6>, line 1)",
     "output_type": "error",
     "traceback": [
      "\u001b[0;36m  File \u001b[0;32m\"<ipython-input-3-2713cd560cc6>\"\u001b[0;36m, line \u001b[0;32m1\u001b[0m\n\u001b[0;31m    LOGFILE = f'{path}/data/terror.csv'\u001b[0m\n\u001b[0m                                      ^\u001b[0m\n\u001b[0;31mSyntaxError\u001b[0m\u001b[0;31m:\u001b[0m invalid syntax\n"
     ]
    }
   ],
   "source": [
    "LOGFILE = f'{path}/data/terror.csv'\n",
    "STOREFILE = os.path.join(f'{path}/ntb', os.path.basename(LOGFILE).split('.')[0] + '.p')\n",
    "# In this case, STOREFILE = '/project2/ishanu/YI_terror/ntb/terror.p'"
   ]
  },
  {
   "cell_type": "markdown",
   "metadata": {},
   "source": [
    "#### b. Spatial Range and Discretization\n",
    "\n",
    "In the following cell, we specify the tiles used for spatial discretization.\n",
    "We cut latitude (longitude) between `lat_min` and `lat_max` (`lon_min` and `lon_max`) into `lat_eps` (`lon_eps`) equal parts. Each tiles is one longitude step size wide and one latitude step size high."
   ]
  },
  {
   "cell_type": "code",
   "execution_count": 4,
   "metadata": {},
   "outputs": [],
   "source": [
    "# Column names in the event log file for coordinate 1 and 2\n",
    "coord1, coord2 ='latitude', 'longitude'\n",
    "\n",
    "# Tiles\n",
    "lat_min, lat_max = -4, 49\n",
    "lon_min, lon_max = -16, 84\n",
    "lat_eps, lon_eps = 50, 50\n",
    "\n",
    "lat = np.around(np.linspace(lat_min, lat_max, lat_eps + 1), decimals=5)\n",
    "lon = np.around(np.linspace(lon_min, lon_max, lon_eps + 1), decimals=5)\n",
    "tiles = [[lat[i], lat[i + 1], lon[j], lon[j + 1]] for i in np.arange(lat_eps) for j in np.arange(lon_eps)]"
   ]
  },
  {
   "cell_type": "markdown",
   "metadata": {},
   "source": [
    "#### c. Time Range and Discretization"
   ]
  },
  {
   "cell_type": "code",
   "execution_count": 5,
   "metadata": {},
   "outputs": [],
   "source": [
    "# Column names in the event log file for year, month, and day\n",
    "year, month, day='iyear', 'imonth', 'iday'\n",
    "init_date, end_date, freq = '2012-01-01', '2016-12-31', 'D'"
   ]
  },
  {
   "cell_type": "markdown",
   "metadata": {},
   "source": [
    "#### d. Event\n",
    "If a time series has an event frequency less than `threshold`, discard the time series."
   ]
  },
  {
   "cell_type": "code",
   "execution_count": 6,
   "metadata": {},
   "outputs": [],
   "source": [
    "event_dict = {\n",
    "    'number_of_kills': {\n",
    "        'col_name': 'nkill',\n",
    "        'value_limits': [0, 10000],\n",
    "        'threshold': 0.025,\n",
    "        'csvname_prefix': 'NKILL'\n",
    "    },\n",
    "    'BEFIA': {\n",
    "        'col_name': 'attacktype1_txt',\n",
    "        'types': [[\n",
    "            'Bombing/Explosion', \n",
    "            'Facility/Infrastructure Attack'\n",
    "        ]],\n",
    "        'threshold': 0.025,\n",
    "        'csvname_prefix': 'BEFIA'\n",
    "    },\n",
    "    'AAHHH': {\n",
    "        'col_name': 'attacktype1_txt',\n",
    "        'types': [[\n",
    "            'Armed Assault', \n",
    "            'Assassination',\n",
    "            'Hijacking',\n",
    "            'Hostage Taking (Barricade Incident)',\n",
    "            'Hostage Taking (Kidnapping)'\n",
    "        ]],\n",
    "        'threshold': 0.025,\n",
    "        'csvname_prefix': 'AAHHH'\n",
    "    }\n",
    "}"
   ]
  },
  {
   "cell_type": "markdown",
   "metadata": {},
   "source": [
    "### 2. Generating Time Series for Training and Test"
   ]
  },
  {
   "cell_type": "markdown",
   "metadata": {},
   "source": [
    "#### a. Time Series for the Number of kills\n",
    "Our first fit is `S0` for time series of number of kills. \n",
    "Essentially, we are looking for tiles that meet a certain number of kills (deaths in the column `nkill`). \n",
    "We are looking for tiles with number of kills that are greater than a certain `threshold`. \n",
    "Here that `threshold` is $0.025$.\n",
    "A file named `NKILL.csv` is outputted. \n",
    "And, more importantly, the internal timeseries dataframe is changed."
   ]
  },
  {
   "cell_type": "code",
   "execution_count": null,
   "metadata": {},
   "outputs": [],
   "source": [
    "S0 = cn.spatioTemporal(\n",
    "    # File\n",
    "    log_file=LOGFILE,\n",
    "    log_store=STOREFILE,\n",
    "    # Spatial\n",
    "    coord1=coord1,\n",
    "    coord2=coord2,\n",
    "    grid=tiles,\n",
    "    # Temporal\n",
    "    year=year,\n",
    "    month=month,\n",
    "    day=day,\n",
    "    init_date=init_date,\n",
    "    end_date=end_date,\n",
    "    freq=freq,\n",
    "    # Event\n",
    "    EVENT=event_dict['number_of_kills']['col_name'],\n",
    "    value_limits=event_dict['number_of_kills']['value_limits'],\n",
    "    threshold=event_dict['number_of_kills']['threshold'])\n",
    "\n",
    "S0.fit(csvPREF=event_dict['number_of_kills']['csvname_prefix'])"
   ]
  },
  {
   "cell_type": "markdown",
   "metadata": {},
   "source": [
    "**Note** that we are now going to use the tiles selected for in `S0`. "
   ]
  },
  {
   "cell_type": "code",
   "execution_count": 8,
   "metadata": {},
   "outputs": [
    {
     "name": "stderr",
     "output_type": "stream",
     "text": [
      "100%|██████████| 2500/2500 [47:54<00:00,  1.15s/it]\n"
     ]
    }
   ],
   "source": [
    "tiles = S0.getGrid()"
   ]
  },
  {
   "cell_type": "markdown",
   "metadata": {},
   "source": [
    "#### b. Time Series for Bombing/Explosion and Facility/Infrastructure Attack\n",
    "`S1` will be our fitting for attack types in the categories \n",
    " - `Bombing/Explosion` and \n",
    " - `Facility/Infrastructure Attack`.\n",
    "\n",
    "We are counting the number of these types of events that happen in these tiles.\n",
    "Output is written to `BEFIA.csv`, which contains the timeseries for those types of attacks in the selected tiles."
   ]
  },
  {
   "cell_type": "code",
   "execution_count": 14,
   "metadata": {},
   "outputs": [
    {
     "name": "stderr",
     "output_type": "stream",
     "text": [
      "100%|██████████| 2500/2500 [49:36<00:00,  1.19s/it]\n"
     ]
    }
   ],
   "source": [
    "S1 = cn.spatioTemporal(\n",
    "    log_store=STOREFILE,\n",
    "    # Spatial\n",
    "    coord1=coord1,\n",
    "    coord2=coord2,\n",
    "    grid=tiles,\n",
    "    # Temporal\n",
    "    year=year,\n",
    "    month=month,\n",
    "    day=day,\n",
    "    init_date=init_date,\n",
    "    end_date=end_date,\n",
    "    freq=freq,\n",
    "    # Event\n",
    "    EVENT=event_dict['BEFIA']['col_name'],\n",
    "    types=event_dict['BEFIA']['types'],\n",
    "    threshold=event_dict['BEFIA']['threshold'])\n",
    "\n",
    "S1.fit(csvPREF=event_dict['BEFIA']['csvname_prefix'])"
   ]
  },
  {
   "cell_type": "markdown",
   "metadata": {},
   "source": [
    "#### c. Time Series for Armed Assault, Assassination, Hijacking, and Hostage Taking\n",
    "`S2` fits for the attack types:\n",
    " - `Armed Assault`, \n",
    " - `Hostage Taking (Barricade Incident)`, \n",
    " - `Hijacking`, \n",
    " - `Assassination`,\n",
    " - `Hostage Taking (Kidnapping) `.\n",
    "\n",
    "Output is written to `AAHHH.csv`."
   ]
  },
  {
   "cell_type": "code",
   "execution_count": 23,
   "metadata": {},
   "outputs": [
    {
     "name": "stderr",
     "output_type": "stream",
     "text": [
      "100%|██████████| 2500/2500 [46:34<00:00,  1.12s/it]\n"
     ]
    }
   ],
   "source": [
    "S2 = cn.spatioTemporal(\n",
    "    log_store=STOREFILE,\n",
    "    # Spatial\n",
    "    coord1=coord1,\n",
    "    coord2=coord2,\n",
    "    grid=tiles,\n",
    "    # Temporal\n",
    "    year=year,\n",
    "    month=month,\n",
    "    day=day,\n",
    "    init_date=init_date,\n",
    "    end_date=end_date,\n",
    "    freq=freq,\n",
    "    # Event\n",
    "    EVENT=event_dict['AAHHH']['col_name'],\n",
    "    types=event_dict['AAHHH']['types'],\n",
    "    threshold=event_dict['AAHHH']['threshold'])\n",
    "\n",
    "S2.fit(csvPREF=event_dict['AAHHH']['csvname_prefix'])"
   ]
  },
  {
   "cell_type": "markdown",
   "metadata": {},
   "source": [
    "### 3. Generate Triplet for Training and Split for Testing\n",
    "Now we use the csv files created in previous steps (listed in `CSVfiles`) to generate the triplet files for training and split files for testing. \n",
    "\n",
    " - The triplet files are generated with `readTS`.\n",
    "    The training period is defined by `begin` and `end`. \n",
    " - The split files are generated with `splitTS`. \n",
    "    The split files contains data from `begin` to `extended_end`. \n",
    "    The data for testing are those beyond the `end` and before the `extended_end`\n",
    "    Here we set the `extended_end` to be one year beyond the `end`."
   ]
  },
  {
   "cell_type": "code",
   "execution_count": 7,
   "metadata": {},
   "outputs": [],
   "source": [
    "CSVfiles = [val['csvname_prefix'] + '.csv' for _, val in event_dict.items()]\n",
    "\n",
    "begin, end, extended_end = init_date, '2015-12-31', end_date\n",
    "\n",
    "# Make sure the triplet folder and split folder exist\n",
    "os.mkdir('/project2/ishanu/YI_terror/ntb/triplet/')\n",
    "os.mkdir('/project2/ishanu/YI_terror/ntb/split/')"
   ]
  },
  {
   "cell_type": "code",
   "execution_count": 9,
   "metadata": {},
   "outputs": [],
   "source": [
    "# Triplet\n",
    "triplet_fnames_prefix = '/project2/ishanu/YI_terror/ntb/triplet/TERROR_' + begin + '_' + end\n",
    "cn.readTS(\n",
    "    CSVfiles, \n",
    "    csvNAME=triplet_fnames_prefix, \n",
    "    BEG=begin, \n",
    "    END=end)\n",
    "\n",
    "# Split\n",
    "split_dirname = '/project2/ishanu/YI_terror/ntb/split/'\n",
    "split_prefix = begin + '_' + extended_end + '_'\n",
    "cn.splitTS(\n",
    "    CSVfiles, \n",
    "    BEG=begin, \n",
    "    END=extended_end, \n",
    "    dirname=split_dirname, \n",
    "    prefix=split_prefix)"
   ]
  },
  {
   "cell_type": "markdown",
   "metadata": {},
   "source": [
    "####  Optional cleanup of out-of-use files."
   ]
  },
  {
   "cell_type": "code",
   "execution_count": null,
   "metadata": {},
   "outputs": [],
   "source": [
    "for CSVfile in CSVfiles:\n",
    "    os.remove(CSVfile)\n",
    "os.remove(STOREFILE)"
   ]
  },
  {
   "cell_type": "markdown",
   "metadata": {},
   "source": [
    "## Model Generation\n",
    "Now that we training and testing data ready, it is time to create the models.\n",
    "\n",
    "**Input and Output of this step**\n",
    " - Input: training data (the triplet files) produced by `readTS`;\n",
    " - Output: model json files which each represnts a model."
   ]
  },
  {
   "cell_type": "markdown",
   "metadata": {},
   "source": [
    "### 1. Parameter setting\n",
    "\n",
    "**Note:** It is highly recommended that we use absolute paths.\n",
    "\n",
    "**Explanations:**\n",
    " - `PARTITION`: Since we work with event counts, a single partitioning at $-.5$ makes \"no event\" a $0$, and \"any number of events more than $1$\" a $1$.\n",
    " - `RUN_LOCAL`: \n",
    "     - If `False`, `xgModels` will produce a list of calls `program_calls.txt` that needs to be run to produce the models.\n",
    "     - If `True`, `xgModels` will generate models locally. \n",
    " - `NUM_RERUNS`: Since `XgenESeSS` is random, we usually run it several times to get the averaged result.\n",
    " - `XgenESeSS`: The location of the `XgenESeSS` binary.\n",
    "     - it only work for Linux;"
   ]
  },
  {
   "cell_type": "code",
   "execution_count": 10,
   "metadata": {},
   "outputs": [],
   "source": [
    "# File parameters\n",
    "TS_PATH = triplet_fnames_prefix + '.csv' # The time series (data only)\n",
    "NAME_PATH = triplet_fnames_prefix + '.coords' # The names for each time series\n",
    "FILEPATH = '/project2/ishanu/YI_terror/ntb/models/' # Make sure to create a folder with name `FILEPATH` below\n",
    "LOG_PATH = 'log.txt'\n",
    "\n",
    "# XgenESSeS parameters\n",
    "BEG = 1  # minimum delay considered\n",
    "END = 60 # maximum delay considered\n",
    "NUM_RERUNS = 2 # number of reruns\n",
    "PARTITION = [.5] # partitioning points. \n",
    "XgenESeSS = '/project2/ishanu/YI_terror/bin/XgenESeSS'\n",
    "RUN_LOCAL = False\n",
    "\n",
    "# make sure a folder named `models` is created\n",
    "os.mkdir(FILEPATH)"
   ]
  },
  {
   "cell_type": "markdown",
   "metadata": {},
   "source": [
    "### 2. Running `xgModels` to generate model or model generating calls"
   ]
  },
  {
   "cell_type": "code",
   "execution_count": 20,
   "metadata": {},
   "outputs": [],
   "source": [
    "XG = cn.xgModels(\n",
    "    TS_PATH,\n",
    "    NAME_PATH, \n",
    "    LOG_PATH,\n",
    "    FILEPATH, \n",
    "    BEG, \n",
    "    END, \n",
    "    NUM_RERUNS, \n",
    "    PARTITION,\n",
    "    XgenESeSS,\n",
    "    RUN_LOCAL)\n",
    "XG.run(workers=4)"
   ]
  },
  {
   "cell_type": "markdown",
   "metadata": {},
   "source": [
    "## Model Evaluation\n",
    "Here we evaluate our models by the AUC of the their prediction. \n",
    "\n",
    "The inner working of `run_pipeline`:\n",
    "1. It first select `model_nums` number of models either by gamma or distance. \n",
    "    Then it creates a model_sel json file which is a filtered version of the models.\n",
    "1. It applies the `cynet` binary to the model_sel files, which generates a log file containing predictions.\n",
    "1. It applies the `flexroc` binary to the log files, once for each target type.\n",
    "1. Finally, it writes test statistics (AUC, fpr, and, tpr) and output a `res_all.csv` file."
   ]
  },
  {
   "cell_type": "markdown",
   "metadata": {},
   "source": [
    "### 1. Parameter setting\n",
    "\n",
    "**Explanation:**\n",
    " - `RUNLEN`: number of time steps in training and testing;\n",
    " - `FLEX_TAIL_LEN`: number of time steps in testing;\n",
    " - `model_nums`: maximum number of models to use in prediction;\n",
    " - `horizon`: prediction horizon;\n",
    " - `VARNAME`: the predicting variable types;\n",
    "    Here we use individual variable types and `ALL` meaning all types of predicting variables are used together.\n",
    " - `gamma`: If `gamma` is true, the models are sorted with gamma (coefficient of causal dependence) and the best `model_nums` models will be used in the prediction;\n",
    " - To sort models by distance, use `distance=True` instead of `gamma=True` in `run_pipeline`;\n",
    " - `cores`: Number of cores running in parallel. "
   ]
  },
  {
   "cell_type": "code",
   "execution_count": 11,
   "metadata": {},
   "outputs": [],
   "source": [
    "# File parameters\n",
    "MODEL_GLOB = '/project2/ishanu/YI_terror/ntb/models/*model.json'\n",
    "RESPATH = '/project2/ishanu/YI_terror/ntb/models/*model*res'\n",
    "DATA_PATH = os.path.join(split_dirname, split_prefix) # the split files path prefix \n",
    "\n",
    "# Prediction parameters\n",
    "RUNLEN = len(pd.date_range(start=begin, end=extended_end, freq=freq))\n",
    "FLEX_TAIL_LEN = len(pd.date_range(start=end, end=extended_end, freq=freq))\n",
    "model_nums = [20]\n",
    "horizon = 7\n",
    "VARNAME = list(set([fname.split('#')[-1] for fname in glob(DATA_PATH + \"*\")])) + ['ALL']\n",
    "\n",
    "# Running parameters\n",
    "# Make sure you have multi-core access when using cores greater than 1. \n",
    "cores = 4"
   ]
  },
  {
   "cell_type": "markdown",
   "metadata": {},
   "source": [
    "### 2. Run prediction pipeline"
   ]
  },
  {
   "cell_type": "code",
   "execution_count": 29,
   "metadata": {},
   "outputs": [
    {
     "name": "stderr",
     "output_type": "stream",
     "text": [
      "[Parallel(n_jobs=1)]: Using backend SequentialBackend with 1 concurrent workers.\n",
      "[Parallel(n_jobs=1)]: Done 305 out of 305 | elapsed: 34.5min finished\n"
     ]
    }
   ],
   "source": [
    "cn.run_pipeline(\n",
    "    MODEL_GLOB,\n",
    "    model_nums, \n",
    "    horizon, \n",
    "    DATA_PATH, \n",
    "    RUNLEN, \n",
    "    VARNAME, \n",
    "    RESPATH, \n",
    "    FLEX_TAIL_LEN=FLEX_TAIL_LEN,\n",
    "    cores=cores,\n",
    "    gamma=True)"
   ]
  },
  {
   "cell_type": "markdown",
   "metadata": {},
   "source": [
    "Let use see a summary of the aucs"
   ]
  },
  {
   "cell_type": "code",
   "execution_count": 35,
   "metadata": {},
   "outputs": [
    {
     "data": {
      "text/plain": [
       "count    301.000000\n",
       "mean       0.789952\n",
       "std        0.057548\n",
       "min        0.318740\n",
       "25%        0.761022\n",
       "50%        0.789685\n",
       "75%        0.818124\n",
       "max        0.933031\n",
       "Name: auc, dtype: float64"
      ]
     },
     "execution_count": 35,
     "metadata": {},
     "output_type": "execute_result"
    }
   ],
   "source": [
    "res = pd.read_csv('res_all.csv')\n",
    "res[ (res['varsrc'] == 'ALL') & (res['auc'] < .999)]['auc'].describe()"
   ]
  },
  {
   "cell_type": "markdown",
   "metadata": {},
   "source": [
    "### Use recurrent neural network as a benchmark\n",
    "Before we update `Cynet` to run with Python3, we have to run RNN in a separate Python3 notebook. \n",
    "The notebook is called `LSTM.ipynb`.\n",
    "The LSTM result are saved to `LSTM_results` folder. \n",
    "The RNN AUCs is saved to file `LSTM_results/auc_rnn.csv`.\n",
    "In the following cell, we compare the `Cynet` AUCs and the RNN AUCs."
   ]
  },
  {
   "cell_type": "code",
   "execution_count": 15,
   "metadata": {},
   "outputs": [
    {
     "data": {
      "text/html": [
       "<div>\n",
       "<style scoped>\n",
       "    .dataframe tbody tr th:only-of-type {\n",
       "        vertical-align: middle;\n",
       "    }\n",
       "\n",
       "    .dataframe tbody tr th {\n",
       "        vertical-align: top;\n",
       "    }\n",
       "\n",
       "    .dataframe thead th {\n",
       "        text-align: right;\n",
       "    }\n",
       "</style>\n",
       "<table border=\"1\" class=\"dataframe\">\n",
       "  <thead>\n",
       "    <tr style=\"text-align: right;\">\n",
       "      <th></th>\n",
       "      <th>best_auc</th>\n",
       "      <th>rnn</th>\n",
       "    </tr>\n",
       "  </thead>\n",
       "  <tbody>\n",
       "    <tr>\n",
       "      <th>mean</th>\n",
       "      <td>0.834687</td>\n",
       "      <td>0.729708</td>\n",
       "    </tr>\n",
       "    <tr>\n",
       "      <th>50%</th>\n",
       "      <td>0.832638</td>\n",
       "      <td>0.733555</td>\n",
       "    </tr>\n",
       "  </tbody>\n",
       "</table>\n",
       "</div>"
      ],
      "text/plain": [
       "      best_auc       rnn\n",
       "mean  0.834687  0.729708\n",
       "50%   0.832638  0.733555"
      ]
     },
     "execution_count": 15,
     "metadata": {},
     "output_type": "execute_result"
    }
   ],
   "source": [
    "# Load Cynet AUCs and process\n",
    "df = pd.read_csv('res_all.csv')\n",
    "df['model_id'] = df['loc_id'].apply(lambda x: int(x.split('/')[-1].split('m')[0]))\n",
    "df = df[['model_id', 'lattgt1', 'lattgt2', 'lontgt1', 'lontgt2', 'varsrc', 'vartgt', 'auc']].copy()\n",
    "df = pd.pivot_table(\n",
    "    df, \n",
    "    values='auc', \n",
    "    index=['model_id', 'lattgt1', 'lattgt2', 'lontgt1', 'lontgt2', 'vartgt'],\n",
    "    columns=['varsrc']).reset_index().set_index('model_id', drop=True)\n",
    "srcs = [\n",
    "    'ALL', \n",
    "    'Armed_Assault-Assassination-Hijacking-Hostage_Taking_Barricade_Incident-Hostage_Taking_Kidnapping',\n",
    "    'Bombing_Explosion-Facility_Infrastructure_Attack',\n",
    "    'VAR']\n",
    "df['best_auc'] = df[srcs].max(axis=1)\n",
    "df['best_src'] = df[srcs].idxmax(axis=1)\n",
    "df['lat'] = (df['lattgt1'] + df['lattgt2']) / 2.0\n",
    "df['lon'] = (df['lontgt1'] + df['lontgt2']) / 2.0\n",
    "\n",
    "# Load RNN AUCs and combine\n",
    "df_rnn = pd.read_csv('LSTM_results/auc_rnn.csv').set_index('model_id')\n",
    "df_combined = df.join(df_rnn)\n",
    "df_combined.to_csv('auc_cynet_rnn.csv', float_format='%.6f')\n",
    "\n",
    "# prune unvalid data (remove sequence with no event in the out-of-sample period)\n",
    "\n",
    "df_combined = df_combined[ (df_combined.best_auc < 0.9999) & (df_combined.rnn > 0)]\n",
    "summary = df_combined[['best_auc', 'rnn']].describe().loc[['mean', '50%']]\n",
    "summary"
   ]
  },
  {
   "cell_type": "markdown",
   "metadata": {},
   "source": [
    "## Run Machine Learning Algorithms \n",
    "The cynet use a linear combination approach to aggregate the predictions from each source and form the final prediction for a target, but we can also apply machine learning algorithms in search for a better way to do the aggregation. \n",
    "For running machine learning algorithms, we need to run `cynet_chunker` to prepare csv files for running the machine leanring algorithms. \n",
    "\n",
    "### Parameter explanation\n",
    "Comparing to running cynet prediction, we only possible change we have to make is the `model_nums`.\n",
    "We can use a bigger number since machine learning algorithm can sometimes ignore noisy features\n",
    "The parameter `cores` is currently a dummy paramters. \n",
    "The `cynet_chunker` uses $1$ core not matter what values you enter. \n",
    "\n",
    "Make sure to create a folder named `csvs` before running `cynet_chunker`."
   ]
  },
  {
   "cell_type": "code",
   "execution_count": 16,
   "metadata": {},
   "outputs": [
    {
     "name": "stderr",
     "output_type": "stream",
     "text": [
      "\r",
      "  0%|          | 0/305 [00:00<?, ?it/s]"
     ]
    },
    {
     "name": "stdout",
     "output_type": "stream",
     "text": [
      "except\n",
      "0\n",
      "\n",
      "except\n",
      "0\n",
      "\n",
      "except\n",
      "0\n",
      "\n"
     ]
    },
    {
     "name": "stderr",
     "output_type": "stream",
     "text": [
      "\r",
      "  0%|          | 1/305 [01:23<7:00:36, 83.02s/it]"
     ]
    },
    {
     "name": "stdout",
     "output_type": "stream",
     "text": [
      "except\n",
      "0\n",
      "\n",
      "except\n",
      "0\n",
      "\n",
      "except\n",
      "0\n",
      "\n",
      "except\n",
      "0\n",
      "\n"
     ]
    },
    {
     "name": "stderr",
     "output_type": "stream",
     "text": [
      "\r",
      "  1%|          | 2/305 [02:51<7:07:40, 84.69s/it]"
     ]
    },
    {
     "name": "stdout",
     "output_type": "stream",
     "text": [
      "except\n",
      "0\n",
      "\n",
      "except\n",
      "0\n",
      "\n",
      "except\n",
      "0\n",
      "\n",
      "except\n",
      "0\n",
      "\n"
     ]
    },
    {
     "name": "stderr",
     "output_type": "stream",
     "text": [
      "\r",
      "  1%|          | 3/305 [04:38<7:40:23, 91.47s/it]"
     ]
    },
    {
     "name": "stdout",
     "output_type": "stream",
     "text": [
      "except\n",
      "0\n",
      "\n",
      "except\n",
      "0\n",
      "\n",
      "except\n",
      "0\n",
      "\n",
      "except\n",
      "0\n",
      "\n"
     ]
    },
    {
     "name": "stderr",
     "output_type": "stream",
     "text": [
      "\r",
      "  1%|▏         | 4/305 [05:58<7:21:32, 88.01s/it]"
     ]
    },
    {
     "name": "stdout",
     "output_type": "stream",
     "text": [
      "except\n",
      "0\n",
      "\n",
      "except\n",
      "0\n",
      "\n",
      "except\n",
      "0\n",
      "\n",
      "except\n",
      "0\n",
      "\n"
     ]
    },
    {
     "name": "stderr",
     "output_type": "stream",
     "text": [
      "\r",
      "  2%|▏         | 5/305 [07:43<7:44:54, 92.98s/it]"
     ]
    },
    {
     "name": "stdout",
     "output_type": "stream",
     "text": [
      "except\n",
      "0\n",
      "\n",
      "except\n",
      "0\n",
      "\n",
      "except\n",
      "0\n",
      "\n",
      "except\n",
      "0\n",
      "\n"
     ]
    },
    {
     "name": "stderr",
     "output_type": "stream",
     "text": [
      "\r",
      "  2%|▏         | 6/305 [09:00<7:19:02, 88.10s/it]"
     ]
    },
    {
     "name": "stdout",
     "output_type": "stream",
     "text": [
      "except\n",
      "0\n",
      "\n",
      "except\n",
      "0\n",
      "\n",
      "except\n",
      "0\n",
      "\n",
      "except\n",
      "0\n",
      "\n"
     ]
    },
    {
     "name": "stderr",
     "output_type": "stream",
     "text": [
      "\r",
      "  2%|▏         | 7/305 [10:18<7:03:02, 85.18s/it]"
     ]
    },
    {
     "name": "stdout",
     "output_type": "stream",
     "text": [
      "except\n",
      "0\n",
      "\n",
      "except\n",
      "0\n",
      "\n",
      "except\n",
      "0\n",
      "\n",
      "except\n",
      "0\n",
      "\n"
     ]
    },
    {
     "name": "stderr",
     "output_type": "stream",
     "text": [
      "\r",
      "  3%|▎         | 8/305 [11:57<7:21:41, 89.23s/it]"
     ]
    },
    {
     "name": "stdout",
     "output_type": "stream",
     "text": [
      "except\n",
      "0\n",
      "\n",
      "except\n",
      "0\n",
      "\n",
      "except\n",
      "0\n",
      "\n",
      "except\n",
      "0\n",
      "\n"
     ]
    },
    {
     "name": "stderr",
     "output_type": "stream",
     "text": [
      "\r",
      "  3%|▎         | 9/305 [13:14<7:02:36, 85.66s/it]"
     ]
    },
    {
     "name": "stdout",
     "output_type": "stream",
     "text": [
      "except\n",
      "0\n",
      "\n",
      "except\n",
      "0\n",
      "\n",
      "except\n",
      "0\n",
      "\n",
      "except\n",
      "0\n",
      "\n"
     ]
    },
    {
     "name": "stderr",
     "output_type": "stream",
     "text": [
      "\r",
      "  3%|▎         | 10/305 [14:37<6:57:18, 84.88s/it]"
     ]
    },
    {
     "name": "stdout",
     "output_type": "stream",
     "text": [
      "except\n",
      "0\n",
      "\n",
      "except\n",
      "0\n",
      "\n",
      "except\n",
      "0\n",
      "\n",
      "except\n",
      "0\n",
      "\n"
     ]
    },
    {
     "name": "stderr",
     "output_type": "stream",
     "text": [
      "\r",
      "  4%|▎         | 11/305 [15:56<6:46:38, 82.99s/it]"
     ]
    },
    {
     "name": "stdout",
     "output_type": "stream",
     "text": [
      "except\n",
      "0\n",
      "\n",
      "except\n",
      "0\n",
      "\n",
      "except\n",
      "0\n",
      "\n",
      "except\n",
      "0\n",
      "\n"
     ]
    },
    {
     "name": "stderr",
     "output_type": "stream",
     "text": [
      "\r",
      "  4%|▍         | 12/305 [17:45<7:23:11, 90.76s/it]"
     ]
    },
    {
     "name": "stdout",
     "output_type": "stream",
     "text": [
      "except\n",
      "0\n",
      "\n",
      "except\n",
      "0\n",
      "\n",
      "except\n",
      "0\n",
      "\n",
      "except\n",
      "0\n",
      "\n"
     ]
    },
    {
     "name": "stderr",
     "output_type": "stream",
     "text": [
      "\r",
      "  4%|▍         | 13/305 [19:07<7:09:02, 88.16s/it]"
     ]
    },
    {
     "name": "stdout",
     "output_type": "stream",
     "text": [
      "except\n",
      "0\n",
      "\n",
      "except\n",
      "0\n",
      "\n",
      "except\n",
      "0\n",
      "\n",
      "except\n",
      "0\n",
      "\n"
     ]
    },
    {
     "name": "stderr",
     "output_type": "stream",
     "text": [
      "\r",
      "  5%|▍         | 14/305 [20:27<6:56:42, 85.92s/it]"
     ]
    },
    {
     "name": "stdout",
     "output_type": "stream",
     "text": [
      "except\n",
      "0\n",
      "\n",
      "except\n",
      "0\n",
      "\n",
      "except\n",
      "0\n",
      "\n",
      "except\n",
      "0\n",
      "\n"
     ]
    },
    {
     "name": "stderr",
     "output_type": "stream",
     "text": [
      "\r",
      "  5%|▍         | 15/305 [22:17<7:30:18, 93.17s/it]"
     ]
    },
    {
     "name": "stdout",
     "output_type": "stream",
     "text": [
      "except\n",
      "0\n",
      "\n",
      "except\n",
      "0\n",
      "\n",
      "except\n",
      "0\n",
      "\n",
      "except\n",
      "0\n",
      "\n"
     ]
    },
    {
     "name": "stderr",
     "output_type": "stream",
     "text": [
      "\r",
      "  5%|▌         | 16/305 [23:39<7:12:45, 89.85s/it]"
     ]
    },
    {
     "name": "stdout",
     "output_type": "stream",
     "text": [
      "except\n",
      "0\n",
      "\n",
      "except\n",
      "0\n",
      "\n",
      "except\n",
      "0\n",
      "\n",
      "except\n",
      "0\n",
      "\n"
     ]
    },
    {
     "name": "stderr",
     "output_type": "stream",
     "text": [
      "\r",
      "  6%|▌         | 17/305 [25:01<6:58:48, 87.25s/it]"
     ]
    },
    {
     "name": "stdout",
     "output_type": "stream",
     "text": [
      "except\n",
      "0\n",
      "\n",
      "except\n",
      "0\n",
      "\n",
      "except\n",
      "0\n",
      "\n",
      "except\n",
      "0\n",
      "\n"
     ]
    },
    {
     "name": "stderr",
     "output_type": "stream",
     "text": [
      "\r",
      "  6%|▌         | 18/305 [26:17<6:42:05, 84.06s/it]"
     ]
    },
    {
     "name": "stdout",
     "output_type": "stream",
     "text": [
      "except\n",
      "0\n",
      "\n",
      "except\n",
      "0\n",
      "\n",
      "except\n",
      "0\n",
      "\n",
      "except\n",
      "0\n",
      "\n"
     ]
    },
    {
     "name": "stderr",
     "output_type": "stream",
     "text": [
      "\r",
      "  6%|▌         | 19/305 [27:39<6:36:45, 83.24s/it]"
     ]
    },
    {
     "name": "stdout",
     "output_type": "stream",
     "text": [
      "except\n",
      "0\n",
      "\n",
      "except\n",
      "0\n",
      "\n",
      "except\n",
      "0\n",
      "\n",
      "except\n",
      "0\n",
      "\n"
     ]
    },
    {
     "name": "stderr",
     "output_type": "stream",
     "text": [
      "\r",
      "  7%|▋         | 20/305 [28:54<6:24:43, 80.99s/it]"
     ]
    },
    {
     "name": "stdout",
     "output_type": "stream",
     "text": [
      "except\n",
      "0\n",
      "\n",
      "except\n",
      "0\n",
      "\n",
      "except\n",
      "0\n",
      "\n",
      "except\n",
      "0\n",
      "\n"
     ]
    },
    {
     "name": "stderr",
     "output_type": "stream",
     "text": [
      "\r",
      "  7%|▋         | 21/305 [30:12<6:18:50, 80.04s/it]"
     ]
    },
    {
     "name": "stdout",
     "output_type": "stream",
     "text": [
      "except\n",
      "0\n",
      "\n",
      "except\n",
      "0\n",
      "\n",
      "except\n",
      "0\n",
      "\n",
      "except\n",
      "0\n",
      "\n"
     ]
    },
    {
     "name": "stderr",
     "output_type": "stream",
     "text": [
      "\r",
      "  7%|▋         | 22/305 [31:29<6:13:24, 79.17s/it]"
     ]
    },
    {
     "name": "stdout",
     "output_type": "stream",
     "text": [
      "except\n",
      "0\n",
      "\n",
      "except\n",
      "0\n",
      "\n",
      "except\n",
      "0\n",
      "\n",
      "except\n",
      "0\n",
      "\n"
     ]
    },
    {
     "name": "stderr",
     "output_type": "stream",
     "text": [
      "\r",
      "  8%|▊         | 23/305 [32:46<6:08:01, 78.30s/it]"
     ]
    },
    {
     "name": "stdout",
     "output_type": "stream",
     "text": [
      "except\n",
      "0\n",
      "\n",
      "except\n",
      "0\n",
      "\n",
      "except\n",
      "0\n",
      "\n",
      "except\n",
      "0\n",
      "\n"
     ]
    },
    {
     "name": "stderr",
     "output_type": "stream",
     "text": [
      "\r",
      "  8%|▊         | 24/305 [34:04<6:06:19, 78.22s/it]"
     ]
    },
    {
     "name": "stdout",
     "output_type": "stream",
     "text": [
      "except\n",
      "0\n",
      "\n",
      "except\n",
      "0\n",
      "\n",
      "except\n",
      "0\n",
      "\n",
      "except\n",
      "0\n",
      "\n"
     ]
    },
    {
     "name": "stderr",
     "output_type": "stream",
     "text": [
      "\r",
      "  8%|▊         | 25/305 [35:20<6:02:46, 77.74s/it]"
     ]
    },
    {
     "name": "stdout",
     "output_type": "stream",
     "text": [
      "except\n",
      "0\n",
      "\n",
      "except\n",
      "0\n",
      "\n",
      "except\n",
      "0\n",
      "\n",
      "except\n",
      "0\n",
      "\n"
     ]
    },
    {
     "name": "stderr",
     "output_type": "stream",
     "text": [
      "\r",
      "  9%|▊         | 26/305 [36:39<6:02:28, 77.95s/it]"
     ]
    },
    {
     "name": "stdout",
     "output_type": "stream",
     "text": [
      "except\n",
      "0\n",
      "\n",
      "except\n",
      "0\n",
      "\n",
      "except\n",
      "0\n",
      "\n",
      "except\n",
      "0\n",
      "\n"
     ]
    },
    {
     "name": "stderr",
     "output_type": "stream",
     "text": [
      "\r",
      "  9%|▉         | 27/305 [37:55<5:59:14, 77.53s/it]"
     ]
    },
    {
     "name": "stdout",
     "output_type": "stream",
     "text": [
      "except\n",
      "0\n",
      "\n",
      "except\n",
      "0\n",
      "\n",
      "except\n",
      "0\n",
      "\n",
      "except\n",
      "0\n",
      "\n"
     ]
    },
    {
     "name": "stderr",
     "output_type": "stream",
     "text": [
      "\r",
      "  9%|▉         | 28/305 [39:14<5:59:51, 77.95s/it]"
     ]
    },
    {
     "name": "stdout",
     "output_type": "stream",
     "text": [
      "except\n",
      "0\n",
      "\n",
      "except\n",
      "0\n",
      "\n",
      "except\n",
      "0\n",
      "\n",
      "except\n",
      "0\n",
      "\n"
     ]
    },
    {
     "name": "stderr",
     "output_type": "stream",
     "text": [
      "\r",
      " 10%|▉         | 29/305 [40:43<6:13:17, 81.15s/it]"
     ]
    },
    {
     "name": "stdout",
     "output_type": "stream",
     "text": [
      "except\n",
      "0\n",
      "\n",
      "except\n",
      "0\n",
      "\n",
      "except\n",
      "0\n",
      "\n",
      "except\n",
      "0\n",
      "\n"
     ]
    },
    {
     "name": "stderr",
     "output_type": "stream",
     "text": [
      "\r",
      " 10%|▉         | 30/305 [42:03<6:10:00, 80.73s/it]"
     ]
    },
    {
     "name": "stdout",
     "output_type": "stream",
     "text": [
      "except\n",
      "0\n",
      "\n",
      "except\n",
      "0\n",
      "\n",
      "except\n",
      "0\n",
      "\n",
      "except\n",
      "0\n",
      "\n"
     ]
    },
    {
     "name": "stderr",
     "output_type": "stream",
     "text": [
      "\r",
      " 10%|█         | 31/305 [43:21<6:06:06, 80.17s/it]"
     ]
    },
    {
     "name": "stdout",
     "output_type": "stream",
     "text": [
      "except\n",
      "0\n",
      "\n",
      "except\n",
      "0\n",
      "\n",
      "except\n",
      "0\n",
      "\n",
      "except\n",
      "0\n",
      "\n"
     ]
    },
    {
     "name": "stderr",
     "output_type": "stream",
     "text": [
      "\r",
      " 10%|█         | 32/305 [44:57<6:26:22, 84.92s/it]"
     ]
    },
    {
     "name": "stdout",
     "output_type": "stream",
     "text": [
      "except\n",
      "0\n",
      "\n",
      "except\n",
      "0\n",
      "\n",
      "except\n",
      "0\n",
      "\n",
      "except\n",
      "0\n",
      "\n"
     ]
    },
    {
     "name": "stderr",
     "output_type": "stream",
     "text": [
      "\r",
      " 11%|█         | 33/305 [46:27<6:31:18, 86.32s/it]"
     ]
    },
    {
     "name": "stdout",
     "output_type": "stream",
     "text": [
      "except\n",
      "0\n",
      "\n",
      "except\n",
      "0\n",
      "\n",
      "except\n",
      "0\n",
      "\n",
      "except\n",
      "0\n",
      "\n"
     ]
    },
    {
     "name": "stderr",
     "output_type": "stream",
     "text": [
      "\r",
      " 11%|█         | 34/305 [47:45<6:19:08, 83.94s/it]"
     ]
    },
    {
     "name": "stdout",
     "output_type": "stream",
     "text": [
      "except\n",
      "0\n",
      "\n",
      "except\n",
      "0\n",
      "\n",
      "except\n",
      "0\n",
      "\n",
      "except\n",
      "0\n",
      "\n"
     ]
    },
    {
     "name": "stderr",
     "output_type": "stream",
     "text": [
      "\r",
      " 11%|█▏        | 35/305 [49:11<6:20:00, 84.45s/it]"
     ]
    },
    {
     "name": "stdout",
     "output_type": "stream",
     "text": [
      "except\n",
      "0\n",
      "\n",
      "except\n",
      "0\n",
      "\n",
      "except\n",
      "0\n",
      "\n",
      "except\n",
      "0\n",
      "\n"
     ]
    },
    {
     "name": "stderr",
     "output_type": "stream",
     "text": [
      "\r",
      " 12%|█▏        | 36/305 [50:43<6:28:52, 86.74s/it]"
     ]
    },
    {
     "name": "stdout",
     "output_type": "stream",
     "text": [
      "except\n",
      "0\n",
      "\n",
      "except\n",
      "0\n",
      "\n",
      "except\n",
      "0\n",
      "\n",
      "except\n",
      "0\n",
      "\n"
     ]
    },
    {
     "name": "stderr",
     "output_type": "stream",
     "text": [
      "\r",
      " 12%|█▏        | 37/305 [52:02<6:16:26, 84.28s/it]"
     ]
    },
    {
     "name": "stdout",
     "output_type": "stream",
     "text": [
      "except\n",
      "0\n",
      "\n",
      "except\n",
      "0\n",
      "\n",
      "except\n",
      "0\n",
      "\n",
      "except\n",
      "0\n",
      "\n"
     ]
    },
    {
     "name": "stderr",
     "output_type": "stream",
     "text": [
      "\r",
      " 12%|█▏        | 38/305 [53:30<6:20:38, 85.54s/it]"
     ]
    },
    {
     "name": "stdout",
     "output_type": "stream",
     "text": [
      "except\n",
      "0\n",
      "\n",
      "except\n",
      "0\n",
      "\n",
      "except\n",
      "0\n",
      "\n",
      "except\n",
      "0\n",
      "\n"
     ]
    },
    {
     "name": "stderr",
     "output_type": "stream",
     "text": [
      "\r",
      " 13%|█▎        | 39/305 [54:51<6:12:53, 84.11s/it]"
     ]
    },
    {
     "name": "stdout",
     "output_type": "stream",
     "text": [
      "except\n",
      "0\n",
      "\n",
      "except\n",
      "0\n",
      "\n",
      "except\n",
      "0\n",
      "\n",
      "except\n",
      "0\n",
      "\n"
     ]
    },
    {
     "name": "stderr",
     "output_type": "stream",
     "text": [
      "\r",
      " 13%|█▎        | 40/305 [56:10<6:04:49, 82.60s/it]"
     ]
    },
    {
     "name": "stdout",
     "output_type": "stream",
     "text": [
      "except\n",
      "0\n",
      "\n",
      "except\n",
      "0\n",
      "\n",
      "except\n",
      "0\n",
      "\n",
      "except\n",
      "0\n",
      "\n"
     ]
    },
    {
     "name": "stderr",
     "output_type": "stream",
     "text": [
      "\r",
      " 13%|█▎        | 41/305 [57:29<5:58:08, 81.40s/it]"
     ]
    },
    {
     "name": "stdout",
     "output_type": "stream",
     "text": [
      "except\n",
      "0\n",
      "\n",
      "except\n",
      "0\n",
      "\n",
      "except\n",
      "0\n",
      "\n",
      "except\n",
      "0\n",
      "\n"
     ]
    },
    {
     "name": "stderr",
     "output_type": "stream",
     "text": [
      "\r",
      " 14%|█▍        | 42/305 [58:50<5:56:50, 81.41s/it]"
     ]
    },
    {
     "name": "stdout",
     "output_type": "stream",
     "text": [
      "except\n",
      "0\n",
      "\n",
      "except\n",
      "0\n",
      "\n",
      "except\n",
      "0\n",
      "\n",
      "except\n",
      "0\n",
      "\n"
     ]
    },
    {
     "name": "stderr",
     "output_type": "stream",
     "text": [
      "\r",
      " 14%|█▍        | 43/305 [1:00:34<6:25:37, 88.31s/it]"
     ]
    },
    {
     "name": "stdout",
     "output_type": "stream",
     "text": [
      "except\n",
      "0\n",
      "\n",
      "except\n",
      "0\n",
      "\n",
      "except\n",
      "0\n",
      "\n",
      "except\n",
      "0\n",
      "\n"
     ]
    },
    {
     "name": "stderr",
     "output_type": "stream",
     "text": [
      "\r",
      " 14%|█▍        | 44/305 [1:01:54<6:13:01, 85.75s/it]"
     ]
    },
    {
     "name": "stdout",
     "output_type": "stream",
     "text": [
      "except\n",
      "0\n",
      "\n",
      "except\n",
      "0\n",
      "\n",
      "except\n",
      "0\n",
      "\n",
      "except\n",
      "0\n",
      "\n"
     ]
    },
    {
     "name": "stderr",
     "output_type": "stream",
     "text": [
      "\r",
      " 15%|█▍        | 45/305 [1:03:23<6:15:54, 86.75s/it]"
     ]
    },
    {
     "name": "stdout",
     "output_type": "stream",
     "text": [
      "except\n",
      "0\n",
      "\n",
      "except\n",
      "0\n",
      "\n",
      "except\n",
      "0\n",
      "\n",
      "except\n",
      "0\n",
      "\n"
     ]
    },
    {
     "name": "stderr",
     "output_type": "stream",
     "text": [
      "\r",
      " 15%|█▌        | 46/305 [1:04:49<6:13:08, 86.44s/it]"
     ]
    },
    {
     "name": "stdout",
     "output_type": "stream",
     "text": [
      "except\n",
      "0\n",
      "\n",
      "except\n",
      "0\n",
      "\n",
      "except\n",
      "0\n",
      "\n",
      "except\n",
      "0\n",
      "\n"
     ]
    },
    {
     "name": "stderr",
     "output_type": "stream",
     "text": [
      "\r",
      " 15%|█▌        | 47/305 [1:06:06<5:59:32, 83.61s/it]"
     ]
    },
    {
     "name": "stdout",
     "output_type": "stream",
     "text": [
      "except\n",
      "0\n",
      "\n",
      "except\n",
      "0\n",
      "\n",
      "except\n",
      "0\n",
      "\n",
      "except\n",
      "0\n",
      "\n"
     ]
    },
    {
     "name": "stderr",
     "output_type": "stream",
     "text": [
      "\r",
      " 16%|█▌        | 48/305 [1:07:26<5:52:54, 82.39s/it]"
     ]
    },
    {
     "name": "stdout",
     "output_type": "stream",
     "text": [
      "except\n",
      "0\n",
      "\n",
      "except\n",
      "0\n",
      "\n",
      "except\n",
      "0\n",
      "\n",
      "except\n",
      "0\n",
      "\n"
     ]
    },
    {
     "name": "stderr",
     "output_type": "stream",
     "text": [
      "\r",
      " 16%|█▌        | 49/305 [1:09:12<6:22:45, 89.71s/it]"
     ]
    },
    {
     "name": "stdout",
     "output_type": "stream",
     "text": [
      "except\n",
      "0\n",
      "\n",
      "except\n",
      "0\n",
      "\n",
      "except\n",
      "0\n",
      "\n",
      "except\n",
      "0\n",
      "\n"
     ]
    },
    {
     "name": "stderr",
     "output_type": "stream",
     "text": [
      "\r",
      " 16%|█▋        | 50/305 [1:10:33<6:10:11, 87.10s/it]"
     ]
    },
    {
     "name": "stdout",
     "output_type": "stream",
     "text": [
      "except\n",
      "0\n",
      "\n",
      "except\n",
      "0\n",
      "\n",
      "except\n",
      "0\n",
      "\n",
      "except\n",
      "0\n",
      "\n"
     ]
    },
    {
     "name": "stderr",
     "output_type": "stream",
     "text": [
      "\r",
      " 17%|█▋        | 51/305 [1:11:54<6:01:08, 85.31s/it]"
     ]
    },
    {
     "name": "stdout",
     "output_type": "stream",
     "text": [
      "except\n",
      "0\n",
      "\n",
      "except\n",
      "0\n",
      "\n",
      "except\n",
      "0\n",
      "\n",
      "except\n",
      "0\n",
      "\n"
     ]
    },
    {
     "name": "stderr",
     "output_type": "stream",
     "text": [
      "\r",
      " 17%|█▋        | 52/305 [1:13:12<5:49:56, 82.99s/it]"
     ]
    },
    {
     "name": "stdout",
     "output_type": "stream",
     "text": [
      "except\n",
      "0\n",
      "\n",
      "except\n",
      "0\n",
      "\n",
      "except\n",
      "0\n",
      "\n",
      "except\n",
      "0\n",
      "\n"
     ]
    },
    {
     "name": "stderr",
     "output_type": "stream",
     "text": [
      "\r",
      " 17%|█▋        | 53/305 [1:14:34<5:47:42, 82.79s/it]"
     ]
    },
    {
     "name": "stdout",
     "output_type": "stream",
     "text": [
      "except\n",
      "0\n",
      "\n",
      "except\n",
      "0\n",
      "\n",
      "except\n",
      "0\n",
      "\n",
      "except\n",
      "0\n",
      "\n"
     ]
    },
    {
     "name": "stderr",
     "output_type": "stream",
     "text": [
      "\r",
      " 18%|█▊        | 54/305 [1:15:51<5:39:07, 81.07s/it]"
     ]
    },
    {
     "name": "stdout",
     "output_type": "stream",
     "text": [
      "except\n",
      "0\n",
      "\n",
      "except\n",
      "0\n",
      "\n",
      "except\n",
      "0\n",
      "\n",
      "except\n",
      "0\n",
      "\n"
     ]
    },
    {
     "name": "stderr",
     "output_type": "stream",
     "text": [
      "\r",
      " 18%|█▊        | 55/305 [1:17:12<5:37:30, 81.00s/it]"
     ]
    },
    {
     "name": "stdout",
     "output_type": "stream",
     "text": [
      "except\n",
      "0\n",
      "\n",
      "except\n",
      "0\n",
      "\n",
      "except\n",
      "0\n",
      "\n",
      "except\n",
      "0\n",
      "\n"
     ]
    },
    {
     "name": "stderr",
     "output_type": "stream",
     "text": [
      "\r",
      " 18%|█▊        | 56/305 [1:18:32<5:34:31, 80.61s/it]"
     ]
    },
    {
     "name": "stdout",
     "output_type": "stream",
     "text": [
      "except\n",
      "0\n",
      "\n",
      "except\n",
      "0\n",
      "\n",
      "except\n",
      "0\n",
      "\n",
      "except\n",
      "0\n",
      "\n"
     ]
    },
    {
     "name": "stderr",
     "output_type": "stream",
     "text": [
      "\r",
      " 19%|█▊        | 57/305 [1:20:07<5:51:11, 84.97s/it]"
     ]
    },
    {
     "name": "stdout",
     "output_type": "stream",
     "text": [
      "except\n",
      "0\n",
      "\n",
      "except\n",
      "0\n",
      "\n",
      "except\n",
      "0\n",
      "\n",
      "except\n",
      "0\n",
      "\n"
     ]
    },
    {
     "name": "stderr",
     "output_type": "stream",
     "text": [
      "\r",
      " 19%|█▉        | 58/305 [1:21:28<5:44:46, 83.75s/it]"
     ]
    },
    {
     "name": "stdout",
     "output_type": "stream",
     "text": [
      "except\n",
      "0\n",
      "\n",
      "except\n",
      "0\n",
      "\n",
      "except\n",
      "0\n",
      "\n",
      "except\n",
      "0\n",
      "\n"
     ]
    },
    {
     "name": "stderr",
     "output_type": "stream",
     "text": [
      "\r",
      " 19%|█▉        | 59/305 [1:22:49<5:39:41, 82.85s/it]"
     ]
    },
    {
     "name": "stdout",
     "output_type": "stream",
     "text": [
      "except\n",
      "0\n",
      "\n",
      "except\n",
      "0\n",
      "\n",
      "except\n",
      "0\n",
      "\n",
      "except\n",
      "0\n",
      "\n"
     ]
    },
    {
     "name": "stderr",
     "output_type": "stream",
     "text": [
      "\r",
      " 20%|█▉        | 60/305 [1:24:06<5:31:10, 81.10s/it]"
     ]
    },
    {
     "name": "stdout",
     "output_type": "stream",
     "text": [
      "except\n",
      "0\n",
      "\n",
      "except\n",
      "0\n",
      "\n",
      "except\n",
      "0\n",
      "\n",
      "except\n",
      "0\n",
      "\n"
     ]
    },
    {
     "name": "stderr",
     "output_type": "stream",
     "text": [
      "\r",
      " 20%|██        | 61/305 [1:25:30<5:33:24, 81.99s/it]"
     ]
    },
    {
     "name": "stdout",
     "output_type": "stream",
     "text": [
      "except\n",
      "0\n",
      "\n",
      "except\n",
      "0\n",
      "\n",
      "except\n",
      "0\n",
      "\n",
      "except\n",
      "0\n",
      "\n"
     ]
    },
    {
     "name": "stderr",
     "output_type": "stream",
     "text": [
      "\r",
      " 20%|██        | 62/305 [1:27:08<5:51:23, 86.76s/it]"
     ]
    },
    {
     "name": "stdout",
     "output_type": "stream",
     "text": [
      "except\n",
      "0\n",
      "\n",
      "except\n",
      "0\n",
      "\n",
      "except\n",
      "0\n",
      "\n",
      "except\n",
      "0\n",
      "\n"
     ]
    },
    {
     "name": "stderr",
     "output_type": "stream",
     "text": [
      "\r",
      " 21%|██        | 63/305 [1:28:27<5:40:33, 84.43s/it]"
     ]
    },
    {
     "name": "stdout",
     "output_type": "stream",
     "text": [
      "except\n",
      "0\n",
      "\n",
      "except\n",
      "0\n",
      "\n",
      "except\n",
      "0\n",
      "\n",
      "except\n",
      "0\n",
      "\n"
     ]
    },
    {
     "name": "stderr",
     "output_type": "stream",
     "text": [
      "\r",
      " 21%|██        | 64/305 [1:29:53<5:40:50, 84.86s/it]"
     ]
    },
    {
     "name": "stdout",
     "output_type": "stream",
     "text": [
      "except\n",
      "0\n",
      "\n",
      "except\n",
      "0\n",
      "\n",
      "except\n",
      "0\n",
      "\n",
      "except\n",
      "0\n",
      "\n"
     ]
    },
    {
     "name": "stderr",
     "output_type": "stream",
     "text": [
      "\r",
      " 21%|██▏       | 65/305 [1:31:12<5:32:29, 83.12s/it]"
     ]
    },
    {
     "name": "stdout",
     "output_type": "stream",
     "text": [
      "except\n",
      "0\n",
      "\n",
      "except\n",
      "0\n",
      "\n",
      "except\n",
      "0\n",
      "\n",
      "except\n",
      "0\n",
      "\n"
     ]
    },
    {
     "name": "stderr",
     "output_type": "stream",
     "text": [
      "\r",
      " 22%|██▏       | 66/305 [1:32:43<5:41:02, 85.62s/it]"
     ]
    },
    {
     "name": "stdout",
     "output_type": "stream",
     "text": [
      "except\n",
      "0\n",
      "\n",
      "except\n",
      "0\n",
      "\n",
      "except\n",
      "0\n",
      "\n",
      "except\n",
      "0\n",
      "\n"
     ]
    },
    {
     "name": "stderr",
     "output_type": "stream",
     "text": [
      "\r",
      " 22%|██▏       | 67/305 [1:34:01<5:30:40, 83.36s/it]"
     ]
    },
    {
     "name": "stdout",
     "output_type": "stream",
     "text": [
      "except\n",
      "0\n",
      "\n",
      "except\n",
      "0\n",
      "\n",
      "except\n",
      "0\n",
      "\n",
      "except\n",
      "0\n",
      "\n"
     ]
    },
    {
     "name": "stderr",
     "output_type": "stream",
     "text": [
      "\r",
      " 22%|██▏       | 68/305 [1:35:24<5:28:40, 83.21s/it]"
     ]
    },
    {
     "name": "stdout",
     "output_type": "stream",
     "text": [
      "except\n",
      "0\n",
      "\n",
      "except\n",
      "0\n",
      "\n",
      "except\n",
      "0\n",
      "\n",
      "except\n",
      "0\n",
      "\n"
     ]
    },
    {
     "name": "stderr",
     "output_type": "stream",
     "text": [
      "\r",
      " 23%|██▎       | 69/305 [1:36:41<5:19:27, 81.22s/it]"
     ]
    },
    {
     "name": "stdout",
     "output_type": "stream",
     "text": [
      "except\n",
      "0\n",
      "\n",
      "except\n",
      "0\n",
      "\n",
      "except\n",
      "0\n",
      "\n",
      "except\n",
      "0\n",
      "\n"
     ]
    },
    {
     "name": "stderr",
     "output_type": "stream",
     "text": [
      "\r",
      " 23%|██▎       | 70/305 [1:37:59<5:14:19, 80.26s/it]"
     ]
    },
    {
     "name": "stdout",
     "output_type": "stream",
     "text": [
      "except\n",
      "0\n",
      "\n",
      "except\n",
      "0\n",
      "\n",
      "except\n",
      "0\n",
      "\n",
      "except\n",
      "0\n",
      "\n"
     ]
    },
    {
     "name": "stderr",
     "output_type": "stream",
     "text": [
      "\r",
      " 23%|██▎       | 71/305 [1:39:36<5:33:10, 85.43s/it]"
     ]
    },
    {
     "name": "stdout",
     "output_type": "stream",
     "text": [
      "except\n",
      "0\n",
      "\n",
      "except\n",
      "0\n",
      "\n",
      "except\n",
      "0\n",
      "\n",
      "except\n",
      "0\n",
      "\n"
     ]
    },
    {
     "name": "stderr",
     "output_type": "stream",
     "text": [
      "\r",
      " 24%|██▎       | 72/305 [1:41:10<5:41:09, 87.85s/it]"
     ]
    },
    {
     "name": "stdout",
     "output_type": "stream",
     "text": [
      "except\n",
      "0\n",
      "\n",
      "except\n",
      "0\n",
      "\n",
      "except\n",
      "0\n",
      "\n",
      "except\n",
      "0\n",
      "\n"
     ]
    },
    {
     "name": "stderr",
     "output_type": "stream",
     "text": [
      "\r",
      " 24%|██▍       | 73/305 [1:42:28<5:28:50, 85.05s/it]"
     ]
    },
    {
     "name": "stdout",
     "output_type": "stream",
     "text": [
      "except\n",
      "0\n",
      "\n",
      "except\n",
      "0\n",
      "\n",
      "except\n",
      "0\n",
      "\n",
      "except\n",
      "0\n",
      "\n"
     ]
    },
    {
     "name": "stderr",
     "output_type": "stream",
     "text": [
      "\r",
      " 24%|██▍       | 74/305 [1:43:58<5:33:34, 86.64s/it]"
     ]
    },
    {
     "name": "stdout",
     "output_type": "stream",
     "text": [
      "except\n",
      "0\n",
      "\n",
      "except\n",
      "0\n",
      "\n",
      "except\n",
      "0\n",
      "\n",
      "except\n",
      "0\n",
      "\n"
     ]
    },
    {
     "name": "stderr",
     "output_type": "stream",
     "text": [
      "\r",
      " 25%|██▍       | 75/305 [1:45:19<5:25:09, 84.82s/it]"
     ]
    },
    {
     "name": "stdout",
     "output_type": "stream",
     "text": [
      "except\n",
      "0\n",
      "\n",
      "except\n",
      "0\n",
      "\n",
      "except\n",
      "0\n",
      "\n",
      "except\n",
      "0\n",
      "\n"
     ]
    },
    {
     "name": "stderr",
     "output_type": "stream",
     "text": [
      "\r",
      " 25%|██▍       | 76/305 [1:46:49<5:29:02, 86.21s/it]"
     ]
    },
    {
     "name": "stdout",
     "output_type": "stream",
     "text": [
      "except\n",
      "0\n",
      "\n",
      "except\n",
      "0\n",
      "\n",
      "except\n",
      "0\n",
      "\n",
      "except\n",
      "0\n",
      "\n"
     ]
    },
    {
     "name": "stderr",
     "output_type": "stream",
     "text": [
      "\r",
      " 25%|██▌       | 77/305 [1:48:09<5:20:38, 84.38s/it]"
     ]
    },
    {
     "name": "stdout",
     "output_type": "stream",
     "text": [
      "except\n",
      "0\n",
      "\n",
      "except\n",
      "0\n",
      "\n",
      "except\n",
      "0\n",
      "\n",
      "except\n",
      "0\n",
      "\n"
     ]
    },
    {
     "name": "stderr",
     "output_type": "stream",
     "text": [
      "\r",
      " 26%|██▌       | 78/305 [1:49:33<5:19:33, 84.46s/it]"
     ]
    },
    {
     "name": "stdout",
     "output_type": "stream",
     "text": [
      "except\n",
      "0\n",
      "\n",
      "except\n",
      "0\n",
      "\n",
      "except\n",
      "0\n",
      "\n",
      "except\n",
      "0\n",
      "\n"
     ]
    },
    {
     "name": "stderr",
     "output_type": "stream",
     "text": [
      "\r",
      " 26%|██▌       | 79/305 [1:50:55<5:14:32, 83.50s/it]"
     ]
    },
    {
     "name": "stdout",
     "output_type": "stream",
     "text": [
      "except\n",
      "0\n",
      "\n",
      "except\n",
      "0\n",
      "\n",
      "except\n",
      "0\n",
      "\n",
      "except\n",
      "0\n",
      "\n"
     ]
    },
    {
     "name": "stderr",
     "output_type": "stream",
     "text": [
      "\r",
      " 26%|██▌       | 80/305 [1:52:13<5:07:57, 82.12s/it]"
     ]
    },
    {
     "name": "stdout",
     "output_type": "stream",
     "text": [
      "except\n",
      "0\n",
      "\n",
      "except\n",
      "0\n",
      "\n",
      "except\n",
      "0\n",
      "\n",
      "except\n",
      "0\n",
      "\n"
     ]
    },
    {
     "name": "stderr",
     "output_type": "stream",
     "text": [
      "\r",
      " 27%|██▋       | 81/305 [1:53:36<5:06:38, 82.14s/it]"
     ]
    },
    {
     "name": "stdout",
     "output_type": "stream",
     "text": [
      "except\n",
      "0\n",
      "\n",
      "except\n",
      "0\n",
      "\n",
      "except\n",
      "0\n",
      "\n",
      "except\n",
      "0\n",
      "\n"
     ]
    },
    {
     "name": "stderr",
     "output_type": "stream",
     "text": [
      "\r",
      " 27%|██▋       | 82/305 [1:54:58<5:05:33, 82.21s/it]"
     ]
    },
    {
     "name": "stdout",
     "output_type": "stream",
     "text": [
      "except\n",
      "0\n",
      "\n",
      "except\n",
      "0\n",
      "\n",
      "except\n",
      "0\n",
      "\n",
      "except\n",
      "0\n",
      "\n"
     ]
    },
    {
     "name": "stderr",
     "output_type": "stream",
     "text": [
      "\r",
      " 27%|██▋       | 83/305 [1:56:18<5:02:07, 81.66s/it]"
     ]
    },
    {
     "name": "stdout",
     "output_type": "stream",
     "text": [
      "except\n",
      "0\n",
      "\n",
      "except\n",
      "0\n",
      "\n",
      "except\n",
      "0\n",
      "\n",
      "except\n",
      "0\n",
      "\n"
     ]
    },
    {
     "name": "stderr",
     "output_type": "stream",
     "text": [
      "\r",
      " 28%|██▊       | 84/305 [1:57:38<4:59:00, 81.18s/it]"
     ]
    },
    {
     "name": "stdout",
     "output_type": "stream",
     "text": [
      "except\n",
      "0\n",
      "\n",
      "except\n",
      "0\n",
      "\n",
      "except\n",
      "0\n",
      "\n",
      "except\n",
      "0\n",
      "\n"
     ]
    },
    {
     "name": "stderr",
     "output_type": "stream",
     "text": [
      "\r",
      " 28%|██▊       | 85/305 [1:58:56<4:53:46, 80.12s/it]"
     ]
    },
    {
     "name": "stdout",
     "output_type": "stream",
     "text": [
      "except\n",
      "0\n",
      "\n",
      "except\n",
      "0\n",
      "\n",
      "except\n",
      "0\n",
      "\n",
      "except\n",
      "0\n",
      "\n"
     ]
    },
    {
     "name": "stderr",
     "output_type": "stream",
     "text": [
      "\r",
      " 28%|██▊       | 86/305 [2:00:15<4:51:03, 79.74s/it]"
     ]
    },
    {
     "name": "stdout",
     "output_type": "stream",
     "text": [
      "except\n",
      "0\n",
      "\n",
      "except\n",
      "0\n",
      "\n",
      "except\n",
      "0\n",
      "\n",
      "except\n",
      "0\n",
      "\n"
     ]
    },
    {
     "name": "stderr",
     "output_type": "stream",
     "text": [
      "\r",
      " 29%|██▊       | 87/305 [2:01:53<5:09:45, 85.25s/it]"
     ]
    },
    {
     "name": "stdout",
     "output_type": "stream",
     "text": [
      "except\n",
      "0\n",
      "\n",
      "except\n",
      "0\n",
      "\n",
      "except\n",
      "0\n",
      "\n",
      "except\n",
      "0\n",
      "\n"
     ]
    },
    {
     "name": "stderr",
     "output_type": "stream",
     "text": [
      "\r",
      " 29%|██▉       | 88/305 [2:03:11<5:00:55, 83.20s/it]"
     ]
    },
    {
     "name": "stdout",
     "output_type": "stream",
     "text": [
      "except\n",
      "0\n",
      "\n",
      "except\n",
      "0\n",
      "\n",
      "except\n",
      "0\n",
      "\n",
      "except\n",
      "0\n",
      "\n"
     ]
    },
    {
     "name": "stderr",
     "output_type": "stream",
     "text": [
      "\r",
      " 29%|██▉       | 89/305 [2:04:39<5:04:30, 84.59s/it]"
     ]
    },
    {
     "name": "stdout",
     "output_type": "stream",
     "text": [
      "except\n",
      "0\n",
      "\n",
      "except\n",
      "0\n",
      "\n",
      "except\n",
      "0\n",
      "\n",
      "except\n",
      "0\n",
      "\n"
     ]
    },
    {
     "name": "stderr",
     "output_type": "stream",
     "text": [
      "\r",
      " 30%|██▉       | 90/305 [2:05:58<4:56:49, 82.83s/it]"
     ]
    },
    {
     "name": "stdout",
     "output_type": "stream",
     "text": [
      "except\n",
      "0\n",
      "\n",
      "except\n",
      "0\n",
      "\n",
      "except\n",
      "0\n",
      "\n",
      "except\n",
      "0\n",
      "\n"
     ]
    },
    {
     "name": "stderr",
     "output_type": "stream",
     "text": [
      "\r",
      " 30%|██▉       | 91/305 [2:07:16<4:50:26, 81.43s/it]"
     ]
    },
    {
     "name": "stdout",
     "output_type": "stream",
     "text": [
      "except\n",
      "0\n",
      "\n",
      "except\n",
      "0\n",
      "\n",
      "except\n",
      "0\n",
      "\n",
      "except\n",
      "0\n",
      "\n"
     ]
    },
    {
     "name": "stderr",
     "output_type": "stream",
     "text": [
      "\r",
      " 30%|███       | 92/305 [2:08:51<5:03:46, 85.57s/it]"
     ]
    },
    {
     "name": "stdout",
     "output_type": "stream",
     "text": [
      "except\n",
      "0\n",
      "\n",
      "except\n",
      "0\n",
      "\n",
      "except\n",
      "0\n",
      "\n",
      "except\n",
      "0\n",
      "\n"
     ]
    },
    {
     "name": "stderr",
     "output_type": "stream",
     "text": [
      "\r",
      " 30%|███       | 93/305 [2:10:10<4:55:03, 83.51s/it]"
     ]
    },
    {
     "name": "stdout",
     "output_type": "stream",
     "text": [
      "except\n",
      "0\n",
      "\n",
      "except\n",
      "0\n",
      "\n",
      "except\n",
      "0\n",
      "\n",
      "except\n",
      "0\n",
      "\n"
     ]
    },
    {
     "name": "stderr",
     "output_type": "stream",
     "text": [
      "\r",
      " 31%|███       | 94/305 [2:11:57<5:18:22, 90.53s/it]"
     ]
    },
    {
     "name": "stdout",
     "output_type": "stream",
     "text": [
      "except\n",
      "0\n",
      "\n",
      "except\n",
      "0\n",
      "\n",
      "except\n",
      "0\n",
      "\n",
      "except\n",
      "0\n",
      "\n"
     ]
    },
    {
     "name": "stderr",
     "output_type": "stream",
     "text": [
      "\r",
      " 31%|███       | 95/305 [2:13:48<5:38:47, 96.80s/it]"
     ]
    },
    {
     "name": "stdout",
     "output_type": "stream",
     "text": [
      "except\n",
      "0\n",
      "\n",
      "except\n",
      "0\n",
      "\n",
      "except\n",
      "0\n",
      "\n",
      "except\n",
      "0\n",
      "\n"
     ]
    },
    {
     "name": "stderr",
     "output_type": "stream",
     "text": [
      "\r",
      " 31%|███▏      | 96/305 [2:15:06<5:17:21, 91.11s/it]"
     ]
    },
    {
     "name": "stdout",
     "output_type": "stream",
     "text": [
      "except\n",
      "0\n",
      "\n",
      "except\n",
      "0\n",
      "\n",
      "except\n",
      "0\n",
      "\n",
      "except\n",
      "0\n",
      "\n"
     ]
    },
    {
     "name": "stderr",
     "output_type": "stream",
     "text": [
      "\r",
      " 32%|███▏      | 97/305 [2:16:26<5:03:33, 87.56s/it]"
     ]
    },
    {
     "name": "stdout",
     "output_type": "stream",
     "text": [
      "except\n",
      "0\n",
      "\n",
      "except\n",
      "0\n",
      "\n",
      "except\n",
      "0\n",
      "\n",
      "except\n",
      "0\n",
      "\n"
     ]
    },
    {
     "name": "stderr",
     "output_type": "stream",
     "text": [
      "\r",
      " 32%|███▏      | 98/305 [2:17:49<4:57:27, 86.22s/it]"
     ]
    },
    {
     "name": "stdout",
     "output_type": "stream",
     "text": [
      "except\n",
      "0\n",
      "\n",
      "except\n",
      "0\n",
      "\n",
      "except\n",
      "0\n",
      "\n",
      "except\n",
      "0\n",
      "\n"
     ]
    },
    {
     "name": "stderr",
     "output_type": "stream",
     "text": [
      "\r",
      " 32%|███▏      | 99/305 [2:19:15<4:56:32, 86.37s/it]"
     ]
    },
    {
     "name": "stdout",
     "output_type": "stream",
     "text": [
      "except\n",
      "0\n",
      "\n",
      "except\n",
      "0\n",
      "\n",
      "except\n",
      "0\n",
      "\n",
      "except\n",
      "0\n",
      "\n"
     ]
    },
    {
     "name": "stderr",
     "output_type": "stream",
     "text": [
      "\r",
      " 33%|███▎      | 100/305 [2:20:41<4:54:18, 86.14s/it]"
     ]
    },
    {
     "name": "stdout",
     "output_type": "stream",
     "text": [
      "except\n",
      "0\n",
      "\n",
      "except\n",
      "0\n",
      "\n",
      "except\n",
      "0\n",
      "\n",
      "except\n",
      "0\n",
      "\n"
     ]
    },
    {
     "name": "stderr",
     "output_type": "stream",
     "text": [
      "\r",
      " 33%|███▎      | 101/305 [2:21:59<4:44:08, 83.57s/it]"
     ]
    },
    {
     "name": "stdout",
     "output_type": "stream",
     "text": [
      "except\n",
      "0\n",
      "\n",
      "except\n",
      "0\n",
      "\n",
      "except\n",
      "0\n",
      "\n",
      "except\n",
      "0\n",
      "\n"
     ]
    },
    {
     "name": "stderr",
     "output_type": "stream",
     "text": [
      "\r",
      " 33%|███▎      | 102/305 [2:23:15<4:35:36, 81.46s/it]"
     ]
    },
    {
     "name": "stdout",
     "output_type": "stream",
     "text": [
      "except\n",
      "0\n",
      "\n",
      "except\n",
      "0\n",
      "\n",
      "except\n",
      "0\n",
      "\n",
      "except\n",
      "0\n",
      "\n"
     ]
    },
    {
     "name": "stderr",
     "output_type": "stream",
     "text": [
      "\r",
      " 34%|███▍      | 103/305 [2:24:34<4:31:25, 80.62s/it]"
     ]
    },
    {
     "name": "stdout",
     "output_type": "stream",
     "text": [
      "except\n",
      "0\n",
      "\n",
      "except\n",
      "0\n",
      "\n",
      "except\n",
      "0\n",
      "\n",
      "except\n",
      "0\n",
      "\n"
     ]
    },
    {
     "name": "stderr",
     "output_type": "stream",
     "text": [
      "\r",
      " 34%|███▍      | 104/305 [2:25:51<4:26:22, 79.52s/it]"
     ]
    },
    {
     "name": "stdout",
     "output_type": "stream",
     "text": [
      "except\n",
      "0\n",
      "\n",
      "except\n",
      "0\n",
      "\n",
      "except\n",
      "0\n",
      "\n",
      "except\n",
      "0\n",
      "\n"
     ]
    },
    {
     "name": "stderr",
     "output_type": "stream",
     "text": [
      "\r",
      " 34%|███▍      | 105/305 [2:27:06<4:20:40, 78.20s/it]"
     ]
    },
    {
     "name": "stdout",
     "output_type": "stream",
     "text": [
      "except\n",
      "0\n",
      "\n",
      "except\n",
      "0\n",
      "\n",
      "except\n",
      "0\n",
      "\n",
      "except\n",
      "0\n",
      "\n"
     ]
    },
    {
     "name": "stderr",
     "output_type": "stream",
     "text": [
      "\r",
      " 35%|███▍      | 106/305 [2:28:20<4:15:08, 76.93s/it]"
     ]
    },
    {
     "name": "stdout",
     "output_type": "stream",
     "text": [
      "except\n",
      "0\n",
      "\n",
      "except\n",
      "0\n",
      "\n",
      "except\n",
      "0\n",
      "\n",
      "except\n",
      "0\n",
      "\n"
     ]
    },
    {
     "name": "stderr",
     "output_type": "stream",
     "text": [
      "\r",
      " 35%|███▌      | 107/305 [2:29:56<4:32:46, 82.66s/it]"
     ]
    },
    {
     "name": "stdout",
     "output_type": "stream",
     "text": [
      "except\n",
      "0\n",
      "\n",
      "except\n",
      "0\n",
      "\n",
      "except\n",
      "0\n",
      "\n",
      "except\n",
      "0\n",
      "\n"
     ]
    },
    {
     "name": "stderr",
     "output_type": "stream",
     "text": [
      "\r",
      " 35%|███▌      | 108/305 [2:31:13<4:26:20, 81.12s/it]"
     ]
    },
    {
     "name": "stdout",
     "output_type": "stream",
     "text": [
      "except\n",
      "0\n",
      "\n",
      "except\n",
      "0\n",
      "\n",
      "except\n",
      "0\n",
      "\n",
      "except\n",
      "0\n",
      "\n"
     ]
    },
    {
     "name": "stderr",
     "output_type": "stream",
     "text": [
      "\r",
      " 36%|███▌      | 109/305 [2:32:46<4:36:41, 84.70s/it]"
     ]
    },
    {
     "name": "stdout",
     "output_type": "stream",
     "text": [
      "except\n",
      "0\n",
      "\n",
      "except\n",
      "0\n",
      "\n",
      "except\n",
      "0\n",
      "\n",
      "except\n",
      "0\n",
      "\n"
     ]
    },
    {
     "name": "stderr",
     "output_type": "stream",
     "text": [
      "\r",
      " 36%|███▌      | 110/305 [2:34:21<4:45:11, 87.75s/it]"
     ]
    },
    {
     "name": "stdout",
     "output_type": "stream",
     "text": [
      "except\n",
      "0\n",
      "\n",
      "except\n",
      "0\n",
      "\n",
      "except\n",
      "0\n",
      "\n",
      "except\n",
      "0\n",
      "\n"
     ]
    },
    {
     "name": "stderr",
     "output_type": "stream",
     "text": [
      "\r",
      " 36%|███▋      | 111/305 [2:35:38<4:32:35, 84.31s/it]"
     ]
    },
    {
     "name": "stdout",
     "output_type": "stream",
     "text": [
      "except\n",
      "0\n",
      "\n",
      "except\n",
      "0\n",
      "\n",
      "except\n",
      "0\n",
      "\n",
      "except\n",
      "0\n",
      "\n"
     ]
    },
    {
     "name": "stderr",
     "output_type": "stream",
     "text": [
      "\r",
      " 37%|███▋      | 112/305 [2:37:24<4:52:15, 90.86s/it]"
     ]
    },
    {
     "name": "stdout",
     "output_type": "stream",
     "text": [
      "except\n",
      "0\n",
      "\n",
      "except\n",
      "0\n",
      "\n",
      "except\n",
      "0\n",
      "\n",
      "except\n",
      "0\n",
      "\n"
     ]
    },
    {
     "name": "stderr",
     "output_type": "stream",
     "text": [
      "\r",
      " 37%|███▋      | 113/305 [2:38:42<4:38:23, 87.00s/it]"
     ]
    },
    {
     "name": "stdout",
     "output_type": "stream",
     "text": [
      "except\n",
      "0\n",
      "\n",
      "except\n",
      "0\n",
      "\n",
      "except\n",
      "0\n",
      "\n",
      "except\n",
      "0\n",
      "\n"
     ]
    },
    {
     "name": "stderr",
     "output_type": "stream",
     "text": [
      "\r",
      " 37%|███▋      | 114/305 [2:39:58<4:26:52, 83.84s/it]"
     ]
    },
    {
     "name": "stdout",
     "output_type": "stream",
     "text": [
      "except\n",
      "0\n",
      "\n",
      "except\n",
      "0\n",
      "\n",
      "except\n",
      "0\n",
      "\n",
      "except\n",
      "0\n",
      "\n"
     ]
    },
    {
     "name": "stderr",
     "output_type": "stream",
     "text": [
      "\r",
      " 38%|███▊      | 115/305 [2:41:21<4:24:45, 83.61s/it]"
     ]
    },
    {
     "name": "stdout",
     "output_type": "stream",
     "text": [
      "except\n",
      "0\n",
      "\n",
      "except\n",
      "0\n",
      "\n",
      "except\n",
      "0\n",
      "\n",
      "except\n",
      "0\n",
      "\n"
     ]
    },
    {
     "name": "stderr",
     "output_type": "stream",
     "text": [
      "\r",
      " 38%|███▊      | 116/305 [2:42:42<4:20:16, 82.63s/it]"
     ]
    },
    {
     "name": "stdout",
     "output_type": "stream",
     "text": [
      "except\n",
      "0\n",
      "\n",
      "except\n",
      "0\n",
      "\n",
      "except\n",
      "0\n",
      "\n",
      "except\n",
      "0\n",
      "\n"
     ]
    },
    {
     "name": "stderr",
     "output_type": "stream",
     "text": [
      "\r",
      " 38%|███▊      | 117/305 [2:43:58<4:13:26, 80.89s/it]"
     ]
    },
    {
     "name": "stdout",
     "output_type": "stream",
     "text": [
      "except\n",
      "0\n",
      "\n",
      "except\n",
      "0\n",
      "\n",
      "except\n",
      "0\n",
      "\n",
      "except\n",
      "0\n",
      "\n"
     ]
    },
    {
     "name": "stderr",
     "output_type": "stream",
     "text": [
      "\r",
      " 39%|███▊      | 118/305 [2:45:25<4:17:05, 82.49s/it]"
     ]
    },
    {
     "name": "stdout",
     "output_type": "stream",
     "text": [
      "except\n",
      "0\n",
      "\n",
      "except\n",
      "0\n",
      "\n",
      "except\n",
      "0\n",
      "\n",
      "except\n",
      "0\n",
      "\n"
     ]
    },
    {
     "name": "stderr",
     "output_type": "stream",
     "text": [
      "\r",
      " 39%|███▉      | 119/305 [2:46:56<4:23:37, 85.04s/it]"
     ]
    },
    {
     "name": "stdout",
     "output_type": "stream",
     "text": [
      "except\n",
      "0\n",
      "\n",
      "except\n",
      "0\n",
      "\n",
      "except\n",
      "0\n",
      "\n",
      "except\n",
      "0\n",
      "\n"
     ]
    },
    {
     "name": "stderr",
     "output_type": "stream",
     "text": [
      "\r",
      " 39%|███▉      | 120/305 [2:48:33<4:34:04, 88.89s/it]"
     ]
    },
    {
     "name": "stdout",
     "output_type": "stream",
     "text": [
      "except\n",
      "0\n",
      "\n",
      "except\n",
      "0\n",
      "\n",
      "except\n",
      "0\n",
      "\n",
      "except\n",
      "0\n",
      "\n"
     ]
    },
    {
     "name": "stderr",
     "output_type": "stream",
     "text": [
      "\r",
      " 40%|███▉      | 121/305 [2:49:55<4:25:30, 86.58s/it]"
     ]
    },
    {
     "name": "stdout",
     "output_type": "stream",
     "text": [
      "except\n",
      "0\n",
      "\n",
      "except\n",
      "0\n",
      "\n",
      "except\n",
      "0\n",
      "\n",
      "except\n",
      "0\n",
      "\n"
     ]
    },
    {
     "name": "stderr",
     "output_type": "stream",
     "text": [
      "\r",
      " 40%|████      | 122/305 [2:51:16<4:19:18, 85.02s/it]"
     ]
    },
    {
     "name": "stdout",
     "output_type": "stream",
     "text": [
      "except\n",
      "0\n",
      "\n",
      "except\n",
      "0\n",
      "\n",
      "except\n",
      "0\n",
      "\n",
      "except\n",
      "0\n",
      "\n"
     ]
    },
    {
     "name": "stderr",
     "output_type": "stream",
     "text": [
      "\r",
      " 40%|████      | 123/305 [2:52:37<4:13:59, 83.74s/it]"
     ]
    },
    {
     "name": "stdout",
     "output_type": "stream",
     "text": [
      "except\n",
      "0\n",
      "\n",
      "except\n",
      "0\n",
      "\n",
      "except\n",
      "0\n",
      "\n",
      "except\n",
      "0\n",
      "\n"
     ]
    },
    {
     "name": "stderr",
     "output_type": "stream",
     "text": [
      "\r",
      " 41%|████      | 124/305 [2:54:10<4:21:23, 86.65s/it]"
     ]
    },
    {
     "name": "stdout",
     "output_type": "stream",
     "text": [
      "except\n",
      "0\n",
      "\n",
      "except\n",
      "0\n",
      "\n",
      "except\n",
      "0\n",
      "\n",
      "except\n",
      "0\n",
      "\n"
     ]
    },
    {
     "name": "stderr",
     "output_type": "stream",
     "text": [
      "\r",
      " 41%|████      | 125/305 [2:55:37<4:19:51, 86.62s/it]"
     ]
    },
    {
     "name": "stdout",
     "output_type": "stream",
     "text": [
      "except\n",
      "0\n",
      "\n",
      "except\n",
      "0\n",
      "\n",
      "except\n",
      "0\n",
      "\n",
      "except\n",
      "0\n",
      "\n"
     ]
    },
    {
     "name": "stderr",
     "output_type": "stream",
     "text": [
      "\r",
      " 41%|████▏     | 126/305 [2:56:54<4:10:11, 83.86s/it]"
     ]
    },
    {
     "name": "stdout",
     "output_type": "stream",
     "text": [
      "except\n",
      "0\n",
      "\n",
      "except\n",
      "0\n",
      "\n",
      "except\n",
      "0\n",
      "\n",
      "except\n",
      "0\n",
      "\n"
     ]
    },
    {
     "name": "stderr",
     "output_type": "stream",
     "text": [
      "\r",
      " 42%|████▏     | 127/305 [2:58:13<4:03:56, 82.23s/it]"
     ]
    },
    {
     "name": "stdout",
     "output_type": "stream",
     "text": [
      "except\n",
      "0\n",
      "\n",
      "except\n",
      "0\n",
      "\n",
      "except\n",
      "0\n",
      "\n",
      "except\n",
      "0\n",
      "\n"
     ]
    },
    {
     "name": "stderr",
     "output_type": "stream",
     "text": [
      "\r",
      " 42%|████▏     | 128/305 [2:59:59<4:24:00, 89.50s/it]"
     ]
    },
    {
     "name": "stdout",
     "output_type": "stream",
     "text": [
      "except\n",
      "0\n",
      "\n",
      "except\n",
      "0\n",
      "\n",
      "except\n",
      "0\n",
      "\n",
      "except\n",
      "0\n",
      "\n"
     ]
    },
    {
     "name": "stderr",
     "output_type": "stream",
     "text": [
      "\r",
      " 42%|████▏     | 129/305 [3:01:54<4:45:03, 97.18s/it]"
     ]
    },
    {
     "name": "stdout",
     "output_type": "stream",
     "text": [
      "except\n",
      "0\n",
      "\n",
      "except\n",
      "0\n",
      "\n",
      "except\n",
      "0\n",
      "\n",
      "except\n",
      "0\n",
      "\n"
     ]
    },
    {
     "name": "stderr",
     "output_type": "stream",
     "text": [
      "\r",
      " 43%|████▎     | 130/305 [3:03:25<4:38:00, 95.32s/it]"
     ]
    },
    {
     "name": "stdout",
     "output_type": "stream",
     "text": [
      "except\n",
      "0\n",
      "\n",
      "except\n",
      "0\n",
      "\n",
      "except\n",
      "0\n",
      "\n",
      "except\n",
      "0\n",
      "\n"
     ]
    },
    {
     "name": "stderr",
     "output_type": "stream",
     "text": [
      "\r",
      " 43%|████▎     | 131/305 [3:05:06<4:41:29, 97.07s/it]"
     ]
    },
    {
     "name": "stdout",
     "output_type": "stream",
     "text": [
      "except\n",
      "0\n",
      "\n",
      "except\n",
      "0\n",
      "\n",
      "except\n",
      "0\n",
      "\n",
      "except\n",
      "0\n",
      "\n"
     ]
    },
    {
     "name": "stderr",
     "output_type": "stream",
     "text": [
      "\r",
      " 43%|████▎     | 132/305 [3:06:23<4:22:07, 90.91s/it]"
     ]
    },
    {
     "name": "stdout",
     "output_type": "stream",
     "text": [
      "except\n",
      "0\n",
      "\n",
      "except\n",
      "0\n",
      "\n",
      "except\n",
      "0\n",
      "\n",
      "except\n",
      "0\n",
      "\n"
     ]
    },
    {
     "name": "stderr",
     "output_type": "stream",
     "text": [
      "\r",
      " 44%|████▎     | 133/305 [3:07:59<4:25:20, 92.56s/it]"
     ]
    },
    {
     "name": "stdout",
     "output_type": "stream",
     "text": [
      "except\n",
      "0\n",
      "\n",
      "except\n",
      "0\n",
      "\n",
      "except\n",
      "0\n",
      "\n",
      "except\n",
      "0\n",
      "\n"
     ]
    },
    {
     "name": "stderr",
     "output_type": "stream",
     "text": [
      "\r",
      " 44%|████▍     | 134/305 [3:09:19<4:12:51, 88.72s/it]"
     ]
    },
    {
     "name": "stdout",
     "output_type": "stream",
     "text": [
      "except\n",
      "0\n",
      "\n",
      "except\n",
      "0\n",
      "\n",
      "except\n",
      "0\n",
      "\n",
      "except\n",
      "0\n",
      "\n"
     ]
    },
    {
     "name": "stderr",
     "output_type": "stream",
     "text": [
      "\r",
      " 44%|████▍     | 135/305 [3:10:42<4:06:19, 86.94s/it]"
     ]
    },
    {
     "name": "stdout",
     "output_type": "stream",
     "text": [
      "except\n",
      "0\n",
      "\n",
      "except\n",
      "0\n",
      "\n",
      "except\n",
      "0\n",
      "\n",
      "except\n",
      "0\n",
      "\n"
     ]
    },
    {
     "name": "stderr",
     "output_type": "stream",
     "text": [
      "\r",
      " 45%|████▍     | 136/305 [3:12:06<4:02:46, 86.19s/it]"
     ]
    },
    {
     "name": "stdout",
     "output_type": "stream",
     "text": [
      "except\n",
      "0\n",
      "\n",
      "except\n",
      "0\n",
      "\n",
      "except\n",
      "0\n",
      "\n",
      "except\n",
      "0\n",
      "\n"
     ]
    },
    {
     "name": "stderr",
     "output_type": "stream",
     "text": [
      "\r",
      " 45%|████▍     | 137/305 [3:13:28<3:57:37, 84.87s/it]"
     ]
    },
    {
     "name": "stdout",
     "output_type": "stream",
     "text": [
      "except\n",
      "0\n",
      "\n",
      "except\n",
      "0\n",
      "\n",
      "except\n",
      "0\n",
      "\n",
      "except\n",
      "0\n",
      "\n"
     ]
    },
    {
     "name": "stderr",
     "output_type": "stream",
     "text": [
      "\r",
      " 45%|████▌     | 138/305 [3:14:45<3:49:39, 82.51s/it]"
     ]
    },
    {
     "name": "stdout",
     "output_type": "stream",
     "text": [
      "except\n",
      "0\n",
      "\n",
      "except\n",
      "0\n",
      "\n",
      "except\n",
      "0\n",
      "\n",
      "except\n",
      "0\n",
      "\n"
     ]
    },
    {
     "name": "stderr",
     "output_type": "stream",
     "text": [
      "\r",
      " 46%|████▌     | 139/305 [3:16:07<3:47:32, 82.25s/it]"
     ]
    },
    {
     "name": "stdout",
     "output_type": "stream",
     "text": [
      "except\n",
      "0\n",
      "\n",
      "except\n",
      "0\n",
      "\n",
      "except\n",
      "0\n",
      "\n",
      "except\n",
      "0\n",
      "\n"
     ]
    },
    {
     "name": "stderr",
     "output_type": "stream",
     "text": [
      "\r",
      " 46%|████▌     | 140/305 [3:17:22<3:40:11, 80.07s/it]"
     ]
    },
    {
     "name": "stdout",
     "output_type": "stream",
     "text": [
      "except\n",
      "0\n",
      "\n",
      "except\n",
      "0\n",
      "\n",
      "except\n",
      "0\n",
      "\n",
      "except\n",
      "0\n",
      "\n"
     ]
    },
    {
     "name": "stderr",
     "output_type": "stream",
     "text": [
      "\r",
      " 46%|████▌     | 141/305 [3:18:46<3:42:39, 81.46s/it]"
     ]
    },
    {
     "name": "stdout",
     "output_type": "stream",
     "text": [
      "except\n",
      "0\n",
      "\n",
      "except\n",
      "0\n",
      "\n",
      "except\n",
      "0\n",
      "\n",
      "except\n",
      "0\n",
      "\n"
     ]
    },
    {
     "name": "stderr",
     "output_type": "stream",
     "text": [
      "\r",
      " 47%|████▋     | 142/305 [3:20:03<3:37:35, 80.10s/it]"
     ]
    },
    {
     "name": "stdout",
     "output_type": "stream",
     "text": [
      "except\n",
      "0\n",
      "\n",
      "except\n",
      "0\n",
      "\n",
      "except\n",
      "0\n",
      "\n",
      "except\n",
      "0\n",
      "\n"
     ]
    },
    {
     "name": "stderr",
     "output_type": "stream",
     "text": [
      "\r",
      " 47%|████▋     | 143/305 [3:21:32<3:42:53, 82.55s/it]"
     ]
    },
    {
     "name": "stdout",
     "output_type": "stream",
     "text": [
      "except\n",
      "0\n",
      "\n",
      "except\n",
      "0\n",
      "\n",
      "except\n",
      "0\n",
      "\n",
      "except\n",
      "0\n",
      "\n"
     ]
    },
    {
     "name": "stderr",
     "output_type": "stream",
     "text": [
      "\r",
      " 47%|████▋     | 144/305 [3:22:47<3:35:44, 80.40s/it]"
     ]
    },
    {
     "name": "stdout",
     "output_type": "stream",
     "text": [
      "except\n",
      "0\n",
      "\n",
      "except\n",
      "0\n",
      "\n",
      "except\n",
      "0\n",
      "\n",
      "except\n",
      "0\n",
      "\n"
     ]
    },
    {
     "name": "stderr",
     "output_type": "stream",
     "text": [
      "\r",
      " 48%|████▊     | 145/305 [3:24:10<3:36:40, 81.25s/it]"
     ]
    },
    {
     "name": "stdout",
     "output_type": "stream",
     "text": [
      "except\n",
      "0\n",
      "\n",
      "except\n",
      "0\n",
      "\n",
      "except\n",
      "0\n",
      "\n",
      "except\n",
      "0\n",
      "\n"
     ]
    },
    {
     "name": "stderr",
     "output_type": "stream",
     "text": [
      "\r",
      " 48%|████▊     | 146/305 [3:25:30<3:34:22, 80.90s/it]"
     ]
    },
    {
     "name": "stdout",
     "output_type": "stream",
     "text": [
      "except\n",
      "0\n",
      "\n",
      "except\n",
      "0\n",
      "\n",
      "except\n",
      "0\n",
      "\n",
      "except\n",
      "0\n",
      "\n"
     ]
    },
    {
     "name": "stderr",
     "output_type": "stream",
     "text": [
      "\r",
      " 48%|████▊     | 147/305 [3:26:50<3:32:04, 80.53s/it]"
     ]
    },
    {
     "name": "stdout",
     "output_type": "stream",
     "text": [
      "except\n",
      "0\n",
      "\n",
      "except\n",
      "0\n",
      "\n",
      "except\n",
      "0\n",
      "\n",
      "except\n",
      "0\n",
      "\n"
     ]
    },
    {
     "name": "stderr",
     "output_type": "stream",
     "text": [
      "\r",
      " 49%|████▊     | 148/305 [3:28:13<3:32:42, 81.29s/it]"
     ]
    },
    {
     "name": "stdout",
     "output_type": "stream",
     "text": [
      "except\n",
      "0\n",
      "\n",
      "except\n",
      "0\n",
      "\n",
      "except\n",
      "0\n",
      "\n",
      "except\n",
      "0\n",
      "\n"
     ]
    },
    {
     "name": "stderr",
     "output_type": "stream",
     "text": [
      "\r",
      " 49%|████▉     | 149/305 [3:29:37<3:33:10, 81.99s/it]"
     ]
    },
    {
     "name": "stdout",
     "output_type": "stream",
     "text": [
      "except\n",
      "0\n",
      "\n",
      "except\n",
      "0\n",
      "\n",
      "except\n",
      "0\n",
      "\n",
      "except\n",
      "0\n",
      "\n"
     ]
    },
    {
     "name": "stderr",
     "output_type": "stream",
     "text": [
      "\r",
      " 49%|████▉     | 150/305 [3:31:01<3:34:01, 82.85s/it]"
     ]
    },
    {
     "name": "stdout",
     "output_type": "stream",
     "text": [
      "except\n",
      "0\n",
      "\n",
      "except\n",
      "0\n",
      "\n",
      "except\n",
      "0\n",
      "\n",
      "except\n",
      "0\n",
      "\n"
     ]
    },
    {
     "name": "stderr",
     "output_type": "stream",
     "text": [
      "\r",
      " 50%|████▉     | 151/305 [3:32:19<3:28:47, 81.35s/it]"
     ]
    },
    {
     "name": "stdout",
     "output_type": "stream",
     "text": [
      "except\n",
      "0\n",
      "\n",
      "except\n",
      "0\n",
      "\n",
      "except\n",
      "0\n",
      "\n",
      "except\n",
      "0\n",
      "\n"
     ]
    },
    {
     "name": "stderr",
     "output_type": "stream",
     "text": [
      "\r",
      " 50%|████▉     | 152/305 [3:33:41<3:27:51, 81.51s/it]"
     ]
    },
    {
     "name": "stdout",
     "output_type": "stream",
     "text": [
      "except\n",
      "0\n",
      "\n",
      "except\n",
      "0\n",
      "\n",
      "except\n",
      "0\n",
      "\n",
      "except\n",
      "0\n",
      "\n"
     ]
    },
    {
     "name": "stderr",
     "output_type": "stream",
     "text": [
      "\r",
      " 50%|█████     | 153/305 [3:35:03<3:26:40, 81.58s/it]"
     ]
    },
    {
     "name": "stdout",
     "output_type": "stream",
     "text": [
      "except\n",
      "0\n",
      "\n",
      "except\n",
      "0\n",
      "\n",
      "except\n",
      "0\n",
      "\n",
      "except\n",
      "0\n",
      "\n"
     ]
    },
    {
     "name": "stderr",
     "output_type": "stream",
     "text": [
      "\r",
      " 50%|█████     | 154/305 [3:36:20<3:21:51, 80.21s/it]"
     ]
    },
    {
     "name": "stdout",
     "output_type": "stream",
     "text": [
      "except\n",
      "0\n",
      "\n",
      "except\n",
      "0\n",
      "\n",
      "except\n",
      "0\n",
      "\n",
      "except\n",
      "0\n",
      "\n"
     ]
    },
    {
     "name": "stderr",
     "output_type": "stream",
     "text": [
      "\r",
      " 51%|█████     | 155/305 [3:37:37<3:18:01, 79.21s/it]"
     ]
    },
    {
     "name": "stdout",
     "output_type": "stream",
     "text": [
      "except\n",
      "0\n",
      "\n",
      "except\n",
      "0\n",
      "\n",
      "except\n",
      "0\n",
      "\n",
      "except\n",
      "0\n",
      "\n"
     ]
    },
    {
     "name": "stderr",
     "output_type": "stream",
     "text": [
      "\r",
      " 51%|█████     | 156/305 [3:39:17<3:32:28, 85.56s/it]"
     ]
    },
    {
     "name": "stdout",
     "output_type": "stream",
     "text": [
      "except\n",
      "0\n",
      "\n",
      "except\n",
      "0\n",
      "\n",
      "except\n",
      "0\n",
      "\n",
      "except\n",
      "0\n",
      "\n"
     ]
    },
    {
     "name": "stderr",
     "output_type": "stream",
     "text": [
      "\r",
      " 51%|█████▏    | 157/305 [3:40:37<3:26:27, 83.70s/it]"
     ]
    },
    {
     "name": "stdout",
     "output_type": "stream",
     "text": [
      "except\n",
      "0\n",
      "\n",
      "except\n",
      "0\n",
      "\n",
      "except\n",
      "0\n",
      "\n",
      "except\n",
      "0\n",
      "\n"
     ]
    },
    {
     "name": "stderr",
     "output_type": "stream",
     "text": [
      "\r",
      " 52%|█████▏    | 158/305 [3:41:55<3:21:30, 82.25s/it]"
     ]
    },
    {
     "name": "stdout",
     "output_type": "stream",
     "text": [
      "except\n",
      "0\n",
      "\n",
      "except\n",
      "0\n",
      "\n",
      "except\n",
      "0\n",
      "\n",
      "except\n",
      "0\n",
      "\n"
     ]
    },
    {
     "name": "stderr",
     "output_type": "stream",
     "text": [
      "\r",
      " 52%|█████▏    | 159/305 [3:43:13<3:16:40, 80.83s/it]"
     ]
    },
    {
     "name": "stdout",
     "output_type": "stream",
     "text": [
      "except\n",
      "0\n",
      "\n",
      "except\n",
      "0\n",
      "\n",
      "except\n",
      "0\n",
      "\n",
      "except\n",
      "0\n",
      "\n"
     ]
    },
    {
     "name": "stderr",
     "output_type": "stream",
     "text": [
      "\r",
      " 52%|█████▏    | 160/305 [3:44:33<3:15:06, 80.74s/it]"
     ]
    },
    {
     "name": "stdout",
     "output_type": "stream",
     "text": [
      "except\n",
      "0\n",
      "\n",
      "except\n",
      "0\n",
      "\n",
      "except\n",
      "0\n",
      "\n",
      "except\n",
      "0\n",
      "\n"
     ]
    },
    {
     "name": "stderr",
     "output_type": "stream",
     "text": [
      "\r",
      " 53%|█████▎    | 161/305 [3:46:03<3:20:09, 83.40s/it]"
     ]
    },
    {
     "name": "stdout",
     "output_type": "stream",
     "text": [
      "except\n",
      "0\n",
      "\n",
      "except\n",
      "0\n",
      "\n",
      "except\n",
      "0\n",
      "\n",
      "except\n",
      "0\n",
      "\n"
     ]
    },
    {
     "name": "stderr",
     "output_type": "stream",
     "text": [
      "\r",
      " 53%|█████▎    | 162/305 [3:47:20<3:14:27, 81.59s/it]"
     ]
    },
    {
     "name": "stdout",
     "output_type": "stream",
     "text": [
      "except\n",
      "0\n",
      "\n",
      "except\n",
      "0\n",
      "\n",
      "except\n",
      "0\n",
      "\n",
      "except\n",
      "0\n",
      "\n"
     ]
    },
    {
     "name": "stderr",
     "output_type": "stream",
     "text": [
      "\r",
      " 53%|█████▎    | 163/305 [3:48:38<3:10:05, 80.32s/it]"
     ]
    },
    {
     "name": "stdout",
     "output_type": "stream",
     "text": [
      "except\n",
      "0\n",
      "\n",
      "except\n",
      "0\n",
      "\n",
      "except\n",
      "0\n",
      "\n",
      "except\n",
      "0\n",
      "\n"
     ]
    },
    {
     "name": "stderr",
     "output_type": "stream",
     "text": [
      "\r",
      " 54%|█████▍    | 164/305 [3:49:56<3:07:16, 79.69s/it]"
     ]
    },
    {
     "name": "stdout",
     "output_type": "stream",
     "text": [
      "except\n",
      "0\n",
      "\n",
      "except\n",
      "0\n",
      "\n",
      "except\n",
      "0\n",
      "\n",
      "except\n",
      "0\n",
      "\n"
     ]
    },
    {
     "name": "stderr",
     "output_type": "stream",
     "text": [
      "\r",
      " 54%|█████▍    | 165/305 [3:51:15<3:05:29, 79.50s/it]"
     ]
    },
    {
     "name": "stdout",
     "output_type": "stream",
     "text": [
      "except\n",
      "0\n",
      "\n",
      "except\n",
      "0\n",
      "\n",
      "except\n",
      "0\n",
      "\n",
      "except\n",
      "0\n",
      "\n"
     ]
    },
    {
     "name": "stderr",
     "output_type": "stream",
     "text": [
      "\r",
      " 54%|█████▍    | 166/305 [3:52:45<3:11:32, 82.68s/it]"
     ]
    },
    {
     "name": "stdout",
     "output_type": "stream",
     "text": [
      "except\n",
      "0\n",
      "\n",
      "except\n",
      "0\n",
      "\n",
      "except\n",
      "0\n",
      "\n",
      "except\n",
      "0\n",
      "\n"
     ]
    },
    {
     "name": "stderr",
     "output_type": "stream",
     "text": [
      "\r",
      " 55%|█████▍    | 167/305 [3:54:24<3:21:29, 87.61s/it]"
     ]
    },
    {
     "name": "stdout",
     "output_type": "stream",
     "text": [
      "except\n",
      "0\n",
      "\n",
      "except\n",
      "0\n",
      "\n",
      "except\n",
      "0\n",
      "\n",
      "except\n",
      "0\n",
      "\n"
     ]
    },
    {
     "name": "stderr",
     "output_type": "stream",
     "text": [
      "\r",
      " 55%|█████▌    | 168/305 [3:56:01<3:26:06, 90.26s/it]"
     ]
    },
    {
     "name": "stdout",
     "output_type": "stream",
     "text": [
      "except\n",
      "0\n",
      "\n",
      "except\n",
      "0\n",
      "\n",
      "except\n",
      "0\n",
      "\n",
      "except\n",
      "0\n",
      "\n"
     ]
    },
    {
     "name": "stderr",
     "output_type": "stream",
     "text": [
      "\r",
      " 55%|█████▌    | 169/305 [3:57:17<3:15:08, 86.10s/it]"
     ]
    },
    {
     "name": "stdout",
     "output_type": "stream",
     "text": [
      "except\n",
      "0\n",
      "\n",
      "except\n",
      "0\n",
      "\n",
      "except\n",
      "0\n",
      "\n",
      "except\n",
      "0\n",
      "\n"
     ]
    },
    {
     "name": "stderr",
     "output_type": "stream",
     "text": [
      "\r",
      " 56%|█████▌    | 170/305 [3:58:56<3:22:00, 89.78s/it]"
     ]
    },
    {
     "name": "stdout",
     "output_type": "stream",
     "text": [
      "except\n",
      "0\n",
      "\n",
      "except\n",
      "0\n",
      "\n",
      "except\n",
      "0\n",
      "\n",
      "except\n",
      "0\n",
      "\n"
     ]
    },
    {
     "name": "stderr",
     "output_type": "stream",
     "text": [
      "\r",
      " 56%|█████▌    | 171/305 [4:00:12<3:11:54, 85.93s/it]"
     ]
    },
    {
     "name": "stdout",
     "output_type": "stream",
     "text": [
      "except\n",
      "0\n",
      "\n",
      "except\n",
      "0\n",
      "\n",
      "except\n",
      "0\n",
      "\n",
      "except\n",
      "0\n",
      "\n"
     ]
    },
    {
     "name": "stderr",
     "output_type": "stream",
     "text": [
      "\r",
      " 56%|█████▋    | 172/305 [4:01:31<3:05:30, 83.69s/it]"
     ]
    },
    {
     "name": "stdout",
     "output_type": "stream",
     "text": [
      "except\n",
      "0\n",
      "\n",
      "except\n",
      "0\n",
      "\n",
      "except\n",
      "0\n",
      "\n",
      "except\n",
      "0\n",
      "\n"
     ]
    },
    {
     "name": "stderr",
     "output_type": "stream",
     "text": [
      "\r",
      " 57%|█████▋    | 173/305 [4:02:49<3:00:24, 82.00s/it]"
     ]
    },
    {
     "name": "stdout",
     "output_type": "stream",
     "text": [
      "except\n",
      "0\n",
      "\n",
      "except\n",
      "0\n",
      "\n",
      "except\n",
      "0\n",
      "\n",
      "except\n",
      "0\n",
      "\n"
     ]
    },
    {
     "name": "stderr",
     "output_type": "stream",
     "text": [
      "\r",
      " 57%|█████▋    | 174/305 [4:04:24<3:07:31, 85.89s/it]"
     ]
    },
    {
     "name": "stdout",
     "output_type": "stream",
     "text": [
      "except\n",
      "0\n",
      "\n",
      "except\n",
      "0\n",
      "\n",
      "except\n",
      "0\n",
      "\n",
      "except\n",
      "0\n",
      "\n"
     ]
    },
    {
     "name": "stderr",
     "output_type": "stream",
     "text": [
      "\r",
      " 57%|█████▋    | 175/305 [4:05:42<3:00:53, 83.49s/it]"
     ]
    },
    {
     "name": "stdout",
     "output_type": "stream",
     "text": [
      "except\n",
      "0\n",
      "\n",
      "except\n",
      "0\n",
      "\n",
      "except\n",
      "0\n",
      "\n",
      "except\n",
      "0\n",
      "\n"
     ]
    },
    {
     "name": "stderr",
     "output_type": "stream",
     "text": [
      "\r",
      " 58%|█████▊    | 176/305 [4:07:24<3:11:39, 89.15s/it]"
     ]
    },
    {
     "name": "stdout",
     "output_type": "stream",
     "text": [
      "except\n",
      "0\n",
      "\n",
      "except\n",
      "0\n",
      "\n",
      "except\n",
      "0\n",
      "\n",
      "except\n",
      "0\n",
      "\n"
     ]
    },
    {
     "name": "stderr",
     "output_type": "stream",
     "text": [
      "\r",
      " 58%|█████▊    | 177/305 [4:08:41<3:02:21, 85.48s/it]"
     ]
    },
    {
     "name": "stdout",
     "output_type": "stream",
     "text": [
      "except\n",
      "0\n",
      "\n",
      "except\n",
      "0\n",
      "\n",
      "except\n",
      "0\n",
      "\n",
      "except\n",
      "0\n",
      "\n"
     ]
    },
    {
     "name": "stderr",
     "output_type": "stream",
     "text": [
      "\r",
      " 58%|█████▊    | 178/305 [4:10:11<3:03:55, 86.89s/it]"
     ]
    },
    {
     "name": "stdout",
     "output_type": "stream",
     "text": [
      "except\n",
      "0\n",
      "\n",
      "except\n",
      "0\n",
      "\n",
      "except\n",
      "0\n",
      "\n",
      "except\n",
      "0\n",
      "\n"
     ]
    },
    {
     "name": "stderr",
     "output_type": "stream",
     "text": [
      "\r",
      " 59%|█████▊    | 179/305 [4:11:28<2:55:47, 83.71s/it]"
     ]
    },
    {
     "name": "stdout",
     "output_type": "stream",
     "text": [
      "except\n",
      "0\n",
      "\n",
      "except\n",
      "0\n",
      "\n",
      "except\n",
      "0\n",
      "\n",
      "except\n",
      "0\n",
      "\n"
     ]
    },
    {
     "name": "stderr",
     "output_type": "stream",
     "text": [
      "\r",
      " 59%|█████▉    | 180/305 [4:12:44<2:50:03, 81.63s/it]"
     ]
    },
    {
     "name": "stdout",
     "output_type": "stream",
     "text": [
      "except\n",
      "0\n",
      "\n",
      "except\n",
      "0\n",
      "\n",
      "except\n",
      "0\n",
      "\n",
      "except\n",
      "0\n",
      "\n"
     ]
    },
    {
     "name": "stderr",
     "output_type": "stream",
     "text": [
      "\r",
      " 59%|█████▉    | 181/305 [4:14:13<2:53:12, 83.81s/it]"
     ]
    },
    {
     "name": "stdout",
     "output_type": "stream",
     "text": [
      "except\n",
      "0\n",
      "\n",
      "except\n",
      "0\n",
      "\n",
      "except\n",
      "0\n",
      "\n",
      "except\n",
      "0\n",
      "\n"
     ]
    },
    {
     "name": "stderr",
     "output_type": "stream",
     "text": [
      "\r",
      " 60%|█████▉    | 182/305 [4:15:34<2:49:46, 82.82s/it]"
     ]
    },
    {
     "name": "stdout",
     "output_type": "stream",
     "text": [
      "except\n",
      "0\n",
      "\n",
      "except\n",
      "0\n",
      "\n",
      "except\n",
      "0\n",
      "\n",
      "except\n",
      "0\n",
      "\n"
     ]
    },
    {
     "name": "stderr",
     "output_type": "stream",
     "text": [
      "\r",
      " 60%|██████    | 183/305 [4:16:51<2:45:08, 81.22s/it]"
     ]
    },
    {
     "name": "stdout",
     "output_type": "stream",
     "text": [
      "except\n",
      "0\n",
      "\n",
      "except\n",
      "0\n",
      "\n",
      "except\n",
      "0\n",
      "\n",
      "except\n",
      "0\n",
      "\n"
     ]
    },
    {
     "name": "stderr",
     "output_type": "stream",
     "text": [
      "\r",
      " 60%|██████    | 184/305 [4:18:18<2:47:00, 82.81s/it]"
     ]
    },
    {
     "name": "stdout",
     "output_type": "stream",
     "text": [
      "except\n",
      "0\n",
      "\n",
      "except\n",
      "0\n",
      "\n",
      "except\n",
      "0\n",
      "\n",
      "except\n",
      "0\n",
      "\n"
     ]
    },
    {
     "name": "stderr",
     "output_type": "stream",
     "text": [
      "\r",
      " 61%|██████    | 185/305 [4:19:38<2:43:55, 81.96s/it]"
     ]
    },
    {
     "name": "stdout",
     "output_type": "stream",
     "text": [
      "except\n",
      "0\n",
      "\n",
      "except\n",
      "0\n",
      "\n",
      "except\n",
      "0\n",
      "\n",
      "except\n",
      "0\n",
      "\n"
     ]
    },
    {
     "name": "stderr",
     "output_type": "stream",
     "text": [
      "\r",
      " 61%|██████    | 186/305 [4:20:55<2:39:45, 80.55s/it]"
     ]
    },
    {
     "name": "stdout",
     "output_type": "stream",
     "text": [
      "except\n",
      "0\n",
      "\n",
      "except\n",
      "0\n",
      "\n",
      "except\n",
      "0\n",
      "\n",
      "except\n",
      "0\n",
      "\n"
     ]
    },
    {
     "name": "stderr",
     "output_type": "stream",
     "text": [
      "\r",
      " 61%|██████▏   | 187/305 [4:22:20<2:40:56, 81.83s/it]"
     ]
    },
    {
     "name": "stdout",
     "output_type": "stream",
     "text": [
      "except\n",
      "0\n",
      "\n",
      "except\n",
      "0\n",
      "\n",
      "except\n",
      "0\n",
      "\n",
      "except\n",
      "0\n",
      "\n"
     ]
    },
    {
     "name": "stderr",
     "output_type": "stream",
     "text": [
      "\r",
      " 62%|██████▏   | 188/305 [4:23:44<2:40:54, 82.52s/it]"
     ]
    },
    {
     "name": "stdout",
     "output_type": "stream",
     "text": [
      "except\n",
      "0\n",
      "\n",
      "except\n",
      "0\n",
      "\n",
      "except\n",
      "0\n",
      "\n",
      "except\n",
      "0\n",
      "\n"
     ]
    },
    {
     "name": "stderr",
     "output_type": "stream",
     "text": [
      "\r",
      " 62%|██████▏   | 189/305 [4:25:22<2:48:17, 87.05s/it]"
     ]
    },
    {
     "name": "stdout",
     "output_type": "stream",
     "text": [
      "except\n",
      "0\n",
      "\n",
      "except\n",
      "0\n",
      "\n",
      "except\n",
      "0\n",
      "\n",
      "except\n",
      "0\n",
      "\n"
     ]
    },
    {
     "name": "stderr",
     "output_type": "stream",
     "text": [
      "\r",
      " 62%|██████▏   | 190/305 [4:26:55<2:50:25, 88.92s/it]"
     ]
    },
    {
     "name": "stdout",
     "output_type": "stream",
     "text": [
      "except\n",
      "0\n",
      "\n",
      "except\n",
      "0\n",
      "\n",
      "except\n",
      "0\n",
      "\n",
      "except\n",
      "0\n",
      "\n"
     ]
    },
    {
     "name": "stderr",
     "output_type": "stream",
     "text": [
      "\r",
      " 63%|██████▎   | 191/305 [4:28:13<2:42:33, 85.56s/it]"
     ]
    },
    {
     "name": "stdout",
     "output_type": "stream",
     "text": [
      "except\n",
      "0\n",
      "\n",
      "except\n",
      "0\n",
      "\n",
      "except\n",
      "0\n",
      "\n",
      "except\n",
      "0\n",
      "\n"
     ]
    },
    {
     "name": "stderr",
     "output_type": "stream",
     "text": [
      "\r",
      " 63%|██████▎   | 192/305 [4:29:42<2:43:30, 86.82s/it]"
     ]
    },
    {
     "name": "stdout",
     "output_type": "stream",
     "text": [
      "except\n",
      "0\n",
      "\n",
      "except\n",
      "0\n",
      "\n",
      "except\n",
      "0\n",
      "\n",
      "except\n",
      "0\n",
      "\n"
     ]
    },
    {
     "name": "stderr",
     "output_type": "stream",
     "text": [
      "\r",
      " 63%|██████▎   | 193/305 [4:30:59<2:36:09, 83.66s/it]"
     ]
    },
    {
     "name": "stdout",
     "output_type": "stream",
     "text": [
      "except\n",
      "0\n",
      "\n",
      "except\n",
      "0\n",
      "\n",
      "except\n",
      "0\n",
      "\n",
      "except\n",
      "0\n",
      "\n"
     ]
    },
    {
     "name": "stderr",
     "output_type": "stream",
     "text": [
      "\r",
      " 64%|██████▎   | 194/305 [4:32:17<2:31:39, 81.98s/it]"
     ]
    },
    {
     "name": "stdout",
     "output_type": "stream",
     "text": [
      "except\n",
      "0\n",
      "\n",
      "except\n",
      "0\n",
      "\n",
      "except\n",
      "0\n",
      "\n",
      "except\n",
      "0\n",
      "\n"
     ]
    },
    {
     "name": "stderr",
     "output_type": "stream",
     "text": [
      "\r",
      " 64%|██████▍   | 195/305 [4:33:35<2:28:15, 80.86s/it]"
     ]
    },
    {
     "name": "stdout",
     "output_type": "stream",
     "text": [
      "except\n",
      "0\n",
      "\n",
      "except\n",
      "0\n",
      "\n",
      "except\n",
      "0\n",
      "\n",
      "except\n",
      "0\n",
      "\n"
     ]
    },
    {
     "name": "stderr",
     "output_type": "stream",
     "text": [
      "\r",
      " 64%|██████▍   | 196/305 [4:34:54<2:25:45, 80.24s/it]"
     ]
    },
    {
     "name": "stdout",
     "output_type": "stream",
     "text": [
      "except\n",
      "0\n",
      "\n",
      "except\n",
      "0\n",
      "\n",
      "except\n",
      "0\n",
      "\n",
      "except\n",
      "0\n",
      "\n"
     ]
    },
    {
     "name": "stderr",
     "output_type": "stream",
     "text": [
      "\r",
      " 65%|██████▍   | 197/305 [4:36:10<2:22:33, 79.20s/it]"
     ]
    },
    {
     "name": "stdout",
     "output_type": "stream",
     "text": [
      "except\n",
      "0\n",
      "\n",
      "except\n",
      "0\n",
      "\n",
      "except\n",
      "0\n",
      "\n",
      "except\n",
      "0\n",
      "\n"
     ]
    },
    {
     "name": "stderr",
     "output_type": "stream",
     "text": [
      "\r",
      " 65%|██████▍   | 198/305 [4:37:53<2:33:33, 86.10s/it]"
     ]
    },
    {
     "name": "stdout",
     "output_type": "stream",
     "text": [
      "except\n",
      "0\n",
      "\n",
      "except\n",
      "0\n",
      "\n",
      "except\n",
      "0\n",
      "\n",
      "except\n",
      "0\n",
      "\n"
     ]
    },
    {
     "name": "stderr",
     "output_type": "stream",
     "text": [
      "\r",
      " 65%|██████▌   | 199/305 [4:39:10<2:27:22, 83.42s/it]"
     ]
    },
    {
     "name": "stdout",
     "output_type": "stream",
     "text": [
      "except\n",
      "0\n",
      "\n",
      "except\n",
      "0\n",
      "\n",
      "except\n",
      "0\n",
      "\n",
      "except\n",
      "0\n",
      "\n"
     ]
    },
    {
     "name": "stderr",
     "output_type": "stream",
     "text": [
      "\r",
      " 66%|██████▌   | 200/305 [4:40:29<2:23:28, 81.99s/it]"
     ]
    },
    {
     "name": "stdout",
     "output_type": "stream",
     "text": [
      "except\n",
      "0\n",
      "\n",
      "except\n",
      "0\n",
      "\n",
      "except\n",
      "0\n",
      "\n",
      "except\n",
      "0\n",
      "\n"
     ]
    },
    {
     "name": "stderr",
     "output_type": "stream",
     "text": [
      "\r",
      " 66%|██████▌   | 201/305 [4:41:47<2:20:31, 81.07s/it]"
     ]
    },
    {
     "name": "stdout",
     "output_type": "stream",
     "text": [
      "except\n",
      "0\n",
      "\n",
      "except\n",
      "0\n",
      "\n",
      "except\n",
      "0\n",
      "\n",
      "except\n",
      "0\n",
      "\n"
     ]
    },
    {
     "name": "stderr",
     "output_type": "stream",
     "text": [
      "\r",
      " 66%|██████▌   | 202/305 [4:43:07<2:18:24, 80.62s/it]"
     ]
    },
    {
     "name": "stdout",
     "output_type": "stream",
     "text": [
      "except\n",
      "0\n",
      "\n",
      "except\n",
      "0\n",
      "\n",
      "except\n",
      "0\n",
      "\n",
      "except\n",
      "0\n",
      "\n"
     ]
    },
    {
     "name": "stderr",
     "output_type": "stream",
     "text": [
      "\r",
      " 67%|██████▋   | 203/305 [4:44:29<2:17:55, 81.14s/it]"
     ]
    },
    {
     "name": "stdout",
     "output_type": "stream",
     "text": [
      "except\n",
      "0\n",
      "\n",
      "except\n",
      "0\n",
      "\n",
      "except\n",
      "0\n",
      "\n",
      "except\n",
      "0\n",
      "\n"
     ]
    },
    {
     "name": "stderr",
     "output_type": "stream",
     "text": [
      "\r",
      " 67%|██████▋   | 204/305 [4:45:53<2:18:01, 82.00s/it]"
     ]
    },
    {
     "name": "stdout",
     "output_type": "stream",
     "text": [
      "except\n",
      "0\n",
      "\n",
      "except\n",
      "0\n",
      "\n",
      "except\n",
      "0\n",
      "\n",
      "except\n",
      "0\n",
      "\n"
     ]
    },
    {
     "name": "stderr",
     "output_type": "stream",
     "text": [
      "\r",
      " 67%|██████▋   | 205/305 [4:47:17<2:17:27, 82.47s/it]"
     ]
    },
    {
     "name": "stdout",
     "output_type": "stream",
     "text": [
      "except\n",
      "0\n",
      "\n",
      "except\n",
      "0\n",
      "\n",
      "except\n",
      "0\n",
      "\n",
      "except\n",
      "0\n",
      "\n"
     ]
    },
    {
     "name": "stderr",
     "output_type": "stream",
     "text": [
      "\r",
      " 68%|██████▊   | 206/305 [4:48:36<2:14:24, 81.46s/it]"
     ]
    },
    {
     "name": "stdout",
     "output_type": "stream",
     "text": [
      "except\n",
      "0\n",
      "\n",
      "except\n",
      "0\n",
      "\n",
      "except\n",
      "0\n",
      "\n",
      "except\n",
      "0\n",
      "\n"
     ]
    },
    {
     "name": "stderr",
     "output_type": "stream",
     "text": [
      "\r",
      " 68%|██████▊   | 207/305 [4:51:14<2:50:21, 104.30s/it]"
     ]
    },
    {
     "name": "stdout",
     "output_type": "stream",
     "text": [
      "except\n",
      "0\n",
      "\n",
      "except\n",
      "0\n",
      "\n",
      "except\n",
      "0\n",
      "\n",
      "except\n",
      "0\n",
      "\n"
     ]
    },
    {
     "name": "stderr",
     "output_type": "stream",
     "text": [
      "\r",
      " 68%|██████▊   | 208/305 [4:52:41<2:40:29, 99.27s/it] "
     ]
    },
    {
     "name": "stdout",
     "output_type": "stream",
     "text": [
      "except\n",
      "0\n",
      "\n",
      "except\n",
      "0\n",
      "\n",
      "except\n",
      "0\n",
      "\n",
      "except\n",
      "0\n",
      "\n"
     ]
    },
    {
     "name": "stderr",
     "output_type": "stream",
     "text": [
      "\r",
      " 69%|██████▊   | 209/305 [4:54:33<2:44:51, 103.04s/it]"
     ]
    },
    {
     "name": "stdout",
     "output_type": "stream",
     "text": [
      "except\n",
      "0\n",
      "\n",
      "except\n",
      "0\n",
      "\n",
      "except\n",
      "0\n",
      "\n",
      "except\n",
      "0\n",
      "\n"
     ]
    },
    {
     "name": "stderr",
     "output_type": "stream",
     "text": [
      "\r",
      " 69%|██████▉   | 210/305 [4:56:05<2:37:47, 99.66s/it] "
     ]
    },
    {
     "name": "stdout",
     "output_type": "stream",
     "text": [
      "except\n",
      "0\n",
      "\n",
      "except\n",
      "0\n",
      "\n",
      "except\n",
      "0\n",
      "\n",
      "except\n",
      "0\n",
      "\n"
     ]
    },
    {
     "name": "stderr",
     "output_type": "stream",
     "text": [
      "\r",
      " 69%|██████▉   | 211/305 [4:59:05<3:13:47, 123.70s/it]"
     ]
    },
    {
     "name": "stdout",
     "output_type": "stream",
     "text": [
      "except\n",
      "0\n",
      "\n",
      "except\n",
      "0\n",
      "\n",
      "except\n",
      "0\n",
      "\n",
      "except\n",
      "0\n",
      "\n"
     ]
    },
    {
     "name": "stderr",
     "output_type": "stream",
     "text": [
      "\r",
      " 70%|██████▉   | 212/305 [5:01:18<3:16:22, 126.70s/it]"
     ]
    },
    {
     "name": "stdout",
     "output_type": "stream",
     "text": [
      "except\n",
      "0\n",
      "\n",
      "except\n",
      "0\n",
      "\n",
      "except\n",
      "0\n",
      "\n",
      "except\n",
      "0\n",
      "\n"
     ]
    },
    {
     "name": "stderr",
     "output_type": "stream",
     "text": [
      "\r",
      " 70%|██████▉   | 213/305 [5:03:03<3:04:15, 120.17s/it]"
     ]
    },
    {
     "name": "stdout",
     "output_type": "stream",
     "text": [
      "except\n",
      "0\n",
      "\n",
      "except\n",
      "0\n",
      "\n",
      "except\n",
      "0\n",
      "\n",
      "except\n",
      "0\n",
      "\n"
     ]
    },
    {
     "name": "stderr",
     "output_type": "stream",
     "text": [
      "\r",
      " 70%|███████   | 214/305 [5:04:52<2:57:03, 116.74s/it]"
     ]
    },
    {
     "name": "stdout",
     "output_type": "stream",
     "text": [
      "except\n",
      "0\n",
      "\n",
      "except\n",
      "0\n",
      "\n",
      "except\n",
      "0\n",
      "\n",
      "except\n",
      "0\n",
      "\n"
     ]
    },
    {
     "name": "stderr",
     "output_type": "stream",
     "text": [
      "\r",
      " 70%|███████   | 215/305 [5:06:25<2:44:29, 109.66s/it]"
     ]
    },
    {
     "name": "stdout",
     "output_type": "stream",
     "text": [
      "except\n",
      "0\n",
      "\n",
      "except\n",
      "0\n",
      "\n",
      "except\n",
      "0\n",
      "\n",
      "except\n",
      "0\n",
      "\n"
     ]
    },
    {
     "name": "stderr",
     "output_type": "stream",
     "text": [
      "\r",
      " 71%|███████   | 216/305 [5:07:43<2:28:22, 100.02s/it]"
     ]
    },
    {
     "name": "stdout",
     "output_type": "stream",
     "text": [
      "except\n",
      "0\n",
      "\n",
      "except\n",
      "0\n",
      "\n",
      "except\n",
      "0\n",
      "\n",
      "except\n",
      "0\n",
      "\n"
     ]
    },
    {
     "name": "stderr",
     "output_type": "stream",
     "text": [
      "\r",
      " 71%|███████   | 217/305 [5:09:24<2:27:21, 100.47s/it]"
     ]
    },
    {
     "name": "stdout",
     "output_type": "stream",
     "text": [
      "except\n",
      "0\n",
      "\n",
      "except\n",
      "0\n",
      "\n",
      "except\n",
      "0\n",
      "\n",
      "except\n",
      "0\n",
      "\n"
     ]
    },
    {
     "name": "stderr",
     "output_type": "stream",
     "text": [
      "\r",
      " 71%|███████▏  | 218/305 [5:10:48<2:18:30, 95.53s/it] "
     ]
    },
    {
     "name": "stdout",
     "output_type": "stream",
     "text": [
      "except\n",
      "0\n",
      "\n",
      "except\n",
      "0\n",
      "\n",
      "except\n",
      "0\n",
      "\n",
      "except\n",
      "0\n",
      "\n"
     ]
    },
    {
     "name": "stderr",
     "output_type": "stream",
     "text": [
      "\r",
      " 72%|███████▏  | 219/305 [5:12:18<2:14:32, 93.87s/it]"
     ]
    },
    {
     "name": "stdout",
     "output_type": "stream",
     "text": [
      "except\n",
      "0\n",
      "\n",
      "except\n",
      "0\n",
      "\n",
      "except\n",
      "0\n",
      "\n",
      "except\n",
      "0\n",
      "\n"
     ]
    },
    {
     "name": "stderr",
     "output_type": "stream",
     "text": [
      "\r",
      " 72%|███████▏  | 220/305 [5:13:42<2:08:50, 90.95s/it]"
     ]
    },
    {
     "name": "stdout",
     "output_type": "stream",
     "text": [
      "except\n",
      "0\n",
      "\n",
      "except\n",
      "0\n",
      "\n",
      "except\n",
      "0\n",
      "\n",
      "except\n",
      "0\n",
      "\n"
     ]
    },
    {
     "name": "stderr",
     "output_type": "stream",
     "text": [
      "\r",
      " 72%|███████▏  | 221/305 [5:15:01<2:02:08, 87.24s/it]"
     ]
    },
    {
     "name": "stdout",
     "output_type": "stream",
     "text": [
      "except\n",
      "0\n",
      "\n",
      "except\n",
      "0\n",
      "\n",
      "except\n",
      "0\n",
      "\n",
      "except\n",
      "0\n",
      "\n"
     ]
    },
    {
     "name": "stderr",
     "output_type": "stream",
     "text": [
      "\r",
      " 73%|███████▎  | 222/305 [5:16:30<2:01:29, 87.82s/it]"
     ]
    },
    {
     "name": "stdout",
     "output_type": "stream",
     "text": [
      "except\n",
      "0\n",
      "\n",
      "except\n",
      "0\n",
      "\n",
      "except\n",
      "0\n",
      "\n",
      "except\n",
      "0\n",
      "\n"
     ]
    },
    {
     "name": "stderr",
     "output_type": "stream",
     "text": [
      "\r",
      " 73%|███████▎  | 223/305 [5:17:58<2:00:00, 87.81s/it]"
     ]
    },
    {
     "name": "stdout",
     "output_type": "stream",
     "text": [
      "except\n",
      "0\n",
      "\n",
      "except\n",
      "0\n",
      "\n",
      "except\n",
      "0\n",
      "\n",
      "except\n",
      "0\n",
      "\n"
     ]
    },
    {
     "name": "stderr",
     "output_type": "stream",
     "text": [
      "\r",
      " 73%|███████▎  | 224/305 [5:19:22<1:57:10, 86.79s/it]"
     ]
    },
    {
     "name": "stdout",
     "output_type": "stream",
     "text": [
      "except\n",
      "0\n",
      "\n",
      "except\n",
      "0\n",
      "\n",
      "except\n",
      "0\n",
      "\n",
      "except\n",
      "0\n",
      "\n"
     ]
    },
    {
     "name": "stderr",
     "output_type": "stream",
     "text": [
      "\r",
      " 74%|███████▍  | 225/305 [5:20:54<1:57:39, 88.24s/it]"
     ]
    },
    {
     "name": "stdout",
     "output_type": "stream",
     "text": [
      "except\n",
      "0\n",
      "\n",
      "except\n",
      "0\n",
      "\n",
      "except\n",
      "0\n",
      "\n",
      "except\n",
      "0\n",
      "\n"
     ]
    },
    {
     "name": "stderr",
     "output_type": "stream",
     "text": [
      "\r",
      " 74%|███████▍  | 226/305 [5:22:20<1:55:28, 87.71s/it]"
     ]
    },
    {
     "name": "stdout",
     "output_type": "stream",
     "text": [
      "except\n",
      "0\n",
      "\n",
      "except\n",
      "0\n",
      "\n",
      "except\n",
      "0\n",
      "\n",
      "except\n",
      "0\n",
      "\n"
     ]
    },
    {
     "name": "stderr",
     "output_type": "stream",
     "text": [
      "\r",
      " 74%|███████▍  | 227/305 [5:25:15<2:28:05, 113.92s/it]"
     ]
    },
    {
     "name": "stdout",
     "output_type": "stream",
     "text": [
      "except\n",
      "0\n",
      "\n",
      "except\n",
      "0\n",
      "\n",
      "except\n",
      "0\n",
      "\n",
      "except\n",
      "0\n",
      "\n"
     ]
    },
    {
     "name": "stderr",
     "output_type": "stream",
     "text": [
      "\r",
      " 75%|███████▍  | 228/305 [5:26:35<2:12:59, 103.63s/it]"
     ]
    },
    {
     "name": "stdout",
     "output_type": "stream",
     "text": [
      "except\n",
      "0\n",
      "\n",
      "except\n",
      "0\n",
      "\n",
      "except\n",
      "0\n",
      "\n",
      "except\n",
      "0\n",
      "\n"
     ]
    },
    {
     "name": "stderr",
     "output_type": "stream",
     "text": [
      "\r",
      " 75%|███████▌  | 229/305 [5:28:38<2:18:43, 109.52s/it]"
     ]
    },
    {
     "name": "stdout",
     "output_type": "stream",
     "text": [
      "except\n",
      "0\n",
      "\n",
      "except\n",
      "0\n",
      "\n",
      "except\n",
      "0\n",
      "\n",
      "except\n",
      "0\n",
      "\n"
     ]
    },
    {
     "name": "stderr",
     "output_type": "stream",
     "text": [
      "\r",
      " 75%|███████▌  | 230/305 [5:29:58<2:05:48, 100.65s/it]"
     ]
    },
    {
     "name": "stdout",
     "output_type": "stream",
     "text": [
      "except\n",
      "0\n",
      "\n",
      "except\n",
      "0\n",
      "\n",
      "except\n",
      "0\n",
      "\n",
      "except\n",
      "0\n",
      "\n"
     ]
    },
    {
     "name": "stderr",
     "output_type": "stream",
     "text": [
      "\r",
      " 76%|███████▌  | 231/305 [5:31:25<1:58:54, 96.41s/it] "
     ]
    },
    {
     "name": "stdout",
     "output_type": "stream",
     "text": [
      "except\n",
      "0\n",
      "\n",
      "except\n",
      "0\n",
      "\n",
      "except\n",
      "0\n",
      "\n",
      "except\n",
      "0\n",
      "\n"
     ]
    },
    {
     "name": "stderr",
     "output_type": "stream",
     "text": [
      "\r",
      " 76%|███████▌  | 232/305 [5:33:12<2:01:24, 99.79s/it]"
     ]
    },
    {
     "name": "stdout",
     "output_type": "stream",
     "text": [
      "except\n",
      "0\n",
      "\n",
      "except\n",
      "0\n",
      "\n",
      "except\n",
      "0\n",
      "\n",
      "except\n",
      "0\n",
      "\n"
     ]
    },
    {
     "name": "stderr",
     "output_type": "stream",
     "text": [
      "\r",
      " 76%|███████▋  | 233/305 [5:34:49<1:58:36, 98.84s/it]"
     ]
    },
    {
     "name": "stdout",
     "output_type": "stream",
     "text": [
      "except\n",
      "0\n",
      "\n",
      "except\n",
      "0\n",
      "\n",
      "except\n",
      "0\n",
      "\n",
      "except\n",
      "0\n",
      "\n"
     ]
    },
    {
     "name": "stderr",
     "output_type": "stream",
     "text": [
      "\r",
      " 77%|███████▋  | 234/305 [5:37:18<2:14:39, 113.80s/it]"
     ]
    },
    {
     "name": "stdout",
     "output_type": "stream",
     "text": [
      "except\n",
      "0\n",
      "\n",
      "except\n",
      "0\n",
      "\n",
      "except\n",
      "0\n",
      "\n",
      "except\n",
      "0\n",
      "\n"
     ]
    },
    {
     "name": "stderr",
     "output_type": "stream",
     "text": [
      "\r",
      " 77%|███████▋  | 235/305 [5:38:53<2:06:12, 108.18s/it]"
     ]
    },
    {
     "name": "stdout",
     "output_type": "stream",
     "text": [
      "except\n",
      "0\n",
      "\n",
      "except\n",
      "0\n",
      "\n",
      "except\n",
      "0\n",
      "\n",
      "except\n",
      "0\n",
      "\n"
     ]
    },
    {
     "name": "stderr",
     "output_type": "stream",
     "text": [
      "\r",
      " 77%|███████▋  | 236/305 [5:40:30<2:00:37, 104.89s/it]"
     ]
    },
    {
     "name": "stdout",
     "output_type": "stream",
     "text": [
      "except\n",
      "0\n",
      "\n",
      "except\n",
      "0\n",
      "\n",
      "except\n",
      "0\n",
      "\n",
      "except\n",
      "0\n",
      "\n"
     ]
    },
    {
     "name": "stderr",
     "output_type": "stream",
     "text": [
      "\r",
      " 78%|███████▊  | 237/305 [5:41:52<1:51:12, 98.12s/it] "
     ]
    },
    {
     "name": "stdout",
     "output_type": "stream",
     "text": [
      "except\n",
      "0\n",
      "\n",
      "except\n",
      "0\n",
      "\n",
      "except\n",
      "0\n",
      "\n",
      "except\n",
      "0\n",
      "\n"
     ]
    },
    {
     "name": "stderr",
     "output_type": "stream",
     "text": [
      "\r",
      " 78%|███████▊  | 238/305 [5:43:13<1:43:34, 92.75s/it]"
     ]
    },
    {
     "name": "stdout",
     "output_type": "stream",
     "text": [
      "except\n",
      "0\n",
      "\n",
      "except\n",
      "0\n",
      "\n",
      "except\n",
      "0\n",
      "\n",
      "except\n",
      "0\n",
      "\n"
     ]
    },
    {
     "name": "stderr",
     "output_type": "stream",
     "text": [
      "\r",
      " 78%|███████▊  | 239/305 [5:44:34<1:38:18, 89.38s/it]"
     ]
    },
    {
     "name": "stdout",
     "output_type": "stream",
     "text": [
      "except\n",
      "0\n",
      "\n",
      "except\n",
      "0\n",
      "\n",
      "except\n",
      "0\n",
      "\n",
      "except\n",
      "0\n",
      "\n"
     ]
    },
    {
     "name": "stderr",
     "output_type": "stream",
     "text": [
      "\r",
      " 79%|███████▊  | 240/305 [5:46:04<1:37:03, 89.59s/it]"
     ]
    },
    {
     "name": "stdout",
     "output_type": "stream",
     "text": [
      "except\n",
      "0\n",
      "\n",
      "except\n",
      "0\n",
      "\n",
      "except\n",
      "0\n",
      "\n",
      "except\n",
      "0\n",
      "\n"
     ]
    },
    {
     "name": "stderr",
     "output_type": "stream",
     "text": [
      "\r",
      " 79%|███████▉  | 241/305 [5:47:26<1:33:11, 87.37s/it]"
     ]
    },
    {
     "name": "stdout",
     "output_type": "stream",
     "text": [
      "except\n",
      "0\n",
      "\n",
      "except\n",
      "0\n",
      "\n",
      "except\n",
      "0\n",
      "\n",
      "except\n",
      "0\n",
      "\n"
     ]
    },
    {
     "name": "stderr",
     "output_type": "stream",
     "text": [
      "\r",
      " 79%|███████▉  | 242/305 [5:48:56<1:32:33, 88.16s/it]"
     ]
    },
    {
     "name": "stdout",
     "output_type": "stream",
     "text": [
      "except\n",
      "0\n",
      "\n",
      "except\n",
      "0\n",
      "\n",
      "except\n",
      "0\n",
      "\n",
      "except\n",
      "0\n",
      "\n"
     ]
    },
    {
     "name": "stderr",
     "output_type": "stream",
     "text": [
      "\r",
      " 80%|███████▉  | 243/305 [5:50:28<1:32:06, 89.14s/it]"
     ]
    },
    {
     "name": "stdout",
     "output_type": "stream",
     "text": [
      "except\n",
      "0\n",
      "\n",
      "except\n",
      "0\n",
      "\n",
      "except\n",
      "0\n",
      "\n",
      "except\n",
      "0\n",
      "\n"
     ]
    },
    {
     "name": "stderr",
     "output_type": "stream",
     "text": [
      "\r",
      " 80%|████████  | 244/305 [5:53:36<2:00:49, 118.84s/it]"
     ]
    },
    {
     "name": "stdout",
     "output_type": "stream",
     "text": [
      "except\n",
      "0\n",
      "\n",
      "except\n",
      "0\n",
      "\n",
      "except\n",
      "0\n",
      "\n",
      "except\n",
      "0\n",
      "\n"
     ]
    },
    {
     "name": "stderr",
     "output_type": "stream",
     "text": [
      "\r",
      " 80%|████████  | 245/305 [5:55:16<1:53:21, 113.36s/it]"
     ]
    },
    {
     "name": "stdout",
     "output_type": "stream",
     "text": [
      "except\n",
      "0\n",
      "\n",
      "except\n",
      "0\n",
      "\n",
      "except\n",
      "0\n",
      "\n",
      "except\n",
      "0\n",
      "\n"
     ]
    },
    {
     "name": "stderr",
     "output_type": "stream",
     "text": [
      "\r",
      " 81%|████████  | 246/305 [5:58:20<2:12:12, 134.44s/it]"
     ]
    },
    {
     "name": "stdout",
     "output_type": "stream",
     "text": [
      "except\n",
      "0\n",
      "\n",
      "except\n",
      "0\n",
      "\n",
      "except\n",
      "0\n",
      "\n",
      "except\n",
      "0\n",
      "\n"
     ]
    },
    {
     "name": "stderr",
     "output_type": "stream",
     "text": [
      "\r",
      " 81%|████████  | 247/305 [6:00:29<2:08:14, 132.67s/it]"
     ]
    },
    {
     "name": "stdout",
     "output_type": "stream",
     "text": [
      "except\n",
      "0\n",
      "\n",
      "except\n",
      "0\n",
      "\n",
      "except\n",
      "0\n",
      "\n",
      "except\n",
      "0\n",
      "\n"
     ]
    },
    {
     "name": "stderr",
     "output_type": "stream",
     "text": [
      "\r",
      " 81%|████████▏ | 248/305 [6:03:25<2:18:33, 145.86s/it]"
     ]
    },
    {
     "name": "stdout",
     "output_type": "stream",
     "text": [
      "except\n",
      "0\n",
      "\n",
      "except\n",
      "0\n",
      "\n",
      "except\n",
      "0\n",
      "\n",
      "except\n",
      "0\n",
      "\n"
     ]
    },
    {
     "name": "stderr",
     "output_type": "stream",
     "text": [
      "\r",
      " 82%|████████▏ | 249/305 [6:05:11<2:04:53, 133.80s/it]"
     ]
    },
    {
     "name": "stdout",
     "output_type": "stream",
     "text": [
      "except\n",
      "0\n",
      "\n",
      "except\n",
      "0\n",
      "\n",
      "except\n",
      "0\n",
      "\n",
      "except\n",
      "0\n",
      "\n"
     ]
    },
    {
     "name": "stderr",
     "output_type": "stream",
     "text": [
      "\r",
      " 82%|████████▏ | 250/305 [6:06:55<1:54:24, 124.81s/it]"
     ]
    },
    {
     "name": "stdout",
     "output_type": "stream",
     "text": [
      "except\n",
      "0\n",
      "\n",
      "except\n",
      "0\n",
      "\n",
      "except\n",
      "0\n",
      "\n",
      "except\n",
      "0\n",
      "\n"
     ]
    },
    {
     "name": "stderr",
     "output_type": "stream",
     "text": [
      "\r",
      " 82%|████████▏ | 251/305 [6:11:43<2:36:34, 173.97s/it]"
     ]
    },
    {
     "name": "stdout",
     "output_type": "stream",
     "text": [
      "except\n",
      "0\n",
      "\n",
      "except\n",
      "0\n",
      "\n",
      "except\n",
      "0\n",
      "\n",
      "except\n",
      "0\n",
      "\n"
     ]
    },
    {
     "name": "stderr",
     "output_type": "stream",
     "text": [
      "\r",
      " 83%|████████▎ | 252/305 [6:16:01<2:55:46, 199.00s/it]"
     ]
    },
    {
     "name": "stdout",
     "output_type": "stream",
     "text": [
      "except\n",
      "0\n",
      "\n",
      "except\n",
      "0\n",
      "\n",
      "except\n",
      "0\n",
      "\n",
      "except\n",
      "0\n",
      "\n"
     ]
    },
    {
     "name": "stderr",
     "output_type": "stream",
     "text": [
      "\r",
      " 83%|████████▎ | 253/305 [6:17:47<2:28:12, 171.01s/it]"
     ]
    },
    {
     "name": "stdout",
     "output_type": "stream",
     "text": [
      "except\n",
      "0\n",
      "\n",
      "except\n",
      "0\n",
      "\n",
      "except\n",
      "0\n",
      "\n",
      "except\n",
      "0\n",
      "\n"
     ]
    },
    {
     "name": "stderr",
     "output_type": "stream",
     "text": [
      "\r",
      " 83%|████████▎ | 254/305 [6:19:32<2:08:32, 151.23s/it]"
     ]
    },
    {
     "name": "stdout",
     "output_type": "stream",
     "text": [
      "except\n",
      "0\n",
      "\n",
      "except\n",
      "0\n",
      "\n",
      "except\n",
      "0\n",
      "\n",
      "except\n",
      "0\n",
      "\n"
     ]
    },
    {
     "name": "stderr",
     "output_type": "stream",
     "text": [
      "\r",
      " 84%|████████▎ | 255/305 [6:21:44<2:01:12, 145.45s/it]"
     ]
    },
    {
     "name": "stdout",
     "output_type": "stream",
     "text": [
      "except\n",
      "0\n",
      "\n",
      "except\n",
      "0\n",
      "\n",
      "except\n",
      "0\n",
      "\n",
      "except\n",
      "0\n",
      "\n"
     ]
    },
    {
     "name": "stderr",
     "output_type": "stream",
     "text": [
      "\r",
      " 84%|████████▍ | 256/305 [6:23:52<1:54:31, 140.24s/it]"
     ]
    },
    {
     "name": "stdout",
     "output_type": "stream",
     "text": [
      "except\n",
      "0\n",
      "\n",
      "except\n",
      "0\n",
      "\n",
      "except\n",
      "0\n",
      "\n",
      "except\n",
      "0\n",
      "\n"
     ]
    },
    {
     "name": "stderr",
     "output_type": "stream",
     "text": [
      "\r",
      " 84%|████████▍ | 257/305 [6:25:23<1:40:31, 125.66s/it]"
     ]
    },
    {
     "name": "stdout",
     "output_type": "stream",
     "text": [
      "except\n",
      "0\n",
      "\n",
      "except\n",
      "0\n",
      "\n",
      "except\n",
      "0\n",
      "\n",
      "except\n",
      "0\n",
      "\n"
     ]
    },
    {
     "name": "stderr",
     "output_type": "stream",
     "text": [
      "\r",
      " 85%|████████▍ | 258/305 [6:26:51<1:29:24, 114.15s/it]"
     ]
    },
    {
     "name": "stdout",
     "output_type": "stream",
     "text": [
      "except\n",
      "0\n",
      "\n",
      "except\n",
      "0\n",
      "\n",
      "except\n",
      "0\n",
      "\n",
      "except\n",
      "0\n",
      "\n"
     ]
    },
    {
     "name": "stderr",
     "output_type": "stream",
     "text": [
      "\r",
      " 85%|████████▍ | 259/305 [6:28:20<1:21:47, 106.67s/it]"
     ]
    },
    {
     "name": "stdout",
     "output_type": "stream",
     "text": [
      "except\n",
      "0\n",
      "\n",
      "except\n",
      "0\n",
      "\n",
      "except\n",
      "0\n",
      "\n",
      "except\n",
      "0\n",
      "\n"
     ]
    },
    {
     "name": "stderr",
     "output_type": "stream",
     "text": [
      "\r",
      " 85%|████████▌ | 260/305 [6:30:07<1:20:08, 106.87s/it]"
     ]
    },
    {
     "name": "stdout",
     "output_type": "stream",
     "text": [
      "except\n",
      "0\n",
      "\n",
      "except\n",
      "0\n",
      "\n",
      "except\n",
      "0\n",
      "\n",
      "except\n",
      "0\n",
      "\n"
     ]
    },
    {
     "name": "stderr",
     "output_type": "stream",
     "text": [
      "\r",
      " 86%|████████▌ | 261/305 [6:32:13<1:22:33, 112.59s/it]"
     ]
    },
    {
     "name": "stdout",
     "output_type": "stream",
     "text": [
      "except\n",
      "0\n",
      "\n",
      "except\n",
      "0\n",
      "\n",
      "except\n",
      "0\n",
      "\n",
      "except\n",
      "0\n",
      "\n"
     ]
    },
    {
     "name": "stderr",
     "output_type": "stream",
     "text": [
      "\r",
      " 86%|████████▌ | 262/305 [6:33:41<1:15:22, 105.18s/it]"
     ]
    },
    {
     "name": "stdout",
     "output_type": "stream",
     "text": [
      "except\n",
      "0\n",
      "\n",
      "except\n",
      "0\n",
      "\n",
      "except\n",
      "0\n",
      "\n",
      "except\n",
      "0\n",
      "\n"
     ]
    },
    {
     "name": "stderr",
     "output_type": "stream",
     "text": [
      "\r",
      " 86%|████████▌ | 263/305 [6:35:27<1:13:51, 105.51s/it]"
     ]
    },
    {
     "name": "stdout",
     "output_type": "stream",
     "text": [
      "except\n",
      "0\n",
      "\n",
      "except\n",
      "0\n",
      "\n",
      "except\n",
      "0\n",
      "\n",
      "except\n",
      "0\n",
      "\n"
     ]
    },
    {
     "name": "stderr",
     "output_type": "stream",
     "text": [
      "\r",
      " 87%|████████▋ | 264/305 [6:37:33<1:16:09, 111.44s/it]"
     ]
    },
    {
     "name": "stdout",
     "output_type": "stream",
     "text": [
      "except\n",
      "0\n",
      "\n",
      "except\n",
      "0\n",
      "\n",
      "except\n",
      "0\n",
      "\n",
      "except\n",
      "0\n",
      "\n"
     ]
    },
    {
     "name": "stderr",
     "output_type": "stream",
     "text": [
      "\r",
      " 87%|████████▋ | 265/305 [6:39:30<1:15:34, 113.35s/it]"
     ]
    },
    {
     "name": "stdout",
     "output_type": "stream",
     "text": [
      "except\n",
      "0\n",
      "\n",
      "except\n",
      "0\n",
      "\n",
      "except\n",
      "0\n",
      "\n",
      "except\n",
      "0\n",
      "\n"
     ]
    },
    {
     "name": "stderr",
     "output_type": "stream",
     "text": [
      "\r",
      " 87%|████████▋ | 266/305 [6:41:46<1:18:00, 120.00s/it]"
     ]
    },
    {
     "name": "stdout",
     "output_type": "stream",
     "text": [
      "except\n",
      "0\n",
      "\n",
      "except\n",
      "0\n",
      "\n",
      "except\n",
      "0\n",
      "\n",
      "except\n",
      "0\n",
      "\n"
     ]
    },
    {
     "name": "stderr",
     "output_type": "stream",
     "text": [
      "\r",
      " 88%|████████▊ | 267/305 [6:43:12<1:09:35, 109.89s/it]"
     ]
    },
    {
     "name": "stdout",
     "output_type": "stream",
     "text": [
      "except\n",
      "0\n",
      "\n",
      "except\n",
      "0\n",
      "\n",
      "except\n",
      "0\n",
      "\n",
      "except\n",
      "0\n",
      "\n"
     ]
    },
    {
     "name": "stderr",
     "output_type": "stream",
     "text": [
      "\r",
      " 88%|████████▊ | 268/305 [6:45:14<1:10:03, 113.60s/it]"
     ]
    },
    {
     "name": "stdout",
     "output_type": "stream",
     "text": [
      "except\n",
      "0\n",
      "\n",
      "except\n",
      "0\n",
      "\n",
      "except\n",
      "0\n",
      "\n",
      "except\n",
      "0\n",
      "\n"
     ]
    },
    {
     "name": "stderr",
     "output_type": "stream",
     "text": [
      "\r",
      " 88%|████████▊ | 269/305 [6:47:23<1:10:51, 118.09s/it]"
     ]
    },
    {
     "name": "stdout",
     "output_type": "stream",
     "text": [
      "except\n",
      "0\n",
      "\n",
      "except\n",
      "0\n",
      "\n",
      "except\n",
      "0\n",
      "\n",
      "except\n",
      "0\n",
      "\n"
     ]
    },
    {
     "name": "stderr",
     "output_type": "stream",
     "text": [
      "\r",
      " 89%|████████▊ | 270/305 [6:48:53<1:03:59, 109.69s/it]"
     ]
    },
    {
     "name": "stdout",
     "output_type": "stream",
     "text": [
      "except\n",
      "0\n",
      "\n",
      "except\n",
      "0\n",
      "\n",
      "except\n",
      "0\n",
      "\n",
      "except\n",
      "0\n",
      "\n"
     ]
    },
    {
     "name": "stderr",
     "output_type": "stream",
     "text": [
      "\r",
      " 89%|████████▉ | 271/305 [6:50:13<57:00, 100.61s/it]  "
     ]
    },
    {
     "name": "stdout",
     "output_type": "stream",
     "text": [
      "except\n",
      "0\n",
      "\n",
      "except\n",
      "0\n",
      "\n",
      "except\n",
      "0\n",
      "\n",
      "except\n",
      "0\n",
      "\n"
     ]
    },
    {
     "name": "stderr",
     "output_type": "stream",
     "text": [
      "\r",
      " 89%|████████▉ | 272/305 [6:51:51<54:57, 99.93s/it] "
     ]
    },
    {
     "name": "stdout",
     "output_type": "stream",
     "text": [
      "except\n",
      "0\n",
      "\n",
      "except\n",
      "0\n",
      "\n",
      "except\n",
      "0\n",
      "\n",
      "except\n",
      "0\n",
      "\n"
     ]
    },
    {
     "name": "stderr",
     "output_type": "stream",
     "text": [
      "\r",
      " 90%|████████▉ | 273/305 [6:53:14<50:35, 94.86s/it]"
     ]
    },
    {
     "name": "stdout",
     "output_type": "stream",
     "text": [
      "except\n",
      "0\n",
      "\n",
      "except\n",
      "0\n",
      "\n",
      "except\n",
      "0\n",
      "\n",
      "except\n",
      "0\n",
      "\n"
     ]
    },
    {
     "name": "stderr",
     "output_type": "stream",
     "text": [
      "\r",
      " 90%|████████▉ | 274/305 [6:54:47<48:46, 94.42s/it]"
     ]
    },
    {
     "name": "stdout",
     "output_type": "stream",
     "text": [
      "except\n",
      "0\n",
      "\n",
      "except\n",
      "0\n",
      "\n",
      "except\n",
      "0\n",
      "\n",
      "except\n",
      "0\n",
      "\n"
     ]
    },
    {
     "name": "stderr",
     "output_type": "stream",
     "text": [
      "\r",
      " 90%|█████████ | 275/305 [6:56:05<44:42, 89.42s/it]"
     ]
    },
    {
     "name": "stdout",
     "output_type": "stream",
     "text": [
      "except\n",
      "0\n",
      "\n",
      "except\n",
      "0\n",
      "\n",
      "except\n",
      "0\n",
      "\n",
      "except\n",
      "0\n",
      "\n"
     ]
    },
    {
     "name": "stderr",
     "output_type": "stream",
     "text": [
      "\r",
      " 90%|█████████ | 276/305 [6:57:37<43:35, 90.19s/it]"
     ]
    },
    {
     "name": "stdout",
     "output_type": "stream",
     "text": [
      "except\n",
      "0\n",
      "\n",
      "except\n",
      "0\n",
      "\n",
      "except\n",
      "0\n",
      "\n",
      "except\n",
      "0\n",
      "\n"
     ]
    },
    {
     "name": "stderr",
     "output_type": "stream",
     "text": [
      "\r",
      " 91%|█████████ | 277/305 [6:59:43<47:10, 101.08s/it]"
     ]
    },
    {
     "name": "stdout",
     "output_type": "stream",
     "text": [
      "except\n",
      "0\n",
      "\n",
      "except\n",
      "0\n",
      "\n",
      "except\n",
      "0\n",
      "\n",
      "except\n",
      "0\n",
      "\n"
     ]
    },
    {
     "name": "stderr",
     "output_type": "stream",
     "text": [
      "\r",
      " 91%|█████████ | 278/305 [7:01:44<48:07, 106.95s/it]"
     ]
    },
    {
     "name": "stdout",
     "output_type": "stream",
     "text": [
      "except\n",
      "0\n",
      "\n",
      "except\n",
      "0\n",
      "\n",
      "except\n",
      "0\n",
      "\n",
      "except\n",
      "0\n",
      "\n"
     ]
    },
    {
     "name": "stderr",
     "output_type": "stream",
     "text": [
      "\r",
      " 91%|█████████▏| 279/305 [7:04:32<54:18, 125.31s/it]"
     ]
    },
    {
     "name": "stdout",
     "output_type": "stream",
     "text": [
      "except\n",
      "0\n",
      "\n",
      "except\n",
      "0\n",
      "\n",
      "except\n",
      "0\n",
      "\n",
      "except\n",
      "0\n",
      "\n"
     ]
    },
    {
     "name": "stderr",
     "output_type": "stream",
     "text": [
      "\r",
      " 92%|█████████▏| 280/305 [7:05:58<47:15, 113.43s/it]"
     ]
    },
    {
     "name": "stdout",
     "output_type": "stream",
     "text": [
      "except\n",
      "0\n",
      "\n",
      "except\n",
      "0\n",
      "\n",
      "except\n",
      "0\n",
      "\n",
      "except\n",
      "0\n",
      "\n"
     ]
    },
    {
     "name": "stderr",
     "output_type": "stream",
     "text": [
      "\r",
      " 92%|█████████▏| 281/305 [7:07:21<41:43, 104.33s/it]"
     ]
    },
    {
     "name": "stdout",
     "output_type": "stream",
     "text": [
      "except\n",
      "0\n",
      "\n",
      "except\n",
      "0\n",
      "\n",
      "except\n",
      "0\n",
      "\n",
      "except\n",
      "0\n",
      "\n"
     ]
    },
    {
     "name": "stderr",
     "output_type": "stream",
     "text": [
      "\r",
      " 92%|█████████▏| 282/305 [7:08:42<37:15, 97.19s/it] "
     ]
    },
    {
     "name": "stdout",
     "output_type": "stream",
     "text": [
      "except\n",
      "0\n",
      "\n",
      "except\n",
      "0\n",
      "\n",
      "except\n",
      "0\n",
      "\n",
      "except\n",
      "0\n",
      "\n"
     ]
    },
    {
     "name": "stderr",
     "output_type": "stream",
     "text": [
      "\r",
      " 93%|█████████▎| 283/305 [7:10:20<35:44, 97.48s/it]"
     ]
    },
    {
     "name": "stdout",
     "output_type": "stream",
     "text": [
      "except\n",
      "0\n",
      "\n",
      "except\n",
      "0\n",
      "\n",
      "except\n",
      "0\n",
      "\n",
      "except\n",
      "0\n",
      "\n"
     ]
    },
    {
     "name": "stderr",
     "output_type": "stream",
     "text": [
      "\r",
      " 93%|█████████▎| 284/305 [7:11:43<32:34, 93.06s/it]"
     ]
    },
    {
     "name": "stdout",
     "output_type": "stream",
     "text": [
      "except\n",
      "0\n",
      "\n",
      "except\n",
      "0\n",
      "\n",
      "except\n",
      "0\n",
      "\n",
      "except\n",
      "0\n",
      "\n"
     ]
    },
    {
     "name": "stderr",
     "output_type": "stream",
     "text": [
      "\r",
      " 93%|█████████▎| 285/305 [7:13:04<29:54, 89.73s/it]"
     ]
    },
    {
     "name": "stdout",
     "output_type": "stream",
     "text": [
      "except\n",
      "0\n",
      "\n",
      "except\n",
      "0\n",
      "\n",
      "except\n",
      "0\n",
      "\n",
      "except\n",
      "0\n",
      "\n"
     ]
    },
    {
     "name": "stderr",
     "output_type": "stream",
     "text": [
      "\r",
      " 94%|█████████▍| 286/305 [7:14:23<27:19, 86.28s/it]"
     ]
    },
    {
     "name": "stdout",
     "output_type": "stream",
     "text": [
      "except\n",
      "0\n",
      "\n",
      "except\n",
      "0\n",
      "\n",
      "except\n",
      "0\n",
      "\n",
      "except\n",
      "0\n",
      "\n"
     ]
    },
    {
     "name": "stderr",
     "output_type": "stream",
     "text": [
      "\r",
      " 94%|█████████▍| 287/305 [7:15:56<26:28, 88.23s/it]"
     ]
    },
    {
     "name": "stdout",
     "output_type": "stream",
     "text": [
      "except\n",
      "0\n",
      "\n",
      "except\n",
      "0\n",
      "\n",
      "except\n",
      "0\n",
      "\n",
      "except\n",
      "0\n",
      "\n"
     ]
    },
    {
     "name": "stderr",
     "output_type": "stream",
     "text": [
      "\r",
      " 94%|█████████▍| 288/305 [7:17:18<24:29, 86.45s/it]"
     ]
    },
    {
     "name": "stdout",
     "output_type": "stream",
     "text": [
      "except\n",
      "0\n",
      "\n",
      "except\n",
      "0\n",
      "\n",
      "except\n",
      "0\n",
      "\n",
      "except\n",
      "0\n",
      "\n"
     ]
    },
    {
     "name": "stderr",
     "output_type": "stream",
     "text": [
      "\r",
      " 95%|█████████▍| 289/305 [7:18:37<22:26, 84.14s/it]"
     ]
    },
    {
     "name": "stdout",
     "output_type": "stream",
     "text": [
      "except\n",
      "0\n",
      "\n",
      "except\n",
      "0\n",
      "\n",
      "except\n",
      "0\n",
      "\n",
      "except\n",
      "0\n",
      "\n"
     ]
    },
    {
     "name": "stderr",
     "output_type": "stream",
     "text": [
      "\r",
      " 95%|█████████▌| 290/305 [7:20:02<21:08, 84.54s/it]"
     ]
    },
    {
     "name": "stdout",
     "output_type": "stream",
     "text": [
      "except\n",
      "0\n",
      "\n",
      "except\n",
      "0\n",
      "\n",
      "except\n",
      "0\n",
      "\n",
      "except\n",
      "0\n",
      "\n"
     ]
    },
    {
     "name": "stderr",
     "output_type": "stream",
     "text": [
      "\r",
      " 95%|█████████▌| 291/305 [7:21:25<19:36, 84.03s/it]"
     ]
    },
    {
     "name": "stdout",
     "output_type": "stream",
     "text": [
      "except\n",
      "0\n",
      "\n",
      "except\n",
      "0\n",
      "\n",
      "except\n",
      "0\n",
      "\n",
      "except\n",
      "0\n",
      "\n"
     ]
    },
    {
     "name": "stderr",
     "output_type": "stream",
     "text": [
      "\r",
      " 96%|█████████▌| 292/305 [7:22:41<17:40, 81.61s/it]"
     ]
    },
    {
     "name": "stdout",
     "output_type": "stream",
     "text": [
      "except\n",
      "0\n",
      "\n",
      "except\n",
      "0\n",
      "\n",
      "except\n",
      "0\n",
      "\n",
      "except\n",
      "0\n",
      "\n"
     ]
    },
    {
     "name": "stderr",
     "output_type": "stream",
     "text": [
      "\r",
      " 96%|█████████▌| 293/305 [7:24:14<17:00, 85.03s/it]"
     ]
    },
    {
     "name": "stdout",
     "output_type": "stream",
     "text": [
      "except\n",
      "0\n",
      "\n",
      "except\n",
      "0\n",
      "\n",
      "except\n",
      "0\n",
      "\n",
      "except\n",
      "0\n",
      "\n"
     ]
    },
    {
     "name": "stderr",
     "output_type": "stream",
     "text": [
      "\r",
      " 96%|█████████▋| 294/305 [7:25:46<15:58, 87.14s/it]"
     ]
    },
    {
     "name": "stdout",
     "output_type": "stream",
     "text": [
      "except\n",
      "0\n",
      "\n",
      "except\n",
      "0\n",
      "\n",
      "except\n",
      "0\n",
      "\n",
      "except\n",
      "0\n",
      "\n"
     ]
    },
    {
     "name": "stderr",
     "output_type": "stream",
     "text": [
      "\r",
      " 97%|█████████▋| 295/305 [7:27:11<14:24, 86.50s/it]"
     ]
    },
    {
     "name": "stdout",
     "output_type": "stream",
     "text": [
      "except\n",
      "0\n",
      "\n",
      "except\n",
      "0\n",
      "\n",
      "except\n",
      "0\n",
      "\n",
      "except\n",
      "0\n",
      "\n"
     ]
    },
    {
     "name": "stderr",
     "output_type": "stream",
     "text": [
      "\r",
      " 97%|█████████▋| 296/305 [7:28:29<12:34, 83.87s/it]"
     ]
    },
    {
     "name": "stdout",
     "output_type": "stream",
     "text": [
      "except\n",
      "0\n",
      "\n",
      "except\n",
      "0\n",
      "\n",
      "except\n",
      "0\n",
      "\n",
      "except\n",
      "0\n",
      "\n"
     ]
    },
    {
     "name": "stderr",
     "output_type": "stream",
     "text": [
      "\r",
      " 97%|█████████▋| 297/305 [7:29:45<10:52, 81.56s/it]"
     ]
    },
    {
     "name": "stdout",
     "output_type": "stream",
     "text": [
      "except\n",
      "0\n",
      "\n",
      "except\n",
      "0\n",
      "\n",
      "except\n",
      "0\n",
      "\n",
      "except\n",
      "0\n",
      "\n"
     ]
    },
    {
     "name": "stderr",
     "output_type": "stream",
     "text": [
      "\r",
      " 98%|█████████▊| 298/305 [7:31:01<09:19, 79.93s/it]"
     ]
    },
    {
     "name": "stdout",
     "output_type": "stream",
     "text": [
      "except\n",
      "0\n",
      "\n",
      "except\n",
      "0\n",
      "\n",
      "except\n",
      "0\n",
      "\n",
      "except\n",
      "0\n",
      "\n"
     ]
    },
    {
     "name": "stderr",
     "output_type": "stream",
     "text": [
      "\r",
      " 98%|█████████▊| 299/305 [7:32:46<08:44, 87.34s/it]"
     ]
    },
    {
     "name": "stdout",
     "output_type": "stream",
     "text": [
      "except\n",
      "0\n",
      "\n",
      "except\n",
      "0\n",
      "\n",
      "except\n",
      "0\n",
      "\n",
      "except\n",
      "0\n",
      "\n"
     ]
    },
    {
     "name": "stderr",
     "output_type": "stream",
     "text": [
      "\r",
      " 98%|█████████▊| 300/305 [7:34:11<07:14, 86.89s/it]"
     ]
    },
    {
     "name": "stdout",
     "output_type": "stream",
     "text": [
      "except\n",
      "0\n",
      "\n",
      "except\n",
      "0\n",
      "\n",
      "except\n",
      "0\n",
      "\n",
      "except\n",
      "0\n",
      "\n"
     ]
    },
    {
     "name": "stderr",
     "output_type": "stream",
     "text": [
      "\r",
      " 99%|█████████▊| 301/305 [7:35:36<05:45, 86.34s/it]"
     ]
    },
    {
     "name": "stdout",
     "output_type": "stream",
     "text": [
      "except\n",
      "0\n",
      "\n",
      "except\n",
      "0\n",
      "\n",
      "except\n",
      "0\n",
      "\n",
      "except\n",
      "0\n",
      "\n"
     ]
    },
    {
     "name": "stderr",
     "output_type": "stream",
     "text": [
      "\r",
      " 99%|█████████▉| 302/305 [7:37:07<04:22, 87.52s/it]"
     ]
    },
    {
     "name": "stdout",
     "output_type": "stream",
     "text": [
      "except\n",
      "0\n",
      "\n",
      "except\n",
      "0\n",
      "\n",
      "except\n",
      "0\n",
      "\n",
      "except\n",
      "0\n",
      "\n"
     ]
    },
    {
     "name": "stderr",
     "output_type": "stream",
     "text": [
      "\r",
      " 99%|█████████▉| 303/305 [7:38:26<02:50, 85.13s/it]"
     ]
    },
    {
     "name": "stdout",
     "output_type": "stream",
     "text": [
      "except\n",
      "0\n",
      "\n",
      "except\n",
      "0\n",
      "\n",
      "except\n",
      "0\n",
      "\n",
      "except\n",
      "0\n",
      "\n"
     ]
    },
    {
     "name": "stderr",
     "output_type": "stream",
     "text": [
      "\r",
      "100%|█████████▉| 304/305 [7:40:08<01:30, 90.23s/it]"
     ]
    },
    {
     "name": "stdout",
     "output_type": "stream",
     "text": [
      "except\n",
      "0\n",
      "\n",
      "except\n",
      "0\n",
      "\n",
      "except\n",
      "0\n",
      "\n",
      "except\n",
      "0\n",
      "\n"
     ]
    },
    {
     "name": "stderr",
     "output_type": "stream",
     "text": [
      "100%|██████████| 305/305 [7:41:50<00:00, 90.85s/it]"
     ]
    },
    {
     "name": "stdout",
     "output_type": "stream",
     "text": [
      "except\n",
      "0\n",
      "\n"
     ]
    },
    {
     "name": "stderr",
     "output_type": "stream",
     "text": [
      "\n"
     ]
    }
   ],
   "source": [
    "os.mkdir('csvs')\n",
    "model_nums_chunker = [200]\n",
    "cn.cynet_chunker(\n",
    "    MODEL_GLOB,\n",
    "    model_nums_chunker, \n",
    "    horizon, \n",
    "    DATA_PATH, \n",
    "    RUNLEN, \n",
    "    VARNAME, \n",
    "    RESPATH,\n",
    "    FLEX_TAIL_LEN=FLEX_TAIL_LEN,\n",
    "    cores=1, # dummy parameter\n",
    "    gamma=True,\n",
    "    PARTITION=PARTITION[0]\n",
    ")"
   ]
  },
  {
   "cell_type": "markdown",
   "metadata": {},
   "source": [
    "## Machine leanring algorithm \n",
    "**Note:** Before Cynet is moved to Python3, we will have to run ML in a separate file.\n",
    "I will copy the code here, but please don't run.\n",
    "\n",
    "Currently, the code is in `MachineLearning.ipynb`."
   ]
  },
  {
   "cell_type": "raw",
   "metadata": {},
   "source": [
    "from warnings import simplefilter\n",
    "simplefilter(action='ignore', category=FutureWarning)\n",
    "import numpy as np\n",
    "import pandas as pd\n",
    "import csv\n",
    "from glob import glob\n",
    "import subprocess\n",
    "import string\n",
    "import random\n",
    "import os\n",
    "from functools import reduce\n",
    "\n",
    "from sklearn.model_selection import TimeSeriesSplit\n",
    "from sklearn.metrics import fbeta_score, make_scorer, r2_score\n",
    "from sklearn.utils import shuffle\n",
    "\n",
    "from sklearn.tree import DecisionTreeClassifier\n",
    "from sklearn.ensemble import AdaBoostRegressor, AdaBoostClassifier, RandomForestRegressor, RandomForestClassifier, ExtraTreesClassifier\n",
    "from sklearn.neural_network import MLPClassifier\n",
    "\n",
    "from lightgbm import LGBMRegressor\n",
    "\n",
    "FLEXROC = '/project2/ishanu/YI_terror/bin/flexroc'\n",
    "\n",
    "# init_date, end_date, freq = '2012-01-01', '2016-12-31', 'D'\n",
    "# begin, end, extended_end = init_date, '2015-12-31', end_date\n",
    "# RUNLEN = len(pd.date_range(start=begin, end=extended_end, freq=freq))\n",
    "# FLEX_TAIL_LEN = len(pd.date_range(start=end, end=extended_end, freq=freq))\n",
    "# print(f'run length = {RUNLEN};\\nflex tail length = {FLEX_TAIL_LEN}.')\n",
    "TRAINLEN = RUNLEN - FLEX_TAIL_LEN\n",
    "\n",
    "def randomString(stringLength=8):\n",
    "    letters = string.ascii_lowercase\n",
    "    return ''.join(random.choice(letters) for i in range(stringLength))\n",
    "\n",
    "\n",
    "def run_one_combined(filenames, partition, regr_name):\n",
    "\n",
    "    dfs = []\n",
    "    for i, filename in enumerate(filenames):\n",
    "        # Read in features csvs.\n",
    "        df = pd.read_csv(filename, header=None)\n",
    "\n",
    "        # Drop empty columns\n",
    "        df = df.dropna()\n",
    "\n",
    "        # Renaming columns\n",
    "        cols = df.columns[1: -1]\n",
    "        cols = ['timestep'] + ['F_{}_{}'.format(i, x) for x in cols] + ['target']\n",
    "        df.columns = cols\n",
    "\n",
    "        # Drop out-of-sample rows.\n",
    "        df = df[df.target > -1]\n",
    "        \n",
    "        df['target'] = df['target'].apply(lambda x: 1 if x > partition else 0)\n",
    "\n",
    "        dfs.append(df)\n",
    "\n",
    "    df = reduce(lambda a, b: a.merge(b, how='inner', on=['timestep', 'target']), dfs)\n",
    "    df.set_index('timestep', inplace=True)\n",
    "    df.sort_index(inplace=True)\n",
    "\n",
    "\n",
    "    # remove identical columns and \n",
    "    # move target to the last column \n",
    "    cols_to_keep = []\n",
    "    for col in df:\n",
    "        a = df[col].unique()\n",
    "        if (col is not 'target') and (len(a) > 1):\n",
    "            cols_to_keep.append(col)\n",
    "    df = df[cols_to_keep + ['target']]\n",
    "\n",
    "\n",
    "    # Train test split\n",
    "    df_train = df[df.index < TRAINLEN]\n",
    "    df_test = df[df.index >= TRAINLEN]\n",
    "\n",
    "    data_train = df_train.values\n",
    "    data_test = df_test.values\n",
    "\n",
    "    X_train = data_train[:, :-1]\n",
    "    y_train = data_train[:, -1]\n",
    "    X_test = data_test[:, :-1]\n",
    "    y_test = data_test[:, -1]\n",
    "\n",
    "\n",
    "    if np.count_nonzero(y_test) == 0:\n",
    "        return -1\n",
    "\n",
    "    # Define Regressor or Classifier.\n",
    "    regrs = {\n",
    "        'ETree': ExtraTreesClassifier(\n",
    "            n_estimators=5000, \n",
    "            max_depth=2, \n",
    "            min_samples_split=2, \n",
    "            class_weight='balanced'),\n",
    "        'AdaB': AdaBoostClassifier(base_estimator=DecisionTreeClassifier(max_depth=2), n_estimators=1000),\n",
    "        'NN': MLPClassifier(alpha=1, max_iter=1000)\n",
    "    }\n",
    "    regr = regrs[regr_name]\n",
    "    \n",
    "    # Train the regressor.\n",
    "    try: \n",
    "        regr.fit(X_train, y_train)\n",
    "\n",
    "        y_prob = regr.predict_proba(X_test)\n",
    "        p_thresholds = [p[1] for p in y_prob]\n",
    "\n",
    "        # Very important, the y_test needs to be an int for flexroc to work properly.\n",
    "        to_write = [[int(y_test[n]), p_thresholds[n]] for n in range(len(p_thresholds))]\n",
    "\n",
    "        # Score or AUC\n",
    "        prefix = filename.rstrip('.csv')\n",
    "        log_filename = prefix + '.log'\n",
    "        roc_filename = prefix + '.roc'\n",
    "        with open(log_filename, 'w') as fh:\n",
    "            writer = csv.writer(fh, delimiter=' ')\n",
    "            for row in to_write:\n",
    "                writer.writerow(row)\n",
    "        auc_command = f'{FLEXROC} -i {log_filename}  -w 1 -x 0 -C 1 -L 1 -E 0 -f .2 -t .9 -r {roc_filename}'\n",
    "        output = subprocess.check_output(auc_command, shell=True)\n",
    "\n",
    "        # ------------add this line if working with python3 -----------------\n",
    "        output = output.decode('utf8')\n",
    "        # -------------------------------------------------------------------\n",
    "\n",
    "        auc = float(output.split(' ')[1])\n",
    "        return auc\n",
    "    except:\n",
    "        return -2\n",
    "\n",
    "\n",
    "csv_folder = '/project2/ishanu/YI_terror/ntb_Syria/csvs'\n",
    "partition = .5\n",
    "regr_name = 'ETree'\n",
    "output_file = f'/project2/ishanu/YI_terror/ntb_Syria/ML_{regr_name}.csv'\n",
    "\n",
    "filenames = glob(f'{csv_folder}/*model.csv')\n",
    "model_ids, aucs = [], []\n",
    "for i, filename in enumerate(filenames):\n",
    "    model_id = filename.split('/')[-1][:-4].split('m')[0]\n",
    "    auc = run_one_combined([filename], partition, regr_name)\n",
    "    \n",
    "    model_ids.append(model_id)\n",
    "    aucs.append(auc)\n",
    "    \n",
    "    print(f'{i}/{len(filenames)}: model id = {model_id}, auc = {auc}')\n",
    "    \n",
    "df = pd.DataFrame(index=index, data={'ml': aucs})\n",
    "df.index.name = 'model_id'\n",
    "df.sort_index(inplace=True)\n",
    "df.to_csv(output_file)\n",
    "\n",
    "df = df[df.ml > 0]\n",
    "print(df.describe().loc()[['mean', '50%']])"
   ]
  },
  {
   "cell_type": "markdown",
   "metadata": {},
   "source": [
    "## Simulation"
   ]
  },
  {
   "cell_type": "markdown",
   "metadata": {},
   "source": [
    "### Get simulation file\n",
    "In the next step, we will use the simulation file to get spatial relaxation and snapshot."
   ]
  },
  {
   "cell_type": "code",
   "execution_count": null,
   "metadata": {},
   "outputs": [],
   "source": [
    "log_path = FILEPATH\n",
    "\n",
    "cn.flexroc_only_parallel(\n",
    "    '{}/*.log'.format(log_path),\n",
    "    tpr_threshold=0.85,\n",
    "    fpr_threshold=None,\n",
    "    FLEX_TAIL_LEN=FLEX_TAIL_LEN, \n",
    "    cores=1)\n",
    "\n",
    "mapper = cn.mapped_events('{}/*{}models#*#*.csv'.format(log_path, model_nums[0]))\n",
    "mapper.concat_dataframes('{}/sim.csv'.format(log_path))"
   ]
  },
  {
   "cell_type": "markdown",
   "metadata": {},
   "source": [
    "### Get spatial relaxation and plot snapshots\n",
    "\n",
    "The following code isn't really runable right now. But after we move cynet to Python3, it will be okay."
   ]
  },
  {
   "cell_type": "markdown",
   "metadata": {},
   "source": [
    "import sys\n",
    "sys.path.append('/project2/ishanu/YI_terror/cynet_utils/')\n",
    "import spatial as sp"
   ]
  },
  {
   "cell_type": "raw",
   "metadata": {},
   "source": [
    "datetime_range = pd.date_range(start='2016-01-01', end='2016-12-31', freq='D')\n",
    "print(f'total number of days = {len(datetime_range)}')\n",
    "df = pd.read_csv('sim.csv')\n",
    "\n",
    "lat_min, lat_max = df.lat1.min(), df.lat2.max()\n",
    "lon_min, lon_max = df.lon1.min(), df.lon2.max()\n",
    "print(f'lat = ({lat_min:.3f}, {lat_max:.3f})')\n",
    "print(f'lon = ({lon_min:.3f}, {lon_max:.3f})')\n",
    "\n",
    "day_min = 1462\n",
    "df = df[ (df['day'] >= day_min) & (df['target'] != 'VAR') ]\n",
    "\n",
    "\n",
    "print(df.target.unique())\n",
    "events = [\n",
    "    'Armed_Assault-Assassination-Hijacking-Hostage_Taking_Barricade_Incident-Hostage_Taking_Kidnapping',\n",
    "    'Bombing_Explosion-Facility_Infrastructure_Attack'\n",
    "]\n",
    "\n",
    "day = 1517\n",
    "time = datetime_range[day - day_min].date()\n",
    "print(time)\n",
    "\n",
    "\n",
    "Z = 0.06\n",
    "parameters = {e: {} for e in events}\n",
    "for var in events:\n",
    "    types = [var]\n",
    "    fn, tp, fp, ppv, sens, lon_, lat_, int_plot, int_, dfG, dfFN, dfTP, dfFP, dfTP0 = sp.get_prediction(\n",
    "        df,\n",
    "        day,\n",
    "        types,\n",
    "        lat_min,\n",
    "        lat_max,\n",
    "        lon_min,\n",
    "        lon_max,\n",
    "        radius=8,\n",
    "        sigma=3.5,\n",
    "        detail=1.2,\n",
    "        miles=15,\n",
    "        Z=Z)\n",
    "\n",
    "    print('day={}, {}: fp={}, tp={}, fn={}; ppv={:.3f}, sens={:.3f}'\n",
    "          .format(day, var, fp, tp, fn, ppv, sens))\n",
    "    \n",
    "    parameters[var].update({\n",
    "        'fp': fp, 'tp': tp, 'fn': fn,\n",
    "        'ppv': ppv, 'sens': sens,\n",
    "        'lon': lon_, 'lat': lat_,\n",
    "        'int': int_, 'df': dfG,\n",
    "        'dffp': dfFP, 'dftp': dfTP, 'dffn': dfFN,\n",
    "        'dftp_0': dfTP0\n",
    "    })\n",
    "\n",
    "\n",
    "\n",
    "cmap0 = sp.truncate_colormap(plt.cm.get_cmap('Reds'), 0.3, .9)\n",
    "cmap1 = sp.truncate_colormap(plt.cm.get_cmap('Blues'), 0.3, .9)\n",
    "bcolor0 = 'brown'\n",
    "bcolor1 = 'blue'\n",
    "\n",
    "\n",
    "parameters[events[0]]['cmap'] = cmap0\n",
    "parameters[events[0]]['bcolor'] = bcolor0\n",
    "parameters[events[0]]['mcolor'] = bcolor0\n",
    "parameters[events[0]]['mtype'] = 'v'\n",
    "parameters[events[1]]['cmap'] = cmap1\n",
    "parameters[events[1]]['bcolor'] = bcolor1\n",
    "parameters[events[1]]['mcolor'] = bcolor1\n",
    "parameters[events[1]]['mtype'] = '^'\n",
    "\n",
    "xlim = [-.1e7, 1.1e7]\n",
    "ylim =[-.12e7, .92e7]\n",
    "\n",
    "barTitleSize, barTickerSize = 20, 18\n",
    "barWidth, barHeight = 1.4, 1.76\n",
    "markerSize = 60\n",
    "lighten_ratio = .2\n",
    "\n",
    "width_height_ratio = (xlim[1] - xlim[0]) / (ylim[1] - ylim[0])\n",
    "height = 10\n",
    "width = width_height_ratio * height\n",
    "fig = plt.figure(figsize=(width, height))\n",
    "# A MUST-HAVE OR OTHERWISE THE DIMENSION OF THE PLOT ARE NOT UNIFORM\n",
    "ax = fig.gca()\n",
    "ax.set_xlim(*xlim)\n",
    "ax.set_ylim(*ylim)\n",
    "\n",
    "var_title_map = {\n",
    "    events[0]: 'Personnel',\n",
    "    events[1]: 'Property'\n",
    "}\n",
    "for var in events:\n",
    "\n",
    "    fp, tp, fn = parameters[var]['fp'], parameters[var]['tp'], parameters[var]['fn']\n",
    "    lon_, lat_ = parameters[var]['lon'], parameters[var]['lat']\n",
    "    int_, dfG = parameters[var]['int'], parameters[var]['dftp']\n",
    "\n",
    "    dfG['Latitude'] = (dfG.lat1 + dfG.lat2) / 2\n",
    "    dfG['Longitude'] = (dfG.lon1 + dfG.lon2) / 2\n",
    "    dfG_ = dfG[['Latitude','Longitude']]\n",
    "    GND = gpd.GeoDataFrame(\n",
    "        dfG_, \n",
    "        geometry=gpd.points_from_xy(dfG_.Longitude, dfG_.Latitude))\n",
    "    GND.crs= {'init' :'epsg:4326'}\n",
    "    GND = GND.to_crs(epsg=3857)\n",
    "\n",
    "    Longitude = []\n",
    "    Latitude = []\n",
    "    density = []\n",
    "    for row in tqdm(np.arange(0,len(int_))):\n",
    "        for col in np.arange(0,len(int_[row])):\n",
    "            if int_[row, col] > 0:\n",
    "                Longitude = np.append(Longitude,lon_[row,col])\n",
    "                Latitude = np.append(Latitude,lat_[row,col])\n",
    "                density = np.append(density,int_[row,col])\n",
    "\n",
    "    df_density=pd.DataFrame(data={\n",
    "        'Longitude': Longitude, \n",
    "        'Latitude': Latitude, \n",
    "        'density':density})\n",
    "\n",
    "    wdf = gpd.GeoDataFrame(\n",
    "        df_density, \n",
    "        geometry=gpd.points_from_xy(df_density.Longitude, df_density.Latitude))\n",
    "    wdf.crs= {'init' :'epsg:4326'}\n",
    "    wdf = wdf.to_crs(epsg=3857)\n",
    "\n",
    "    ax = fig.gca()\n",
    "    ax = wdf.plot(\n",
    "        ax=ax,\n",
    "        column='density',\n",
    "        edgecolor='w',\n",
    "        linewidth=0,\n",
    "        cmap=parameters[var]['cmap'],\n",
    "        alpha=.6, \n",
    "        zorder=5, \n",
    "        marker='s',\n",
    "        markersize=135)\n",
    "\n",
    "    ax=GND.plot(\n",
    "        ax=ax, \n",
    "        marker=parameters[var]['mtype'],\n",
    "        lw=1,\n",
    "        # edgecolor='b',\n",
    "        facecolors=parameters[var]['mcolor'],\n",
    "        edgecolor=parameters[var]['mcolor'],\n",
    "        # color=lighten_color(parameters[var]['mcolor'], lighten_ratio), \n",
    "        markersize=150, \n",
    "        alpha=.8,\n",
    "        zorder=10)\n",
    "\n",
    "    ctx.add_basemap(ax, source=ctx.sources.ST_TONER_BACKGROUND,alpha=.5)  ###IXC\n",
    "\n",
    "\n",
    "# ======================== Time stamp ===================== START\n",
    "ax.text(\n",
    "    0.925, 0.05,\n",
    "    str(time).split()[0], \n",
    "    transform=ax.transAxes,\n",
    "    fontweight='bold',\n",
    "    fontsize=20,\n",
    "    color='w',\n",
    "    verticalalignment='bottom', \n",
    "    horizontalalignment='right', \n",
    "    bbox=dict(\n",
    "        boxstyle='round', \n",
    "        facecolor='midnightblue', \n",
    "        alpha=0.9)\n",
    ")\n",
    "# ======================== Time stamp ===================== END\n",
    "\n",
    "\n",
    "# ================== Add bars of FN, TP, FP ==============START\n",
    "width_ratio = barWidth / width\n",
    "height_ratio = barHeight / height\n",
    "parameters[events[0]]['bar_location'] = [0.625, 0.75, width_ratio, height_ratio]\n",
    "parameters[events[1]]['bar_location'] = [0.85, 0.75, width_ratio, height_ratio]\n",
    "\n",
    "plt.gcf().patches.extend([\n",
    "    plt.Rectangle(\n",
    "        (0.6, 0.7), \n",
    "        0.6, 0.25, \n",
    "        fill=True, \n",
    "        color='w', \n",
    "        alpha=0.9, \n",
    "        zorder=1,\n",
    "        transform=fig.transFigure, \n",
    "        figure=plt.gcf())\n",
    "])\n",
    "\n",
    "for var in events:\n",
    "    cmap = parameters[var]['cmap']\n",
    "    bar_location = parameters[var]['bar_location']\n",
    "    \n",
    "    bar_data = np.array([\n",
    "        parameters[var]['fn'], \n",
    "        parameters[var]['tp'], \n",
    "        parameters[var]['fp']\n",
    "    ])\n",
    "    bar_data = bar_data / bar_data.sum()\n",
    "\n",
    "    \n",
    "    ax2 = plt.gcf().add_axes(bar_location, zorder=20)\n",
    "    ax2.patch.set_alpha(1)\n",
    "    ax2.set_facecolor(\"white\")\n",
    "    \n",
    "    ax2.bar(\n",
    "        ['FN','TP','FP'],\n",
    "        bar_data,\n",
    "        color=parameters[var]['bcolor'],\n",
    "        lw=0,\n",
    "        zorder=20,\n",
    "        alpha=.9)\n",
    "\n",
    "    ax2.spines['bottom'].set_color('black')\n",
    "    ax2.spines['top'].set_color('black') \n",
    "    ax2.spines['right'].set_visible(False) \n",
    "    ax2.spines['left'].set_visible(False) \n",
    "    ax2.tick_params(axis='x', colors='black', pad=8)\n",
    "    ax2.tick_params(axis='y', colors='black')\n",
    "\n",
    "    ax2.set_title(\n",
    "        var_title_map[var], \n",
    "        color='black', \n",
    "        fontdict={'fontsize': barTitleSize, 'fontweight': 'bold'})\n",
    "    ttl = ax2.title\n",
    "    ttl.set_position([.5, 1.05])\n",
    "    ax2.grid(True)\n",
    "\n",
    "    for label in ax2.get_xticklabels():\n",
    "        label.set_color('black')\n",
    "        label.set_fontsize(barTickerSize)\n",
    "        label.set_fontweight('bold')\n",
    "\n",
    "    for label in ax2.get_yticklabels():\n",
    "        label.set_color('black')\n",
    "        label.set_fontsize(barTickerSize)\n",
    "        label.set_fontweight('bold')\n",
    "\n",
    "    ax2.tick_params(axis=u'both', which=u'both',length=0)\n",
    "# ================== Add bars of FN, TP, FP ==============END\n",
    "\n",
    "ax.axis('off')\n",
    "sp.saveFIG(f'selected_terror_MiddelEast_{day}.pdf')"
   ]
  }
 ],
 "metadata": {
  "kernelspec": {
   "display_name": "Python 2",
   "language": "python",
   "name": "python2"
  },
  "language_info": {
   "codemirror_mode": {
    "name": "ipython",
    "version": 2
   },
   "file_extension": ".py",
   "mimetype": "text/x-python",
   "name": "python",
   "nbconvert_exporter": "python",
   "pygments_lexer": "ipython2",
   "version": "2.7.17"
  }
 },
 "nbformat": 4,
 "nbformat_minor": 4
}
