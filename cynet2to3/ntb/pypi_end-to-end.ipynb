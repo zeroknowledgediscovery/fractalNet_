{
 "cells": [
  {
   "cell_type": "code",
   "execution_count": 1,
   "metadata": {},
   "outputs": [],
   "source": [
    "import sys\n",
    "path = '/home/yihuang/Documents/CODE/fractalNet_/cynet2to3/'\n",
    "sys.path.append(path)\n",
    "import cynet.cynet as cn\n",
    "import pandas as pd\n",
    "import numpy as np\n",
    "import os\n",
    "from glob import glob"
   ]
  },
  {
   "cell_type": "markdown",
   "metadata": {},
   "source": [
    "## Process Event Log File and Generate Split and Triplet"
   ]
  },
  {
   "cell_type": "markdown",
   "metadata": {},
   "source": [
    "### 1. Parameter setting"
   ]
  },
  {
   "cell_type": "markdown",
   "metadata": {},
   "source": [
    "#### a. File\n",
    "In the following cell, we specify the event log input file as `LOGFILE`. Since the `STOREFILE` is only used internally, we can just name it after the `LOGFILE`. "
   ]
  },
  {
   "cell_type": "code",
   "execution_count": 2,
   "metadata": {},
   "outputs": [],
   "source": [
    "LOGFILE = f'{path}/data/terror.csv'\n",
    "STOREFILE = os.path.join(f'{path}/ntb', os.path.basename(LOGFILE).split('.')[0] + '.p')\n",
    "# In this case, STOREFILE = '/project2/ishanu/YI_terror/ntb/terror.p'"
   ]
  },
  {
   "cell_type": "markdown",
   "metadata": {},
   "source": [
    "#### b. Spatial Range and Discretization\n",
    "\n",
    "In the following cell, we specify the tiles used for spatial discretization.\n",
    "We cut latitude (longitude) between `lat_min` and `lat_max` (`lon_min` and `lon_max`) into `lat_eps` (`lon_eps`) equal parts. Each tiles is one longitude step size wide and one latitude step size high."
   ]
  },
  {
   "cell_type": "code",
   "execution_count": 2,
   "metadata": {},
   "outputs": [],
   "source": [
    "# Column names in the event log file for coordinate 1 and 2\n",
    "coord1, coord2 ='latitude', 'longitude'\n",
    "\n",
    "# Tiles\n",
    "lat_min, lat_max = -4, 49\n",
    "lon_min, lon_max = -16, 84\n",
    "lat_eps, lon_eps = 10, 10\n",
    "\n",
    "lat = np.around(np.linspace(lat_min, lat_max, lat_eps + 1), decimals=5)\n",
    "lon = np.around(np.linspace(lon_min, lon_max, lon_eps + 1), decimals=5)\n",
    "tiles = [[lat[i], lat[i + 1], lon[j], lon[j + 1]] for i in np.arange(lat_eps) for j in np.arange(lon_eps)]"
   ]
  },
  {
   "cell_type": "markdown",
   "metadata": {},
   "source": [
    "#### c. Time Range and Discretization"
   ]
  },
  {
   "cell_type": "code",
   "execution_count": 3,
   "metadata": {},
   "outputs": [],
   "source": [
    "# Column names in the event log file for year, month, and day\n",
    "year, month, day='iyear', 'imonth', 'iday'\n",
    "init_date, end_date, freq = '2012-01-01', '2016-12-31', 'D'"
   ]
  },
  {
   "cell_type": "markdown",
   "metadata": {},
   "source": [
    "#### d. Event\n",
    "If a time series has an event frequency less than `threshold`, discard the time series."
   ]
  },
  {
   "cell_type": "code",
   "execution_count": 4,
   "metadata": {},
   "outputs": [],
   "source": [
    "event_dict = {\n",
    "    'number_of_kills': {\n",
    "        'col_name': 'nkill',\n",
    "        'value_limits': [0, 10000],\n",
    "        'threshold': 0.025,\n",
    "        'csvname_prefix': 'NKILL'\n",
    "    },\n",
    "    'BEFIA': {\n",
    "        'col_name': 'attacktype1_txt',\n",
    "        'types': [[\n",
    "            'Bombing/Explosion', \n",
    "            'Facility/Infrastructure Attack'\n",
    "        ]],\n",
    "        'threshold': 0.025,\n",
    "        'csvname_prefix': 'BEFIA'\n",
    "    },\n",
    "    'AAHHH': {\n",
    "        'col_name': 'attacktype1_txt',\n",
    "        'types': [[\n",
    "            'Armed Assault', \n",
    "            'Assassination',\n",
    "            'Hijacking',\n",
    "            'Hostage Taking (Barricade Incident)',\n",
    "            'Hostage Taking (Kidnapping)'\n",
    "        ]],\n",
    "        'threshold': 0.025,\n",
    "        'csvname_prefix': 'AAHHH'\n",
    "    }\n",
    "}"
   ]
  },
  {
   "cell_type": "markdown",
   "metadata": {},
   "source": [
    "### 2. Generating Time Series for Training and Test"
   ]
  },
  {
   "cell_type": "markdown",
   "metadata": {},
   "source": [
    "#### a. Time Series for the Number of kills\n",
    "Our first fit is `S0` for time series of number of kills. \n",
    "Essentially, we are looking for tiles that meet a certain number of kills (deaths in the column `nkill`). \n",
    "We are looking for tiles with number of kills that are greater than a certain `threshold`. \n",
    "Here that `threshold` is $0.025$.\n",
    "A file named `NKILL.csv` is outputted. \n",
    "And, more importantly, the internal timeseries dataframe is changed."
   ]
  },
  {
   "cell_type": "code",
   "execution_count": 9,
   "metadata": {},
   "outputs": [
    {
     "name": "stderr",
     "output_type": "stream",
     "text": [
      "/home/yihuang/.local/lib/python3.7/site-packages/IPython/core/interactiveshell.py:3338: DtypeWarning: Columns (4,6,31,33,53,61,62,63,76,79,90,92,94,96,114,115,121) have mixed types.Specify dtype option on import or set low_memory=False.\n",
      "  if (await self.run_code(code, result,  async_=asy)):\n",
      "100%|██████████| 100/100 [01:37<00:00,  1.03it/s]\n"
     ]
    }
   ],
   "source": [
    "S0 = cn.spatioTemporal(\n",
    "    # File\n",
    "    log_file=LOGFILE,\n",
    "    log_store=STOREFILE,\n",
    "    # Spatial\n",
    "    coord1=coord1,\n",
    "    coord2=coord2,\n",
    "    grid=tiles,\n",
    "    # Temporal\n",
    "    year=year,\n",
    "    month=month,\n",
    "    day=day,\n",
    "    init_date=init_date,\n",
    "    end_date=end_date,\n",
    "    freq=freq,\n",
    "    # Event\n",
    "    EVENT=event_dict['number_of_kills']['col_name'],\n",
    "    value_limits=event_dict['number_of_kills']['value_limits'],\n",
    "    threshold=event_dict['number_of_kills']['threshold'])\n",
    "\n",
    "S0.fit(csvPREF=event_dict['number_of_kills']['csvname_prefix'])"
   ]
  },
  {
   "cell_type": "markdown",
   "metadata": {},
   "source": [
    "**Note** that we are now going to use the tiles selected for in `S0`. "
   ]
  },
  {
   "cell_type": "code",
   "execution_count": 10,
   "metadata": {},
   "outputs": [],
   "source": [
    "tiles = S0.getGrid()"
   ]
  },
  {
   "cell_type": "markdown",
   "metadata": {},
   "source": [
    "#### b. Time Series for Bombing/Explosion and Facility/Infrastructure Attack\n",
    "`S1` will be our fitting for attack types in the categories \n",
    " - `Bombing/Explosion` and \n",
    " - `Facility/Infrastructure Attack`.\n",
    "\n",
    "We are counting the number of these types of events that happen in these tiles.\n",
    "Output is written to `BEFIA.csv`, which contains the timeseries for those types of attacks in the selected tiles."
   ]
  },
  {
   "cell_type": "code",
   "execution_count": 13,
   "metadata": {},
   "outputs": [
    {
     "name": "stderr",
     "output_type": "stream",
     "text": [
      "100%|██████████| 47/47 [00:36<00:00,  1.30it/s]\n"
     ]
    }
   ],
   "source": [
    "S1 = cn.spatioTemporal(\n",
    "    log_store=STOREFILE,\n",
    "    # Spatial\n",
    "    coord1=coord1,\n",
    "    coord2=coord2,\n",
    "    grid=tiles,\n",
    "    # Temporal\n",
    "    year=year,\n",
    "    month=month,\n",
    "    day=day,\n",
    "    init_date=init_date,\n",
    "    end_date=end_date,\n",
    "    freq=freq,\n",
    "    # Event\n",
    "    EVENT=event_dict['BEFIA']['col_name'],\n",
    "    types=event_dict['BEFIA']['types'],\n",
    "    threshold=event_dict['BEFIA']['threshold'])\n",
    "\n",
    "S1.fit(csvPREF=event_dict['BEFIA']['csvname_prefix'])"
   ]
  },
  {
   "cell_type": "markdown",
   "metadata": {},
   "source": [
    "#### c. Time Series for Armed Assault, Assassination, Hijacking, and Hostage Taking\n",
    "`S2` fits for the attack types:\n",
    " - `Armed Assault`, \n",
    " - `Hostage Taking (Barricade Incident)`, \n",
    " - `Hijacking`, \n",
    " - `Assassination`,\n",
    " - `Hostage Taking (Kidnapping) `.\n",
    "\n",
    "Output is written to `AAHHH.csv`."
   ]
  },
  {
   "cell_type": "code",
   "execution_count": 14,
   "metadata": {},
   "outputs": [
    {
     "name": "stderr",
     "output_type": "stream",
     "text": [
      "100%|██████████| 47/47 [00:29<00:00,  1.58it/s]\n"
     ]
    }
   ],
   "source": [
    "S2 = cn.spatioTemporal(\n",
    "    log_store=STOREFILE,\n",
    "    # Spatial\n",
    "    coord1=coord1,\n",
    "    coord2=coord2,\n",
    "    grid=tiles,\n",
    "    # Temporal\n",
    "    year=year,\n",
    "    month=month,\n",
    "    day=day,\n",
    "    init_date=init_date,\n",
    "    end_date=end_date,\n",
    "    freq=freq,\n",
    "    # Event\n",
    "    EVENT=event_dict['AAHHH']['col_name'],\n",
    "    types=event_dict['AAHHH']['types'],\n",
    "    threshold=event_dict['AAHHH']['threshold'])\n",
    "\n",
    "S2.fit(csvPREF=event_dict['AAHHH']['csvname_prefix'])"
   ]
  },
  {
   "cell_type": "markdown",
   "metadata": {},
   "source": [
    "### 3. Generate Triplet for Training and Split for Testing\n",
    "Now we use the csv files created in previous steps (listed in `CSVfiles`) to generate the triplet files for training and split files for testing. \n",
    "\n",
    " - The triplet files are generated with `readTS`.\n",
    "    The training period is defined by `begin` and `end`. \n",
    " - The split files are generated with `splitTS`. \n",
    "    The split files contains data from `begin` to `extended_end`. \n",
    "    The data for testing are those beyond the `end` and before the `extended_end`\n",
    "    Here we set the `extended_end` to be one year beyond the `end`."
   ]
  },
  {
   "cell_type": "code",
   "execution_count": 5,
   "metadata": {},
   "outputs": [],
   "source": [
    "CSVfiles = [val['csvname_prefix'] + '.csv' for _, val in event_dict.items()]\n",
    "\n",
    "begin, end, extended_end = init_date, '2015-12-31', end_date\n",
    "\n",
    "# Make sure the triplet folder and split folder exist\n",
    "os.mkdir(f'{path}/ntb/triplet/')\n",
    "os.mkdir(f'{path}/ntb/split/')"
   ]
  },
  {
   "cell_type": "code",
   "execution_count": 6,
   "metadata": {},
   "outputs": [],
   "source": [
    "# Triplet\n",
    "triplet_fnames_prefix = f'{path}/ntb/triplet/TERROR_' + begin + '_' + end\n",
    "cn.readTS(\n",
    "    CSVfiles, \n",
    "    csvNAME=triplet_fnames_prefix, \n",
    "    BEG=begin, \n",
    "    END=end)\n",
    "\n",
    "# Split\n",
    "split_dirname = f'{path}/ntb/split/'\n",
    "split_prefix = begin + '_' + extended_end + '_'\n",
    "cn.splitTS(\n",
    "    CSVfiles, \n",
    "    BEG=begin, \n",
    "    END=extended_end, \n",
    "    dirname=split_dirname, \n",
    "    prefix=split_prefix)"
   ]
  },
  {
   "cell_type": "markdown",
   "metadata": {},
   "source": [
    "####  Optional cleanup of out-of-use files."
   ]
  },
  {
   "cell_type": "code",
   "execution_count": 19,
   "metadata": {},
   "outputs": [],
   "source": [
    "for CSVfile in CSVfiles:\n",
    "    os.remove(CSVfile)\n",
    "os.remove(STOREFILE)"
   ]
  },
  {
   "cell_type": "markdown",
   "metadata": {},
   "source": [
    "## Model Generation\n",
    "Now that we training and testing data ready, it is time to create the models.\n",
    "\n",
    "**Input and Output of this step**\n",
    " - Input: training data (the triplet files) produced by `readTS`;\n",
    " - Output: model json files which each represnts a model."
   ]
  },
  {
   "cell_type": "markdown",
   "metadata": {},
   "source": [
    "### 1. Parameter setting\n",
    "\n",
    "**Note:** It is highly recommended that we use absolute paths.\n",
    "\n",
    "**Explanations:**\n",
    " - `PARTITION`: Since we work with event counts, a single partitioning at $-.5$ makes \"no event\" a $0$, and \"any number of events more than $1$\" a $1$.\n",
    " - `RUN_LOCAL`: \n",
    "     - If `False`, `xgModels` will produce a list of calls `program_calls.txt` that needs to be run to produce the models.\n",
    "     - If `True`, `xgModels` will generate models locally. \n",
    " - `NUM_RERUNS`: Since `XgenESeSS` is random, we usually run it several times to get the averaged result.\n",
    " - `XgenESeSS`: The location of the `XgenESeSS` binary.\n",
    "     - it only work for Linux;"
   ]
  },
  {
   "cell_type": "code",
   "execution_count": 7,
   "metadata": {},
   "outputs": [],
   "source": [
    "# File parameters\n",
    "TS_PATH = triplet_fnames_prefix + '.csv' # The time series (data only)\n",
    "NAME_PATH = triplet_fnames_prefix + '.coords' # The names for each time series\n",
    "FILEPATH = f'{path}/ntb/models/' # Make sure to create a folder with name `FILEPATH` below\n",
    "LOG_PATH = 'log.txt'\n",
    "\n",
    "# XgenESSeS parameters\n",
    "BEG = 1  # minimum delay considered\n",
    "END = 60 # maximum delay considered\n",
    "NUM_RERUNS = 2 # number of reruns\n",
    "PARTITION = [.5] # partitioning points. \n",
    "XgenESeSS = f'{path}/cynet/bin/XgenESeSS'\n",
    "RUN_LOCAL = True\n",
    "\n",
    "# make sure a folder named `models` is created\n",
    "os.mkdir(FILEPATH)"
   ]
  },
  {
   "cell_type": "markdown",
   "metadata": {},
   "source": [
    "### 2. Running `xgModels` to generate model or model generating calls"
   ]
  },
  {
   "cell_type": "code",
   "execution_count": 21,
   "metadata": {},
   "outputs": [
    {
     "name": "stderr",
     "output_type": "stream",
     "text": [
      "[Parallel(n_jobs=4)]: Using backend ThreadingBackend with 4 concurrent workers.\n"
     ]
    },
    {
     "name": "stdout",
     "output_type": "stream",
     "text": [
      "XgenESeSS Command 1 has startedXgenESeSS Command 2 has started\n",
      "\n",
      "XgenESeSS Command 3 has startedXgenESeSS Command 4 has started\n",
      "\n",
      "XgenESeSS Command 4 has finished\n",
      "XgenESeSS Command 5 has started\n",
      "XgenESeSS Command 3 has finished\n",
      "XgenESeSS Command 6 has started\n",
      "XgenESeSS Command 1 has finished\n",
      "XgenESeSS Command 7 has started\n",
      "XgenESeSS Command 2 has finished\n",
      "XgenESeSS Command 8 has started\n",
      "XgenESeSS Command 5 has finished\n",
      "XgenESeSS Command 9 has started\n",
      "XgenESeSS Command 6 has finished\n",
      "XgenESeSS Command 10 has started\n",
      "XgenESeSS Command 9 has finished\n",
      "XgenESeSS Command 11 has started\n",
      "XgenESeSS Command 8 has finished\n",
      "XgenESeSS Command 12 has started\n",
      "XgenESeSS Command 7 has finished\n",
      "XgenESeSS Command 13 has started\n",
      "XgenESeSS Command 10 has finished\n",
      "XgenESeSS Command 14 has started\n",
      "XgenESeSS Command 11 has finished\n",
      "XgenESeSS Command 15 has started\n",
      "XgenESeSS Command 12 has finished\n",
      "XgenESeSS Command 16 has started\n",
      "XgenESeSS Command 13 has finished\n",
      "XgenESeSS Command 17 has started\n",
      "XgenESeSS Command 15 has finished\n",
      "XgenESeSS Command 18 has started\n",
      "XgenESeSS Command 14 has finished\n",
      "XgenESeSS Command 19 has started\n",
      "XgenESeSS Command 16 has finished\n",
      "XgenESeSS Command 20 has started\n",
      "XgenESeSS Command 17 has finished\n",
      "XgenESeSS Command 21 has started\n",
      "XgenESeSS Command 19 has finished\n",
      "XgenESeSS Command 22 has started\n",
      "XgenESeSS Command 20 has finished\n",
      "XgenESeSS Command 23 has started\n",
      "XgenESeSS Command 21 has finished\n",
      "XgenESeSS Command 24 has started\n",
      "XgenESeSS Command 18 has finished\n",
      "XgenESeSS Command 25 has started\n",
      "XgenESeSS Command 23 has finished\n",
      "XgenESeSS Command 26 has started\n",
      "XgenESeSS Command 22 has finished\n",
      "XgenESeSS Command 27 has started\n",
      "XgenESeSS Command 24 has finished\n",
      "XgenESeSS Command 28 has started\n",
      "XgenESeSS Command 26 has finished\n",
      "XgenESeSS Command 29 has started\n",
      "XgenESeSS Command 25 has finished\n",
      "XgenESeSS Command 30 has started\n",
      "XgenESeSS Command 27 has finished\n",
      "XgenESeSS Command 31 has started\n",
      "XgenESeSS Command 28 has finished\n",
      "XgenESeSS Command 32 has started\n",
      "XgenESeSS Command 29 has finished\n",
      "XgenESeSS Command 33 has started\n",
      "XgenESeSS Command 30 has finished\n",
      "XgenESeSS Command 34 has started\n",
      "XgenESeSS Command 31 has finished\n",
      "XgenESeSS Command 35 has started\n",
      "XgenESeSS Command 33 has finished\n",
      "XgenESeSS Command 36 has started\n",
      "XgenESeSS Command 32 has finished\n",
      "XgenESeSS Command 37 has started\n",
      "XgenESeSS Command 35 has finished\n",
      "XgenESeSS Command 38 has started\n",
      "XgenESeSS Command 34 has finished\n",
      "XgenESeSS Command 39 has started\n",
      "XgenESeSS Command 36 has finished\n",
      "XgenESeSS Command 40 has started\n",
      "XgenESeSS Command 37 has finished\n",
      "XgenESeSS Command 41 has started\n",
      "XgenESeSS Command 40 has finished\n",
      "XgenESeSS Command 42 has started\n",
      "XgenESeSS Command 38 has finished\n",
      "XgenESeSS Command 43 has started\n",
      "XgenESeSS Command 39 has finished\n",
      "XgenESeSS Command 44 has started\n",
      "XgenESeSS Command 42 has finished\n",
      "XgenESeSS Command 45 has started\n",
      "XgenESeSS Command 41 has finished\n",
      "XgenESeSS Command 46 has started\n"
     ]
    },
    {
     "name": "stderr",
     "output_type": "stream",
     "text": [
      "[Parallel(n_jobs=4)]: Done  42 tasks      | elapsed: 147.1min\n"
     ]
    },
    {
     "name": "stdout",
     "output_type": "stream",
     "text": [
      "XgenESeSS Command 43 has finished\n",
      "XgenESeSS Command 47 has started\n",
      "XgenESeSS Command 44 has finished\n",
      "XgenESeSS Command 48 has started\n",
      "XgenESeSS Command 46 has finished\n",
      "XgenESeSS Command 49 has started\n",
      "XgenESeSS Command 45 has finished\n",
      "XgenESeSS Command 50 has started\n",
      "XgenESeSS Command 48 has finished\n",
      "XgenESeSS Command 51 has started\n",
      "XgenESeSS Command 50 has finished\n",
      "XgenESeSS Command 52 has started\n",
      "XgenESeSS Command 49 has finished\n",
      "XgenESeSS Command 53 has started\n",
      "XgenESeSS Command 47 has finished\n",
      "XgenESeSS Command 54 has started\n",
      "XgenESeSS Command 51 has finished\n",
      "XgenESeSS Command 55 has started\n",
      "XgenESeSS Command 54 has finished\n",
      "XgenESeSS Command 56 has started\n",
      "XgenESeSS Command 52 has finished\n",
      "XgenESeSS Command 57 has started\n",
      "XgenESeSS Command 55 has finished\n",
      "XgenESeSS Command 58 has started\n",
      "XgenESeSS Command 56 has finished\n",
      "XgenESeSS Command 59 has started\n",
      "XgenESeSS Command 53 has finished\n",
      "XgenESeSS Command 60 has started\n",
      "XgenESeSS Command 57 has finished\n",
      "XgenESeSS Command 61 has started\n",
      "XgenESeSS Command 60 has finished\n",
      "XgenESeSS Command 62 has started\n",
      "XgenESeSS Command 58 has finished\n",
      "XgenESeSS Command 63 has started\n",
      "XgenESeSS Command 61 has finished\n",
      "XgenESeSS Command 64 has started\n",
      "XgenESeSS Command 63 has finished\n",
      "XgenESeSS Command 65 has started\n",
      "XgenESeSS Command 59 has finished\n",
      "XgenESeSS Command 66 has started\n",
      "XgenESeSS Command 62 has finished\n",
      "XgenESeSS Command 67 has started\n",
      "XgenESeSS Command 66 has finished\n",
      "XgenESeSS Command 68 has started\n",
      "XgenESeSS Command 64 has finished\n",
      "XgenESeSS Command 69 has started\n",
      "XgenESeSS Command 67 has finished\n",
      "XgenESeSS Command 70 has started\n",
      "XgenESeSS Command 65 has finished\n",
      "XgenESeSS Command 71 has started\n",
      "XgenESeSS Command 69 has finished\n",
      "XgenESeSS Command 72 has started\n",
      "XgenESeSS Command 68 has finished\n",
      "XgenESeSS Command 73 has started\n",
      "XgenESeSS Command 70 has finished\n",
      "XgenESeSS Command 74 has started\n",
      "XgenESeSS Command 71 has finished\n",
      "XgenESeSS Command 75 has started\n",
      "XgenESeSS Command 72 has finished\n",
      "XgenESeSS Command 76 has started\n",
      "XgenESeSS Command 73 has finished\n",
      "XgenESeSS Command 77 has started\n",
      "XgenESeSS Command 74 has finished\n",
      "XgenESeSS Command 78 has started\n",
      "XgenESeSS Command 75 has finished\n",
      "XgenESeSS Command 79 has started\n",
      "XgenESeSS Command 76 has finished\n",
      "XgenESeSS Command 80 has started\n",
      "XgenESeSS Command 79 has finished\n",
      "XgenESeSS Command 81 has started\n",
      "XgenESeSS Command 77 has finished\n",
      "XgenESeSS Command 82 has started\n",
      "XgenESeSS Command 78 has finished\n",
      "XgenESeSS Command 83 has started\n",
      "XgenESeSS Command 80 has finished\n",
      "XgenESeSS Command 84 has started\n",
      "XgenESeSS Command 82 has finished\n",
      "XgenESeSS Command 85 has started\n",
      "XgenESeSS Command 83 has finished\n",
      "XgenESeSS Command 86 has started\n",
      "XgenESeSS Command 81 has finished\n",
      "XgenESeSS Command 87 has started\n",
      "XgenESeSS Command 84 has finished\n",
      "XgenESeSS Command 88 has started\n",
      "XgenESeSS Command 86 has finished\n",
      "XgenESeSS Command 89 has started\n",
      "XgenESeSS Command 85 has finished\n",
      "XgenESeSS Command 90 has started\n",
      "XgenESeSS Command 88 has finished\n",
      "XgenESeSS Command 91 has started\n",
      "XgenESeSS Command 87 has finished\n",
      "XgenESeSS Command 92 has started\n",
      "XgenESeSS Command 89 has finished\n",
      "XgenESeSS Command 93 has started\n",
      "XgenESeSS Command 90 has finished\n",
      "XgenESeSS Command 94 has started\n",
      "XgenESeSS Command 91 has finished\n",
      "XgenESeSS Command 95 has started\n",
      "XgenESeSS Command 92 has finished\n",
      "XgenESeSS Command 96 has started\n",
      "XgenESeSS Command 93 has finished\n",
      "XgenESeSS Command 97 has started\n",
      "XgenESeSS Command 96 has finished\n",
      "XgenESeSS Command 98 has started\n",
      "XgenESeSS Command 94 has finished\n",
      "XgenESeSS Command 99 has started\n",
      "XgenESeSS Command 97 has finished\n",
      "XgenESeSS Command 100 has started\n",
      "XgenESeSS Command 95 has finished\n",
      "XgenESeSS Command 101 has started\n",
      "XgenESeSS Command 98 has finished\n",
      "XgenESeSS Command 102 has started\n",
      "XgenESeSS Command 99 has finished\n",
      "XgenESeSS Command 103 has started\n",
      "XgenESeSS Command 100 has finished\n",
      "XgenESeSS Command 104 has started\n",
      "XgenESeSS Command 101 has finished\n",
      "XgenESeSS Command 105 has started\n",
      "XgenESeSS Command 102 has finished\n",
      "XgenESeSS Command 106 has started\n",
      "XgenESeSS Command 103 has finished\n",
      "XgenESeSS Command 107 has started\n",
      "XgenESeSS Command 106 has finished\n",
      "XgenESeSS Command 108 has started\n",
      "XgenESeSS Command 107 has finished\n",
      "XgenESeSS Command 109 has started\n",
      "XgenESeSS Command 105 has finished\n",
      "XgenESeSS Command 110 has started\n",
      "XgenESeSS Command 104 has finished\n",
      "XgenESeSS Command 111 has started\n",
      "XgenESeSS Command 109 has finished\n",
      "XgenESeSS Command 112 has started\n",
      "XgenESeSS Command 108 has finished\n",
      "XgenESeSS Command 113 has started\n",
      "XgenESeSS Command 110 has finished\n",
      "XgenESeSS Command 114 has started\n",
      "XgenESeSS Command 111 has finished\n",
      "XgenESeSS Command 115 has started\n",
      "XgenESeSS Command 113 has finished\n",
      "XgenESeSS Command 116 has started\n",
      "XgenESeSS Command 112 has finished\n",
      "XgenESeSS Command 117 has started\n",
      "XgenESeSS Command 114 has finished\n",
      "XgenESeSS Command 118 has started\n",
      "XgenESeSS Command 116 has finished\n",
      "XgenESeSS Command 119 has started\n",
      "XgenESeSS Command 117 has finished\n",
      "XgenESeSS Command 120 has started\n",
      "XgenESeSS Command 115 has finished\n",
      "XgenESeSS Command 121 has started\n",
      "XgenESeSS Command 118 has finished\n",
      "XgenESeSS Command 122 has started\n",
      "XgenESeSS Command 120 has finished\n",
      "XgenESeSS Command 123 has started\n",
      "XgenESeSS Command 119 has finished\n",
      "XgenESeSS Command 124 has started\n",
      "XgenESeSS Command 121 has finished\n",
      "XgenESeSS Command 125 has started\n",
      "XgenESeSS Command 123 has finished\n",
      "XgenESeSS Command 126 has started\n",
      "XgenESeSS Command 122 has finished\n",
      "XgenESeSS Command 124 has finished\n",
      "XgenESeSS Command 125 has finished\n",
      "XgenESeSS Command 126 has finished\n",
      "Processing on XgenESeSS finished.\n"
     ]
    },
    {
     "name": "stderr",
     "output_type": "stream",
     "text": [
      "[Parallel(n_jobs=4)]: Done 126 out of 126 | elapsed: 408.3min finished\n"
     ]
    }
   ],
   "source": [
    "XG = cn.xgModels(\n",
    "    TS_PATH,\n",
    "    NAME_PATH, \n",
    "    LOG_PATH,\n",
    "    FILEPATH, \n",
    "    BEG, \n",
    "    END, \n",
    "    NUM_RERUNS, \n",
    "    PARTITION,\n",
    "    XgenESeSS,\n",
    "    RUN_LOCAL)\n",
    "XG.run(workers=4)"
   ]
  },
  {
   "cell_type": "markdown",
   "metadata": {},
   "source": [
    "## Model Evaluation\n",
    "Here we evaluate our models by the AUC of the their prediction. \n",
    "\n",
    "The inner working of `run_pipeline`:\n",
    "1. It first select `model_nums` number of models either by gamma or distance. \n",
    "    Then it creates a model_sel json file which is a filtered version of the models.\n",
    "1. It applies the `cynet` binary to the model_sel files, which generates a log file containing predictions.\n",
    "1. It applies the `flexroc` binary to the log files, once for each target type.\n",
    "1. Finally, it writes test statistics (AUC, fpr, and, tpr) and output a `res_all.csv` file."
   ]
  },
  {
   "cell_type": "markdown",
   "metadata": {},
   "source": [
    "### 1. Parameter setting\n",
    "\n",
    "**Explanation:**\n",
    " - `RUNLEN`: number of time steps in training and testing;\n",
    " - `FLEX_TAIL_LEN`: number of time steps in testing;\n",
    " - `model_nums`: maximum number of models to use in prediction;\n",
    " - `horizon`: prediction horizon;\n",
    " - `VARNAME`: the predicting variable types;\n",
    "    Here we use individual variable types and `ALL` meaning all types of predicting variables are used together.\n",
    " - `gamma`: If `gamma` is true, the models are sorted with gamma (coefficient of causal dependence) and the best `model_nums` models will be used in the prediction;\n",
    " - To sort models by distance, use `distance=True` instead of `gamma=True` in `run_pipeline`;\n",
    " - `cores`: Number of cores running in parallel. "
   ]
  },
  {
   "cell_type": "code",
   "execution_count": 8,
   "metadata": {},
   "outputs": [
    {
     "name": "stdout",
     "output_type": "stream",
     "text": [
      "run length (train + test) = 1827\n",
      "test length = 366\n"
     ]
    }
   ],
   "source": [
    "# File parameters\n",
    "MODEL_GLOB = f'{path}/ntb/models/*model.json'\n",
    "RESPATH = f'{path}/ntb/models/*model*res'\n",
    "DATA_PATH = os.path.join(split_dirname, split_prefix) # the split files path prefix \n",
    "\n",
    "# Prediction parameters\n",
    "RUNLEN = len(pd.date_range(start=begin, end=extended_end, freq=freq))\n",
    "\n",
    "\n",
    "# Now we get the start of the test period.\n",
    "# Since the temporal resolution is 1 day, we just need to find the tomorrow of the training end.\n",
    "from datetime import datetime, timedelta\n",
    "start_of_test = datetime.strptime(end, '%Y-%m-%d') + timedelta(days=1)\n",
    "start_of_test = start_of_test.date()\n",
    "\n",
    "FLEX_TAIL_LEN = len(pd.date_range(start=start_of_test, end=extended_end, freq=freq))\n",
    "model_nums = [20]\n",
    "horizon = 7\n",
    "VARNAME = list(set([fname.split('#')[-1] for fname in glob(DATA_PATH + \"*\")])) + ['ALL']\n",
    "\n",
    "# Running parameters\n",
    "# Make sure you have multi-core access when using cores greater than 1. \n",
    "cores = 4\n",
    "\n",
    "print(f'run length (train + test) = {RUNLEN}\\ntest length = {FLEX_TAIL_LEN}')"
   ]
  },
  {
   "cell_type": "markdown",
   "metadata": {},
   "source": [
    "### 2. Run prediction pipeline"
   ]
  },
  {
   "cell_type": "code",
   "execution_count": 9,
   "metadata": {},
   "outputs": [
    {
     "name": "stderr",
     "output_type": "stream",
     "text": [
      "[Parallel(n_jobs=4)]: Using backend ThreadingBackend with 4 concurrent workers.\n",
      "[Parallel(n_jobs=4)]: Done  42 tasks      | elapsed:  2.5min\n",
      "[Parallel(n_jobs=4)]: Done 126 out of 126 | elapsed:  8.0min finished\n"
     ]
    }
   ],
   "source": [
    "cn.run_pipeline(\n",
    "    MODEL_GLOB,\n",
    "    model_nums, \n",
    "    horizon, \n",
    "    DATA_PATH, \n",
    "    RUNLEN, \n",
    "    VARNAME, \n",
    "    RESPATH, \n",
    "    FLEX_TAIL_LEN=FLEX_TAIL_LEN,\n",
    "    cores=cores,\n",
    "    gamma=True)"
   ]
  },
  {
   "cell_type": "markdown",
   "metadata": {},
   "source": [
    "Let use see a summary of the aucs"
   ]
  },
  {
   "cell_type": "code",
   "execution_count": 10,
   "metadata": {},
   "outputs": [
    {
     "data": {
      "text/plain": [
       "count    126.000000\n",
       "mean       0.778237\n",
       "std        0.065529\n",
       "min        0.567040\n",
       "25%        0.751991\n",
       "50%        0.780187\n",
       "75%        0.807404\n",
       "max        0.987983\n",
       "Name: auc, dtype: float64"
      ]
     },
     "execution_count": 10,
     "metadata": {},
     "output_type": "execute_result"
    }
   ],
   "source": [
    "res = pd.read_csv('res_all.csv')\n",
    "res[ (res['varsrc'] == 'ALL') & (res['auc'] < .999)]['auc'].describe()"
   ]
  },
  {
   "cell_type": "markdown",
   "metadata": {},
   "source": [
    "### Use recurrent neural network as a benchmark\n",
    "Before we update `Cynet` to run with Python3, we have to run RNN in a separate Python3 notebook. \n",
    "The notebook is called `LSTM.ipynb`.\n",
    "The LSTM result are saved to `LSTM_results` folder. \n",
    "The RNN AUCs is saved to file `LSTM_results/auc_rnn.csv`.\n",
    "In the following cell, we compare the `Cynet` AUCs and the RNN AUCs."
   ]
  },
  {
   "cell_type": "code",
   "execution_count": 15,
   "metadata": {},
   "outputs": [
    {
     "data": {
      "text/html": [
       "<div>\n",
       "<style scoped>\n",
       "    .dataframe tbody tr th:only-of-type {\n",
       "        vertical-align: middle;\n",
       "    }\n",
       "\n",
       "    .dataframe tbody tr th {\n",
       "        vertical-align: top;\n",
       "    }\n",
       "\n",
       "    .dataframe thead th {\n",
       "        text-align: right;\n",
       "    }\n",
       "</style>\n",
       "<table border=\"1\" class=\"dataframe\">\n",
       "  <thead>\n",
       "    <tr style=\"text-align: right;\">\n",
       "      <th></th>\n",
       "      <th>best_auc</th>\n",
       "      <th>rnn</th>\n",
       "    </tr>\n",
       "  </thead>\n",
       "  <tbody>\n",
       "    <tr>\n",
       "      <th>mean</th>\n",
       "      <td>0.834687</td>\n",
       "      <td>0.729708</td>\n",
       "    </tr>\n",
       "    <tr>\n",
       "      <th>50%</th>\n",
       "      <td>0.832638</td>\n",
       "      <td>0.733555</td>\n",
       "    </tr>\n",
       "  </tbody>\n",
       "</table>\n",
       "</div>"
      ],
      "text/plain": [
       "      best_auc       rnn\n",
       "mean  0.834687  0.729708\n",
       "50%   0.832638  0.733555"
      ]
     },
     "execution_count": 15,
     "metadata": {},
     "output_type": "execute_result"
    }
   ],
   "source": [
    "# Load Cynet AUCs and process\n",
    "df = pd.read_csv('res_all.csv')\n",
    "df['model_id'] = df['loc_id'].apply(lambda x: int(x.split('/')[-1].split('m')[0]))\n",
    "df = df[['model_id', 'lattgt1', 'lattgt2', 'lontgt1', 'lontgt2', 'varsrc', 'vartgt', 'auc']].copy()\n",
    "df = pd.pivot_table(\n",
    "    df, \n",
    "    values='auc', \n",
    "    index=['model_id', 'lattgt1', 'lattgt2', 'lontgt1', 'lontgt2', 'vartgt'],\n",
    "    columns=['varsrc']).reset_index().set_index('model_id', drop=True)\n",
    "srcs = [\n",
    "    'ALL', \n",
    "    'Armed_Assault-Assassination-Hijacking-Hostage_Taking_Barricade_Incident-Hostage_Taking_Kidnapping',\n",
    "    'Bombing_Explosion-Facility_Infrastructure_Attack',\n",
    "    'VAR']\n",
    "df['best_auc'] = df[srcs].max(axis=1)\n",
    "df['best_src'] = df[srcs].idxmax(axis=1)\n",
    "df['lat'] = (df['lattgt1'] + df['lattgt2']) / 2.0\n",
    "df['lon'] = (df['lontgt1'] + df['lontgt2']) / 2.0\n",
    "\n",
    "# Load RNN AUCs and combine\n",
    "df_rnn = pd.read_csv('LSTM_results/auc_rnn.csv').set_index('model_id')\n",
    "df_combined = df.join(df_rnn)\n",
    "df_combined.to_csv('auc_cynet_rnn.csv', float_format='%.6f')\n",
    "\n",
    "# prune unvalid data (remove sequence with no event in the out-of-sample period)\n",
    "\n",
    "df_combined = df_combined[ (df_combined.best_auc < 0.9999) & (df_combined.rnn > 0)]\n",
    "summary = df_combined[['best_auc', 'rnn']].describe().loc[['mean', '50%']]\n",
    "summary"
   ]
  },
  {
   "cell_type": "markdown",
   "metadata": {},
   "source": [
    "## Run Machine Learning Algorithms \n",
    "The cynet use a linear combination approach to aggregate the predictions from each source and form the final prediction for a target, but we can also apply machine learning algorithms in search for a better way to do the aggregation. \n",
    "For running machine learning algorithms, we need to run `cynet_chunker` to prepare csv files for running the machine leanring algorithms. \n",
    "\n",
    "### Parameter explanation\n",
    "Comparing to running cynet prediction, we only possible change we have to make is the `model_nums`.\n",
    "We can use a bigger number since machine learning algorithm can sometimes ignore noisy features\n",
    "The parameter `cores` is currently a dummy paramters. \n",
    "The `cynet_chunker` uses $1$ core not matter what values you enter. \n",
    "\n",
    "Make sure to create a folder named `csvs` before running `cynet_chunker`."
   ]
  },
  {
   "cell_type": "code",
   "execution_count": 11,
   "metadata": {},
   "outputs": [
    {
     "name": "stderr",
     "output_type": "stream",
     "text": [
      "\r",
      "  0%|          | 0/126 [00:00<?, ?it/s]"
     ]
    },
    {
     "name": "stdout",
     "output_type": "stream",
     "text": [
      "except\n",
      "b'0\\n'\n",
      "except\n",
      "b'0\\n'\n",
      "except\n",
      "b'0\\n'\n"
     ]
    },
    {
     "name": "stderr",
     "output_type": "stream",
     "text": [
      "\r",
      "  1%|          | 1/126 [00:41<1:25:42, 41.14s/it]"
     ]
    },
    {
     "name": "stdout",
     "output_type": "stream",
     "text": [
      "except\n",
      "b'0\\n'\n",
      "except\n",
      "b'0\\n'\n",
      "except\n",
      "b'0\\n'\n",
      "except\n",
      "b'0\\n'\n"
     ]
    },
    {
     "name": "stderr",
     "output_type": "stream",
     "text": [
      "\r",
      "  2%|▏         | 2/126 [01:29<1:34:24, 45.68s/it]"
     ]
    },
    {
     "name": "stdout",
     "output_type": "stream",
     "text": [
      "except\n",
      "b'0\\n'\n",
      "except\n",
      "b'0\\n'\n",
      "except\n",
      "b'0\\n'\n",
      "except\n",
      "b'0\\n'\n"
     ]
    },
    {
     "name": "stderr",
     "output_type": "stream",
     "text": [
      "\r",
      "  2%|▏         | 3/126 [02:09<1:27:30, 42.69s/it]"
     ]
    },
    {
     "name": "stdout",
     "output_type": "stream",
     "text": [
      "except\n",
      "b'0\\n'\n",
      "except\n",
      "b'0\\n'\n",
      "except\n",
      "b'0\\n'\n",
      "except\n",
      "b'0\\n'\n"
     ]
    },
    {
     "name": "stderr",
     "output_type": "stream",
     "text": [
      "\r",
      "  3%|▎         | 4/126 [03:13<1:43:57, 51.13s/it]"
     ]
    },
    {
     "name": "stdout",
     "output_type": "stream",
     "text": [
      "except\n",
      "b'0\\n'\n",
      "except\n",
      "b'0\\n'\n",
      "except\n",
      "b'0\\n'\n",
      "except\n",
      "b'0\\n'\n"
     ]
    },
    {
     "name": "stderr",
     "output_type": "stream",
     "text": [
      "\r",
      "  4%|▍         | 5/126 [03:58<1:38:59, 49.08s/it]"
     ]
    },
    {
     "name": "stdout",
     "output_type": "stream",
     "text": [
      "except\n",
      "b'0\\n'\n",
      "except\n",
      "b'0\\n'\n",
      "except\n",
      "b'0\\n'\n",
      "except\n",
      "b'0\\n'\n"
     ]
    },
    {
     "name": "stderr",
     "output_type": "stream",
     "text": [
      "\r",
      "  5%|▍         | 6/126 [04:55<1:43:39, 51.83s/it]"
     ]
    },
    {
     "name": "stdout",
     "output_type": "stream",
     "text": [
      "except\n",
      "b'0\\n'\n",
      "except\n",
      "b'0\\n'\n",
      "except\n",
      "b'0\\n'\n",
      "except\n",
      "b'0\\n'\n"
     ]
    },
    {
     "name": "stderr",
     "output_type": "stream",
     "text": [
      "\r",
      "  6%|▌         | 7/126 [05:53<1:46:33, 53.73s/it]"
     ]
    },
    {
     "name": "stdout",
     "output_type": "stream",
     "text": [
      "except\n",
      "b'0\\n'\n",
      "except\n",
      "b'0\\n'\n",
      "except\n",
      "b'0\\n'\n",
      "except\n",
      "b'0\\n'\n"
     ]
    },
    {
     "name": "stderr",
     "output_type": "stream",
     "text": [
      "\r",
      "  6%|▋         | 8/126 [06:42<1:42:47, 52.26s/it]"
     ]
    },
    {
     "name": "stdout",
     "output_type": "stream",
     "text": [
      "except\n",
      "b'0\\n'\n",
      "except\n",
      "b'0\\n'\n",
      "except\n",
      "b'0\\n'\n",
      "except\n",
      "b'0\\n'\n"
     ]
    },
    {
     "name": "stderr",
     "output_type": "stream",
     "text": [
      "\r",
      "  7%|▋         | 9/126 [07:26<1:36:44, 49.61s/it]"
     ]
    },
    {
     "name": "stdout",
     "output_type": "stream",
     "text": [
      "except\n",
      "b'0\\n'\n",
      "except\n",
      "b'0\\n'\n",
      "except\n",
      "b'0\\n'\n",
      "except\n",
      "b'0\\n'\n"
     ]
    },
    {
     "name": "stderr",
     "output_type": "stream",
     "text": [
      "\r",
      "  8%|▊         | 10/126 [08:12<1:33:58, 48.61s/it]"
     ]
    },
    {
     "name": "stdout",
     "output_type": "stream",
     "text": [
      "except\n",
      "b'0\\n'\n",
      "except\n",
      "b'0\\n'\n",
      "except\n",
      "b'0\\n'\n",
      "except\n",
      "b'0\\n'\n"
     ]
    },
    {
     "name": "stderr",
     "output_type": "stream",
     "text": [
      "\r",
      "  9%|▊         | 11/126 [09:18<1:43:18, 53.90s/it]"
     ]
    },
    {
     "name": "stdout",
     "output_type": "stream",
     "text": [
      "except\n",
      "b'0\\n'\n",
      "except\n",
      "b'0\\n'\n",
      "except\n",
      "b'0\\n'\n",
      "except\n",
      "b'0\\n'\n"
     ]
    },
    {
     "name": "stderr",
     "output_type": "stream",
     "text": [
      "\r",
      " 10%|▉         | 12/126 [09:57<1:33:51, 49.40s/it]"
     ]
    },
    {
     "name": "stdout",
     "output_type": "stream",
     "text": [
      "except\n",
      "b'0\\n'\n",
      "except\n",
      "b'0\\n'\n",
      "except\n",
      "b'0\\n'\n",
      "except\n",
      "b'0\\n'\n"
     ]
    },
    {
     "name": "stderr",
     "output_type": "stream",
     "text": [
      "\r",
      " 10%|█         | 13/126 [10:45<1:31:56, 48.82s/it]"
     ]
    },
    {
     "name": "stdout",
     "output_type": "stream",
     "text": [
      "except\n",
      "b'0\\n'\n",
      "except\n",
      "b'0\\n'\n",
      "except\n",
      "b'0\\n'\n",
      "except\n",
      "b'0\\n'\n"
     ]
    },
    {
     "name": "stderr",
     "output_type": "stream",
     "text": [
      "\r",
      " 11%|█         | 14/126 [11:24<1:25:49, 45.98s/it]"
     ]
    },
    {
     "name": "stdout",
     "output_type": "stream",
     "text": [
      "except\n",
      "b'0\\n'\n",
      "except\n",
      "b'0\\n'\n",
      "except\n",
      "b'0\\n'\n",
      "except\n",
      "b'0\\n'\n"
     ]
    },
    {
     "name": "stderr",
     "output_type": "stream",
     "text": [
      "\r",
      " 12%|█▏        | 15/126 [12:04<1:21:39, 44.14s/it]"
     ]
    },
    {
     "name": "stdout",
     "output_type": "stream",
     "text": [
      "except\n",
      "b'0\\n'\n",
      "except\n",
      "b'0\\n'\n",
      "except\n",
      "b'0\\n'\n",
      "except\n",
      "b'0\\n'\n"
     ]
    },
    {
     "name": "stderr",
     "output_type": "stream",
     "text": [
      "\r",
      " 13%|█▎        | 16/126 [12:40<1:16:17, 41.61s/it]"
     ]
    },
    {
     "name": "stdout",
     "output_type": "stream",
     "text": [
      "except\n",
      "b'0\\n'\n",
      "except\n",
      "b'0\\n'\n",
      "except\n",
      "b'0\\n'\n",
      "except\n",
      "b'0\\n'\n"
     ]
    },
    {
     "name": "stderr",
     "output_type": "stream",
     "text": [
      "\r",
      " 13%|█▎        | 17/126 [13:25<1:17:51, 42.86s/it]"
     ]
    },
    {
     "name": "stdout",
     "output_type": "stream",
     "text": [
      "except\n",
      "b'0\\n'\n",
      "except\n",
      "b'0\\n'\n",
      "except\n",
      "b'0\\n'\n",
      "except\n",
      "b'0\\n'\n"
     ]
    },
    {
     "name": "stderr",
     "output_type": "stream",
     "text": [
      "\r",
      " 14%|█▍        | 18/126 [14:09<1:17:19, 42.96s/it]"
     ]
    },
    {
     "name": "stdout",
     "output_type": "stream",
     "text": [
      "except\n",
      "b'0\\n'\n",
      "except\n",
      "b'0\\n'\n",
      "except\n",
      "b'0\\n'\n",
      "except\n",
      "b'0\\n'\n"
     ]
    },
    {
     "name": "stderr",
     "output_type": "stream",
     "text": [
      "\r",
      " 15%|█▌        | 19/126 [15:17<1:30:19, 50.65s/it]"
     ]
    },
    {
     "name": "stdout",
     "output_type": "stream",
     "text": [
      "except\n",
      "b'0\\n'\n",
      "except\n",
      "b'0\\n'\n",
      "except\n",
      "b'0\\n'\n",
      "except\n",
      "b'0\\n'\n"
     ]
    },
    {
     "name": "stderr",
     "output_type": "stream",
     "text": [
      "\r",
      " 16%|█▌        | 20/126 [16:05<1:27:53, 49.75s/it]"
     ]
    },
    {
     "name": "stdout",
     "output_type": "stream",
     "text": [
      "except\n",
      "b'0\\n'\n",
      "except\n",
      "b'0\\n'\n",
      "except\n",
      "b'0\\n'\n",
      "except\n",
      "b'0\\n'\n"
     ]
    },
    {
     "name": "stderr",
     "output_type": "stream",
     "text": [
      "\r",
      " 17%|█▋        | 21/126 [17:16<1:38:06, 56.07s/it]"
     ]
    },
    {
     "name": "stdout",
     "output_type": "stream",
     "text": [
      "except\n",
      "b'0\\n'\n",
      "except\n",
      "b'0\\n'\n",
      "except\n",
      "b'0\\n'\n",
      "except\n",
      "b'0\\n'\n"
     ]
    },
    {
     "name": "stderr",
     "output_type": "stream",
     "text": [
      "\r",
      " 17%|█▋        | 22/126 [18:22<1:42:17, 59.01s/it]"
     ]
    },
    {
     "name": "stdout",
     "output_type": "stream",
     "text": [
      "except\n",
      "b'0\\n'\n",
      "except\n",
      "b'0\\n'\n",
      "except\n",
      "b'0\\n'\n",
      "except\n",
      "b'0\\n'\n"
     ]
    },
    {
     "name": "stderr",
     "output_type": "stream",
     "text": [
      "\r",
      " 18%|█▊        | 23/126 [19:17<1:39:29, 57.96s/it]"
     ]
    },
    {
     "name": "stdout",
     "output_type": "stream",
     "text": [
      "except\n",
      "b'0\\n'\n",
      "except\n",
      "b'0\\n'\n",
      "except\n",
      "b'0\\n'\n",
      "except\n",
      "b'0\\n'\n"
     ]
    },
    {
     "name": "stderr",
     "output_type": "stream",
     "text": [
      "\r",
      " 19%|█▉        | 24/126 [20:21<1:41:26, 59.67s/it]"
     ]
    },
    {
     "name": "stdout",
     "output_type": "stream",
     "text": [
      "except\n",
      "b'0\\n'\n",
      "except\n",
      "b'0\\n'\n",
      "except\n",
      "b'0\\n'\n",
      "except\n",
      "b'0\\n'\n"
     ]
    },
    {
     "name": "stderr",
     "output_type": "stream",
     "text": [
      "\r",
      " 20%|█▉        | 25/126 [20:59<1:29:45, 53.32s/it]"
     ]
    },
    {
     "name": "stdout",
     "output_type": "stream",
     "text": [
      "except\n",
      "b'0\\n'\n",
      "except\n",
      "b'0\\n'\n",
      "except\n",
      "b'0\\n'\n",
      "except\n",
      "b'0\\n'\n"
     ]
    },
    {
     "name": "stderr",
     "output_type": "stream",
     "text": [
      "\r",
      " 21%|██        | 26/126 [21:37<1:20:54, 48.54s/it]"
     ]
    },
    {
     "name": "stdout",
     "output_type": "stream",
     "text": [
      "except\n",
      "b'0\\n'\n",
      "except\n",
      "b'0\\n'\n",
      "except\n",
      "b'0\\n'\n",
      "except\n",
      "b'0\\n'\n"
     ]
    },
    {
     "name": "stderr",
     "output_type": "stream",
     "text": [
      "\r",
      " 21%|██▏       | 27/126 [22:13<1:13:54, 44.79s/it]"
     ]
    },
    {
     "name": "stdout",
     "output_type": "stream",
     "text": [
      "except\n",
      "b'0\\n'\n",
      "except\n",
      "b'0\\n'\n",
      "except\n",
      "b'0\\n'\n",
      "except\n",
      "b'0\\n'\n"
     ]
    },
    {
     "name": "stderr",
     "output_type": "stream",
     "text": [
      "\r",
      " 22%|██▏       | 28/126 [23:11<1:19:43, 48.81s/it]"
     ]
    },
    {
     "name": "stdout",
     "output_type": "stream",
     "text": [
      "except\n",
      "b'0\\n'\n",
      "except\n",
      "b'0\\n'\n",
      "except\n",
      "b'0\\n'\n",
      "except\n",
      "b'0\\n'\n"
     ]
    },
    {
     "name": "stderr",
     "output_type": "stream",
     "text": [
      "\r",
      " 23%|██▎       | 29/126 [23:46<1:12:02, 44.56s/it]"
     ]
    },
    {
     "name": "stdout",
     "output_type": "stream",
     "text": [
      "except\n",
      "b'0\\n'\n",
      "except\n",
      "b'0\\n'\n",
      "except\n",
      "b'0\\n'\n",
      "except\n",
      "b'0\\n'\n"
     ]
    },
    {
     "name": "stderr",
     "output_type": "stream",
     "text": [
      "\r",
      " 24%|██▍       | 30/126 [24:19<1:05:50, 41.15s/it]"
     ]
    },
    {
     "name": "stdout",
     "output_type": "stream",
     "text": [
      "except\n",
      "b'0\\n'\n",
      "except\n",
      "b'0\\n'\n",
      "except\n",
      "b'0\\n'\n",
      "except\n",
      "b'0\\n'\n"
     ]
    },
    {
     "name": "stderr",
     "output_type": "stream",
     "text": [
      "\r",
      " 25%|██▍       | 31/126 [24:56<1:03:22, 40.02s/it]"
     ]
    },
    {
     "name": "stdout",
     "output_type": "stream",
     "text": [
      "except\n",
      "b'0\\n'\n",
      "except\n",
      "b'0\\n'\n",
      "except\n",
      "b'0\\n'\n",
      "except\n",
      "b'0\\n'\n"
     ]
    },
    {
     "name": "stderr",
     "output_type": "stream",
     "text": [
      "\r",
      " 25%|██▌       | 32/126 [25:34<1:01:37, 39.34s/it]"
     ]
    },
    {
     "name": "stdout",
     "output_type": "stream",
     "text": [
      "except\n",
      "b'0\\n'\n",
      "except\n",
      "b'0\\n'\n",
      "except\n",
      "b'0\\n'\n",
      "except\n",
      "b'0\\n'\n"
     ]
    },
    {
     "name": "stderr",
     "output_type": "stream",
     "text": [
      "\r",
      " 26%|██▌       | 33/126 [26:14<1:01:34, 39.73s/it]"
     ]
    },
    {
     "name": "stdout",
     "output_type": "stream",
     "text": [
      "except\n",
      "b'0\\n'\n",
      "except\n",
      "b'0\\n'\n",
      "except\n",
      "b'0\\n'\n",
      "except\n",
      "b'0\\n'\n"
     ]
    },
    {
     "name": "stderr",
     "output_type": "stream",
     "text": [
      "\r",
      " 27%|██▋       | 34/126 [27:02<1:04:24, 42.00s/it]"
     ]
    },
    {
     "name": "stdout",
     "output_type": "stream",
     "text": [
      "except\n",
      "b'0\\n'\n",
      "except\n",
      "b'0\\n'\n",
      "except\n",
      "b'0\\n'\n",
      "except\n",
      "b'0\\n'\n"
     ]
    },
    {
     "name": "stderr",
     "output_type": "stream",
     "text": [
      "\r",
      " 28%|██▊       | 35/126 [27:37<1:00:26, 39.85s/it]"
     ]
    },
    {
     "name": "stdout",
     "output_type": "stream",
     "text": [
      "except\n",
      "b'0\\n'\n",
      "except\n",
      "b'0\\n'\n",
      "except\n",
      "b'0\\n'\n",
      "except\n",
      "b'0\\n'\n"
     ]
    },
    {
     "name": "stderr",
     "output_type": "stream",
     "text": [
      "\r",
      " 29%|██▊       | 36/126 [28:29<1:05:22, 43.59s/it]"
     ]
    },
    {
     "name": "stdout",
     "output_type": "stream",
     "text": [
      "except\n",
      "b'0\\n'\n",
      "except\n",
      "b'0\\n'\n",
      "except\n",
      "b'0\\n'\n",
      "except\n",
      "b'0\\n'\n"
     ]
    },
    {
     "name": "stderr",
     "output_type": "stream",
     "text": [
      "\r",
      " 29%|██▉       | 37/126 [29:16<1:06:13, 44.65s/it]"
     ]
    },
    {
     "name": "stdout",
     "output_type": "stream",
     "text": [
      "except\n",
      "b'0\\n'\n",
      "except\n",
      "b'0\\n'\n",
      "except\n",
      "b'0\\n'\n",
      "except\n",
      "b'0\\n'\n"
     ]
    },
    {
     "name": "stderr",
     "output_type": "stream",
     "text": [
      "\r",
      " 30%|███       | 38/126 [30:02<1:05:51, 44.91s/it]"
     ]
    },
    {
     "name": "stdout",
     "output_type": "stream",
     "text": [
      "except\n",
      "b'0\\n'\n",
      "except\n",
      "b'0\\n'\n",
      "except\n",
      "b'0\\n'\n",
      "except\n",
      "b'0\\n'\n"
     ]
    },
    {
     "name": "stderr",
     "output_type": "stream",
     "text": [
      "\r",
      " 31%|███       | 39/126 [30:50<1:06:31, 45.88s/it]"
     ]
    },
    {
     "name": "stdout",
     "output_type": "stream",
     "text": [
      "except\n",
      "b'0\\n'\n",
      "except\n",
      "b'0\\n'\n",
      "except\n",
      "b'0\\n'\n",
      "except\n",
      "b'0\\n'\n"
     ]
    },
    {
     "name": "stderr",
     "output_type": "stream",
     "text": [
      "\r",
      " 32%|███▏      | 40/126 [31:32<1:04:20, 44.89s/it]"
     ]
    },
    {
     "name": "stdout",
     "output_type": "stream",
     "text": [
      "except\n",
      "b'0\\n'\n",
      "except\n",
      "b'0\\n'\n",
      "except\n",
      "b'0\\n'\n",
      "except\n",
      "b'0\\n'\n"
     ]
    },
    {
     "name": "stderr",
     "output_type": "stream",
     "text": [
      "\r",
      " 33%|███▎      | 41/126 [32:38<1:12:32, 51.21s/it]"
     ]
    },
    {
     "name": "stdout",
     "output_type": "stream",
     "text": [
      "except\n",
      "b'0\\n'\n",
      "except\n",
      "b'0\\n'\n",
      "except\n",
      "b'0\\n'\n",
      "except\n",
      "b'0\\n'\n"
     ]
    },
    {
     "name": "stderr",
     "output_type": "stream",
     "text": [
      "\r",
      " 33%|███▎      | 42/126 [33:21<1:08:05, 48.63s/it]"
     ]
    },
    {
     "name": "stdout",
     "output_type": "stream",
     "text": [
      "except\n",
      "b'0\\n'\n",
      "except\n",
      "b'0\\n'\n",
      "except\n",
      "b'0\\n'\n",
      "except\n",
      "b'0\\n'\n"
     ]
    },
    {
     "name": "stderr",
     "output_type": "stream",
     "text": [
      "\r",
      " 34%|███▍      | 43/126 [34:00<1:03:12, 45.70s/it]"
     ]
    },
    {
     "name": "stdout",
     "output_type": "stream",
     "text": [
      "except\n",
      "b'0\\n'\n",
      "except\n",
      "b'0\\n'\n",
      "except\n",
      "b'0\\n'\n",
      "except\n",
      "b'0\\n'\n"
     ]
    },
    {
     "name": "stderr",
     "output_type": "stream",
     "text": [
      "\r",
      " 35%|███▍      | 44/126 [34:47<1:03:14, 46.28s/it]"
     ]
    },
    {
     "name": "stdout",
     "output_type": "stream",
     "text": [
      "except\n",
      "b'0\\n'\n",
      "except\n",
      "b'0\\n'\n",
      "except\n",
      "b'0\\n'\n",
      "except\n",
      "b'0\\n'\n"
     ]
    },
    {
     "name": "stderr",
     "output_type": "stream",
     "text": [
      "\r",
      " 36%|███▌      | 45/126 [35:43<1:06:07, 48.98s/it]"
     ]
    },
    {
     "name": "stdout",
     "output_type": "stream",
     "text": [
      "except\n",
      "b'0\\n'\n",
      "except\n",
      "b'0\\n'\n",
      "except\n",
      "b'0\\n'\n",
      "except\n",
      "b'0\\n'\n"
     ]
    },
    {
     "name": "stderr",
     "output_type": "stream",
     "text": [
      "\r",
      " 37%|███▋      | 46/126 [36:42<1:09:27, 52.10s/it]"
     ]
    },
    {
     "name": "stdout",
     "output_type": "stream",
     "text": [
      "except\n",
      "b'0\\n'\n",
      "except\n",
      "b'0\\n'\n",
      "except\n",
      "b'0\\n'\n",
      "except\n",
      "b'0\\n'\n"
     ]
    },
    {
     "name": "stderr",
     "output_type": "stream",
     "text": [
      "\r",
      " 37%|███▋      | 47/126 [37:40<1:10:49, 53.79s/it]"
     ]
    },
    {
     "name": "stdout",
     "output_type": "stream",
     "text": [
      "except\n",
      "b'0\\n'\n",
      "except\n",
      "b'0\\n'\n",
      "except\n",
      "b'0\\n'\n",
      "except\n",
      "b'0\\n'\n"
     ]
    },
    {
     "name": "stderr",
     "output_type": "stream",
     "text": [
      "\r",
      " 38%|███▊      | 48/126 [38:36<1:10:56, 54.57s/it]"
     ]
    },
    {
     "name": "stdout",
     "output_type": "stream",
     "text": [
      "except\n",
      "b'0\\n'\n",
      "except\n",
      "b'0\\n'\n",
      "except\n",
      "b'0\\n'\n",
      "except\n",
      "b'0\\n'\n"
     ]
    },
    {
     "name": "stderr",
     "output_type": "stream",
     "text": [
      "\r",
      " 39%|███▉      | 49/126 [39:26<1:08:09, 53.11s/it]"
     ]
    },
    {
     "name": "stdout",
     "output_type": "stream",
     "text": [
      "except\n",
      "b'0\\n'\n",
      "except\n",
      "b'0\\n'\n",
      "except\n",
      "b'0\\n'\n",
      "except\n",
      "b'0\\n'\n"
     ]
    },
    {
     "name": "stderr",
     "output_type": "stream",
     "text": [
      "\r",
      " 40%|███▉      | 50/126 [40:38<1:14:28, 58.79s/it]"
     ]
    },
    {
     "name": "stdout",
     "output_type": "stream",
     "text": [
      "except\n",
      "b'0\\n'\n",
      "except\n",
      "b'0\\n'\n",
      "except\n",
      "b'0\\n'\n",
      "except\n",
      "b'0\\n'\n"
     ]
    },
    {
     "name": "stderr",
     "output_type": "stream",
     "text": [
      "\r",
      " 40%|████      | 51/126 [42:00<1:22:12, 65.77s/it]"
     ]
    },
    {
     "name": "stdout",
     "output_type": "stream",
     "text": [
      "except\n",
      "b'0\\n'\n",
      "except\n",
      "b'0\\n'\n",
      "except\n",
      "b'0\\n'\n",
      "except\n",
      "b'0\\n'\n"
     ]
    },
    {
     "name": "stderr",
     "output_type": "stream",
     "text": [
      "\r",
      " 41%|████▏     | 52/126 [43:08<1:21:48, 66.33s/it]"
     ]
    },
    {
     "name": "stdout",
     "output_type": "stream",
     "text": [
      "except\n",
      "b'0\\n'\n",
      "except\n",
      "b'0\\n'\n",
      "except\n",
      "b'0\\n'\n",
      "except\n",
      "b'0\\n'\n"
     ]
    },
    {
     "name": "stderr",
     "output_type": "stream",
     "text": [
      "\r",
      " 42%|████▏     | 53/126 [43:47<1:10:57, 58.33s/it]"
     ]
    },
    {
     "name": "stdout",
     "output_type": "stream",
     "text": [
      "except\n",
      "b'0\\n'\n",
      "except\n",
      "b'0\\n'\n",
      "except\n",
      "b'0\\n'\n",
      "except\n",
      "b'0\\n'\n"
     ]
    },
    {
     "name": "stderr",
     "output_type": "stream",
     "text": [
      "\r",
      " 43%|████▎     | 54/126 [44:50<1:11:44, 59.79s/it]"
     ]
    },
    {
     "name": "stdout",
     "output_type": "stream",
     "text": [
      "except\n",
      "b'0\\n'\n",
      "except\n",
      "b'0\\n'\n",
      "except\n",
      "b'0\\n'\n",
      "except\n",
      "b'0\\n'\n"
     ]
    },
    {
     "name": "stderr",
     "output_type": "stream",
     "text": [
      "\r",
      " 44%|████▎     | 55/126 [45:50<1:10:34, 59.63s/it]"
     ]
    },
    {
     "name": "stdout",
     "output_type": "stream",
     "text": [
      "except\n",
      "b'0\\n'\n",
      "except\n",
      "b'0\\n'\n",
      "except\n",
      "b'0\\n'\n",
      "except\n",
      "b'0\\n'\n"
     ]
    },
    {
     "name": "stderr",
     "output_type": "stream",
     "text": [
      "\r",
      " 44%|████▍     | 56/126 [47:00<1:13:25, 62.94s/it]"
     ]
    },
    {
     "name": "stdout",
     "output_type": "stream",
     "text": [
      "except\n",
      "b'0\\n'\n",
      "except\n",
      "b'0\\n'\n",
      "except\n",
      "b'0\\n'\n",
      "except\n",
      "b'0\\n'\n"
     ]
    },
    {
     "name": "stderr",
     "output_type": "stream",
     "text": [
      "\r",
      " 45%|████▌     | 57/126 [47:54<1:09:09, 60.14s/it]"
     ]
    },
    {
     "name": "stdout",
     "output_type": "stream",
     "text": [
      "except\n",
      "b'0\\n'\n",
      "except\n",
      "b'0\\n'\n",
      "except\n",
      "b'0\\n'\n",
      "except\n",
      "b'0\\n'\n"
     ]
    },
    {
     "name": "stderr",
     "output_type": "stream",
     "text": [
      "\r",
      " 46%|████▌     | 58/126 [48:41<1:03:33, 56.07s/it]"
     ]
    },
    {
     "name": "stdout",
     "output_type": "stream",
     "text": [
      "except\n",
      "b'0\\n'\n",
      "except\n",
      "b'0\\n'\n",
      "except\n",
      "b'0\\n'\n",
      "except\n",
      "b'0\\n'\n"
     ]
    },
    {
     "name": "stderr",
     "output_type": "stream",
     "text": [
      "\r",
      " 47%|████▋     | 59/126 [49:19<56:48, 50.87s/it]  "
     ]
    },
    {
     "name": "stdout",
     "output_type": "stream",
     "text": [
      "except\n",
      "b'0\\n'\n",
      "except\n",
      "b'0\\n'\n",
      "except\n",
      "b'0\\n'\n",
      "except\n",
      "b'0\\n'\n"
     ]
    },
    {
     "name": "stderr",
     "output_type": "stream",
     "text": [
      "\r",
      " 48%|████▊     | 60/126 [50:15<57:31, 52.29s/it]"
     ]
    },
    {
     "name": "stdout",
     "output_type": "stream",
     "text": [
      "except\n",
      "b'0\\n'\n",
      "except\n",
      "b'0\\n'\n",
      "except\n",
      "b'0\\n'\n",
      "except\n",
      "b'0\\n'\n"
     ]
    },
    {
     "name": "stderr",
     "output_type": "stream",
     "text": [
      "\r",
      " 48%|████▊     | 61/126 [51:00<54:18, 50.13s/it]"
     ]
    },
    {
     "name": "stdout",
     "output_type": "stream",
     "text": [
      "except\n",
      "b'0\\n'\n",
      "except\n",
      "b'0\\n'\n",
      "except\n",
      "b'0\\n'\n",
      "except\n",
      "b'0\\n'\n"
     ]
    },
    {
     "name": "stderr",
     "output_type": "stream",
     "text": [
      "\r",
      " 49%|████▉     | 62/126 [51:30<47:05, 44.15s/it]"
     ]
    },
    {
     "name": "stdout",
     "output_type": "stream",
     "text": [
      "except\n",
      "b'0\\n'\n",
      "except\n",
      "b'0\\n'\n",
      "except\n",
      "b'0\\n'\n",
      "except\n",
      "b'0\\n'\n"
     ]
    },
    {
     "name": "stderr",
     "output_type": "stream",
     "text": [
      "\r",
      " 50%|█████     | 63/126 [52:12<45:36, 43.44s/it]"
     ]
    },
    {
     "name": "stdout",
     "output_type": "stream",
     "text": [
      "except\n",
      "b'0\\n'\n",
      "except\n",
      "b'0\\n'\n",
      "except\n",
      "b'0\\n'\n",
      "except\n",
      "b'0\\n'\n"
     ]
    },
    {
     "name": "stderr",
     "output_type": "stream",
     "text": [
      "\r",
      " 51%|█████     | 64/126 [52:45<41:34, 40.24s/it]"
     ]
    },
    {
     "name": "stdout",
     "output_type": "stream",
     "text": [
      "except\n",
      "b'0\\n'\n",
      "except\n",
      "b'0\\n'\n",
      "except\n",
      "b'0\\n'\n",
      "except\n",
      "b'0\\n'\n"
     ]
    },
    {
     "name": "stderr",
     "output_type": "stream",
     "text": [
      "\r",
      " 52%|█████▏    | 65/126 [53:51<48:57, 48.15s/it]"
     ]
    },
    {
     "name": "stdout",
     "output_type": "stream",
     "text": [
      "except\n",
      "b'0\\n'\n",
      "except\n",
      "b'0\\n'\n",
      "except\n",
      "b'0\\n'\n",
      "except\n",
      "b'0\\n'\n"
     ]
    },
    {
     "name": "stderr",
     "output_type": "stream",
     "text": [
      "\r",
      " 52%|█████▏    | 66/126 [54:53<52:06, 52.10s/it]"
     ]
    },
    {
     "name": "stdout",
     "output_type": "stream",
     "text": [
      "except\n",
      "b'0\\n'\n",
      "except\n",
      "b'0\\n'\n",
      "except\n",
      "b'0\\n'\n",
      "except\n",
      "b'0\\n'\n"
     ]
    },
    {
     "name": "stderr",
     "output_type": "stream",
     "text": [
      "\r",
      " 53%|█████▎    | 67/126 [55:34<47:57, 48.77s/it]"
     ]
    },
    {
     "name": "stdout",
     "output_type": "stream",
     "text": [
      "except\n",
      "b'0\\n'\n",
      "except\n",
      "b'0\\n'\n",
      "except\n",
      "b'0\\n'\n",
      "except\n",
      "b'0\\n'\n"
     ]
    },
    {
     "name": "stderr",
     "output_type": "stream",
     "text": [
      "\r",
      " 54%|█████▍    | 68/126 [56:43<53:01, 54.86s/it]"
     ]
    },
    {
     "name": "stdout",
     "output_type": "stream",
     "text": [
      "except\n",
      "b'0\\n'\n",
      "except\n",
      "b'0\\n'\n",
      "except\n",
      "b'0\\n'\n",
      "except\n",
      "b'0\\n'\n"
     ]
    },
    {
     "name": "stderr",
     "output_type": "stream",
     "text": [
      "\r",
      " 55%|█████▍    | 69/126 [57:48<55:00, 57.91s/it]"
     ]
    },
    {
     "name": "stdout",
     "output_type": "stream",
     "text": [
      "except\n",
      "b'0\\n'\n",
      "except\n",
      "b'0\\n'\n",
      "except\n",
      "b'0\\n'\n",
      "except\n",
      "b'0\\n'\n"
     ]
    },
    {
     "name": "stderr",
     "output_type": "stream",
     "text": [
      "\r",
      " 56%|█████▌    | 70/126 [58:51<55:26, 59.39s/it]"
     ]
    },
    {
     "name": "stdout",
     "output_type": "stream",
     "text": [
      "except\n",
      "b'0\\n'\n",
      "except\n",
      "b'0\\n'\n",
      "except\n",
      "b'0\\n'\n",
      "except\n",
      "b'0\\n'\n"
     ]
    },
    {
     "name": "stderr",
     "output_type": "stream",
     "text": [
      "\r",
      " 56%|█████▋    | 71/126 [1:00:28<1:04:53, 70.78s/it]"
     ]
    },
    {
     "name": "stdout",
     "output_type": "stream",
     "text": [
      "except\n",
      "b'0\\n'\n",
      "except\n",
      "b'0\\n'\n",
      "except\n",
      "b'0\\n'\n",
      "except\n",
      "b'0\\n'\n"
     ]
    },
    {
     "name": "stderr",
     "output_type": "stream",
     "text": [
      "\r",
      " 57%|█████▋    | 72/126 [1:01:42<1:04:26, 71.61s/it]"
     ]
    },
    {
     "name": "stdout",
     "output_type": "stream",
     "text": [
      "except\n",
      "b'0\\n'\n",
      "except\n",
      "b'0\\n'\n",
      "except\n",
      "b'0\\n'\n",
      "except\n",
      "b'0\\n'\n"
     ]
    },
    {
     "name": "stderr",
     "output_type": "stream",
     "text": [
      "\r",
      " 58%|█████▊    | 73/126 [1:02:58<1:04:40, 73.22s/it]"
     ]
    },
    {
     "name": "stdout",
     "output_type": "stream",
     "text": [
      "except\n",
      "b'0\\n'\n",
      "except\n",
      "b'0\\n'\n",
      "except\n",
      "b'0\\n'\n",
      "except\n",
      "b'0\\n'\n"
     ]
    },
    {
     "name": "stderr",
     "output_type": "stream",
     "text": [
      "\r",
      " 59%|█████▊    | 74/126 [1:04:13<1:03:50, 73.66s/it]"
     ]
    },
    {
     "name": "stdout",
     "output_type": "stream",
     "text": [
      "except\n",
      "b'0\\n'\n",
      "except\n",
      "b'0\\n'\n",
      "except\n",
      "b'0\\n'\n",
      "except\n",
      "b'0\\n'\n"
     ]
    },
    {
     "name": "stderr",
     "output_type": "stream",
     "text": [
      "\r",
      " 60%|█████▉    | 75/126 [1:05:01<55:58, 65.86s/it]  "
     ]
    },
    {
     "name": "stdout",
     "output_type": "stream",
     "text": [
      "except\n",
      "b'0\\n'\n",
      "except\n",
      "b'0\\n'\n",
      "except\n",
      "b'0\\n'\n",
      "except\n",
      "b'0\\n'\n"
     ]
    },
    {
     "name": "stderr",
     "output_type": "stream",
     "text": [
      "\r",
      " 60%|██████    | 76/126 [1:05:41<48:28, 58.18s/it]"
     ]
    },
    {
     "name": "stdout",
     "output_type": "stream",
     "text": [
      "except\n",
      "b'0\\n'\n",
      "except\n",
      "b'0\\n'\n",
      "except\n",
      "b'0\\n'\n",
      "except\n",
      "b'0\\n'\n"
     ]
    },
    {
     "name": "stderr",
     "output_type": "stream",
     "text": [
      "\r",
      " 61%|██████    | 77/126 [1:06:20<42:41, 52.27s/it]"
     ]
    },
    {
     "name": "stdout",
     "output_type": "stream",
     "text": [
      "except\n",
      "b'0\\n'\n",
      "except\n",
      "b'0\\n'\n",
      "except\n",
      "b'0\\n'\n",
      "except\n",
      "b'0\\n'\n"
     ]
    },
    {
     "name": "stderr",
     "output_type": "stream",
     "text": [
      "\r",
      " 62%|██████▏   | 78/126 [1:06:58<38:27, 48.06s/it]"
     ]
    },
    {
     "name": "stdout",
     "output_type": "stream",
     "text": [
      "except\n",
      "b'0\\n'\n",
      "except\n",
      "b'0\\n'\n",
      "except\n",
      "b'0\\n'\n",
      "except\n",
      "b'0\\n'\n"
     ]
    },
    {
     "name": "stderr",
     "output_type": "stream",
     "text": [
      "\r",
      " 63%|██████▎   | 79/126 [1:07:35<35:04, 44.77s/it]"
     ]
    },
    {
     "name": "stdout",
     "output_type": "stream",
     "text": [
      "except\n",
      "b'0\\n'\n",
      "except\n",
      "b'0\\n'\n",
      "except\n",
      "b'0\\n'\n",
      "except\n",
      "b'0\\n'\n"
     ]
    },
    {
     "name": "stderr",
     "output_type": "stream",
     "text": [
      "\r",
      " 63%|██████▎   | 80/126 [1:08:13<32:45, 42.72s/it]"
     ]
    },
    {
     "name": "stdout",
     "output_type": "stream",
     "text": [
      "except\n",
      "b'0\\n'\n",
      "except\n",
      "b'0\\n'\n",
      "except\n",
      "b'0\\n'\n",
      "except\n",
      "b'0\\n'\n"
     ]
    },
    {
     "name": "stderr",
     "output_type": "stream",
     "text": [
      "\r",
      " 64%|██████▍   | 81/126 [1:09:08<34:44, 46.33s/it]"
     ]
    },
    {
     "name": "stdout",
     "output_type": "stream",
     "text": [
      "except\n",
      "b'0\\n'\n",
      "except\n",
      "b'0\\n'\n",
      "except\n",
      "b'0\\n'\n",
      "except\n",
      "b'0\\n'\n"
     ]
    },
    {
     "name": "stderr",
     "output_type": "stream",
     "text": [
      "\r",
      " 65%|██████▌   | 82/126 [1:09:52<33:34, 45.78s/it]"
     ]
    },
    {
     "name": "stdout",
     "output_type": "stream",
     "text": [
      "except\n",
      "b'0\\n'\n",
      "except\n",
      "b'0\\n'\n",
      "except\n",
      "b'0\\n'\n",
      "except\n",
      "b'0\\n'\n"
     ]
    },
    {
     "name": "stderr",
     "output_type": "stream",
     "text": [
      "\r",
      " 66%|██████▌   | 83/126 [1:10:43<33:53, 47.28s/it]"
     ]
    },
    {
     "name": "stdout",
     "output_type": "stream",
     "text": [
      "except\n",
      "b'0\\n'\n",
      "except\n",
      "b'0\\n'\n",
      "except\n",
      "b'0\\n'\n",
      "except\n",
      "b'0\\n'\n"
     ]
    },
    {
     "name": "stderr",
     "output_type": "stream",
     "text": [
      "\r",
      " 67%|██████▋   | 84/126 [1:11:33<33:45, 48.22s/it]"
     ]
    },
    {
     "name": "stdout",
     "output_type": "stream",
     "text": [
      "except\n",
      "b'0\\n'\n",
      "except\n",
      "b'0\\n'\n",
      "except\n",
      "b'0\\n'\n",
      "except\n",
      "b'0\\n'\n"
     ]
    },
    {
     "name": "stderr",
     "output_type": "stream",
     "text": [
      "\r",
      " 67%|██████▋   | 85/126 [1:12:19<32:27, 47.49s/it]"
     ]
    },
    {
     "name": "stdout",
     "output_type": "stream",
     "text": [
      "except\n",
      "b'0\\n'\n",
      "except\n",
      "b'0\\n'\n",
      "except\n",
      "b'0\\n'\n",
      "except\n",
      "b'0\\n'\n"
     ]
    },
    {
     "name": "stderr",
     "output_type": "stream",
     "text": [
      "\r",
      " 68%|██████▊   | 86/126 [1:13:01<30:28, 45.70s/it]"
     ]
    },
    {
     "name": "stdout",
     "output_type": "stream",
     "text": [
      "except\n",
      "b'0\\n'\n",
      "except\n",
      "b'0\\n'\n",
      "except\n",
      "b'0\\n'\n",
      "except\n",
      "b'0\\n'\n"
     ]
    },
    {
     "name": "stderr",
     "output_type": "stream",
     "text": [
      "\r",
      " 69%|██████▉   | 87/126 [1:14:03<32:56, 50.68s/it]"
     ]
    },
    {
     "name": "stdout",
     "output_type": "stream",
     "text": [
      "except\n",
      "b'0\\n'\n",
      "except\n",
      "b'0\\n'\n",
      "except\n",
      "b'0\\n'\n",
      "except\n",
      "b'0\\n'\n"
     ]
    },
    {
     "name": "stderr",
     "output_type": "stream",
     "text": [
      "\r",
      " 70%|██████▉   | 88/126 [1:14:54<32:09, 50.77s/it]"
     ]
    },
    {
     "name": "stdout",
     "output_type": "stream",
     "text": [
      "except\n",
      "b'0\\n'\n",
      "except\n",
      "b'0\\n'\n",
      "except\n",
      "b'0\\n'\n",
      "except\n",
      "b'0\\n'\n"
     ]
    },
    {
     "name": "stderr",
     "output_type": "stream",
     "text": [
      "\r",
      " 71%|███████   | 89/126 [1:15:31<28:48, 46.71s/it]"
     ]
    },
    {
     "name": "stdout",
     "output_type": "stream",
     "text": [
      "except\n",
      "b'0\\n'\n",
      "except\n",
      "b'0\\n'\n",
      "except\n",
      "b'0\\n'\n",
      "except\n",
      "b'0\\n'\n"
     ]
    },
    {
     "name": "stderr",
     "output_type": "stream",
     "text": [
      "\r",
      " 71%|███████▏  | 90/126 [1:16:28<29:56, 49.91s/it]"
     ]
    },
    {
     "name": "stdout",
     "output_type": "stream",
     "text": [
      "except\n",
      "b'0\\n'\n",
      "except\n",
      "b'0\\n'\n",
      "except\n",
      "b'0\\n'\n",
      "except\n",
      "b'0\\n'\n"
     ]
    },
    {
     "name": "stderr",
     "output_type": "stream",
     "text": [
      "\r",
      " 72%|███████▏  | 91/126 [1:17:10<27:37, 47.35s/it]"
     ]
    },
    {
     "name": "stdout",
     "output_type": "stream",
     "text": [
      "except\n",
      "b'0\\n'\n",
      "except\n",
      "b'0\\n'\n",
      "except\n",
      "b'0\\n'\n",
      "except\n",
      "b'0\\n'\n"
     ]
    },
    {
     "name": "stderr",
     "output_type": "stream",
     "text": [
      "\r",
      " 73%|███████▎  | 92/126 [1:17:51<25:50, 45.59s/it]"
     ]
    },
    {
     "name": "stdout",
     "output_type": "stream",
     "text": [
      "except\n",
      "b'0\\n'\n",
      "except\n",
      "b'0\\n'\n",
      "except\n",
      "b'0\\n'\n",
      "except\n",
      "b'0\\n'\n"
     ]
    },
    {
     "name": "stderr",
     "output_type": "stream",
     "text": [
      "\r",
      " 74%|███████▍  | 93/126 [1:18:43<26:00, 47.28s/it]"
     ]
    },
    {
     "name": "stdout",
     "output_type": "stream",
     "text": [
      "except\n",
      "b'0\\n'\n",
      "except\n",
      "b'0\\n'\n",
      "except\n",
      "b'0\\n'\n",
      "except\n",
      "b'0\\n'\n"
     ]
    },
    {
     "name": "stderr",
     "output_type": "stream",
     "text": [
      "\r",
      " 75%|███████▍  | 94/126 [1:19:31<25:24, 47.63s/it]"
     ]
    },
    {
     "name": "stdout",
     "output_type": "stream",
     "text": [
      "except\n",
      "b'0\\n'\n",
      "except\n",
      "b'0\\n'\n",
      "except\n",
      "b'0\\n'\n",
      "except\n",
      "b'0\\n'\n"
     ]
    },
    {
     "name": "stderr",
     "output_type": "stream",
     "text": [
      "\r",
      " 75%|███████▌  | 95/126 [1:20:18<24:27, 47.33s/it]"
     ]
    },
    {
     "name": "stdout",
     "output_type": "stream",
     "text": [
      "except\n",
      "b'0\\n'\n",
      "except\n",
      "b'0\\n'\n",
      "except\n",
      "b'0\\n'\n",
      "except\n",
      "b'0\\n'\n"
     ]
    },
    {
     "name": "stderr",
     "output_type": "stream",
     "text": [
      "\r",
      " 76%|███████▌  | 96/126 [1:20:57<22:31, 45.04s/it]"
     ]
    },
    {
     "name": "stdout",
     "output_type": "stream",
     "text": [
      "except\n",
      "b'0\\n'\n",
      "except\n",
      "b'0\\n'\n",
      "except\n",
      "b'0\\n'\n",
      "except\n",
      "b'0\\n'\n"
     ]
    },
    {
     "name": "stderr",
     "output_type": "stream",
     "text": [
      "\r",
      " 77%|███████▋  | 97/126 [1:21:42<21:45, 45.02s/it]"
     ]
    },
    {
     "name": "stdout",
     "output_type": "stream",
     "text": [
      "except\n",
      "b'0\\n'\n",
      "except\n",
      "b'0\\n'\n",
      "except\n",
      "b'0\\n'\n",
      "except\n",
      "b'0\\n'\n"
     ]
    },
    {
     "name": "stderr",
     "output_type": "stream",
     "text": [
      "\r",
      " 78%|███████▊  | 98/126 [1:22:21<20:10, 43.22s/it]"
     ]
    },
    {
     "name": "stdout",
     "output_type": "stream",
     "text": [
      "except\n",
      "b'0\\n'\n",
      "except\n",
      "b'0\\n'\n",
      "except\n",
      "b'0\\n'\n",
      "except\n",
      "b'0\\n'\n"
     ]
    },
    {
     "name": "stderr",
     "output_type": "stream",
     "text": [
      "\r",
      " 79%|███████▊  | 99/126 [1:23:00<18:50, 41.88s/it]"
     ]
    },
    {
     "name": "stdout",
     "output_type": "stream",
     "text": [
      "except\n",
      "b'0\\n'\n",
      "except\n",
      "b'0\\n'\n",
      "except\n",
      "b'0\\n'\n",
      "except\n",
      "b'0\\n'\n"
     ]
    },
    {
     "name": "stderr",
     "output_type": "stream",
     "text": [
      "\r",
      " 79%|███████▉  | 100/126 [1:24:02<20:41, 47.75s/it]"
     ]
    },
    {
     "name": "stdout",
     "output_type": "stream",
     "text": [
      "except\n",
      "b'0\\n'\n",
      "except\n",
      "b'0\\n'\n",
      "except\n",
      "b'0\\n'\n",
      "except\n",
      "b'0\\n'\n"
     ]
    },
    {
     "name": "stderr",
     "output_type": "stream",
     "text": [
      "\r",
      " 80%|████████  | 101/126 [1:24:41<18:53, 45.36s/it]"
     ]
    },
    {
     "name": "stdout",
     "output_type": "stream",
     "text": [
      "except\n",
      "b'0\\n'\n",
      "except\n",
      "b'0\\n'\n",
      "except\n",
      "b'0\\n'\n",
      "except\n",
      "b'0\\n'\n"
     ]
    },
    {
     "name": "stderr",
     "output_type": "stream",
     "text": [
      "\r",
      " 81%|████████  | 102/126 [1:25:25<17:57, 44.90s/it]"
     ]
    },
    {
     "name": "stdout",
     "output_type": "stream",
     "text": [
      "except\n",
      "b'0\\n'\n",
      "except\n",
      "b'0\\n'\n",
      "except\n",
      "b'0\\n'\n",
      "except\n",
      "b'0\\n'\n"
     ]
    },
    {
     "name": "stderr",
     "output_type": "stream",
     "text": [
      "\r",
      " 82%|████████▏ | 103/126 [1:26:15<17:49, 46.52s/it]"
     ]
    },
    {
     "name": "stdout",
     "output_type": "stream",
     "text": [
      "except\n",
      "b'0\\n'\n",
      "except\n",
      "b'0\\n'\n",
      "except\n",
      "b'0\\n'\n",
      "except\n",
      "b'0\\n'\n"
     ]
    },
    {
     "name": "stderr",
     "output_type": "stream",
     "text": [
      "\r",
      " 83%|████████▎ | 104/126 [1:27:21<19:07, 52.16s/it]"
     ]
    },
    {
     "name": "stdout",
     "output_type": "stream",
     "text": [
      "except\n",
      "b'0\\n'\n",
      "except\n",
      "b'0\\n'\n",
      "except\n",
      "b'0\\n'\n",
      "except\n",
      "b'0\\n'\n"
     ]
    },
    {
     "name": "stderr",
     "output_type": "stream",
     "text": [
      "\r",
      " 83%|████████▎ | 105/126 [1:28:18<18:46, 53.65s/it]"
     ]
    },
    {
     "name": "stdout",
     "output_type": "stream",
     "text": [
      "except\n",
      "b'0\\n'\n",
      "except\n",
      "b'0\\n'\n",
      "except\n",
      "b'0\\n'\n",
      "except\n",
      "b'0\\n'\n"
     ]
    },
    {
     "name": "stderr",
     "output_type": "stream",
     "text": [
      "\r",
      " 84%|████████▍ | 106/126 [1:29:42<20:57, 62.88s/it]"
     ]
    },
    {
     "name": "stdout",
     "output_type": "stream",
     "text": [
      "except\n",
      "b'0\\n'\n",
      "except\n",
      "b'0\\n'\n",
      "except\n",
      "b'0\\n'\n",
      "except\n",
      "b'0\\n'\n"
     ]
    },
    {
     "name": "stderr",
     "output_type": "stream",
     "text": [
      "\r",
      " 85%|████████▍ | 107/126 [1:30:33<18:45, 59.24s/it]"
     ]
    },
    {
     "name": "stdout",
     "output_type": "stream",
     "text": [
      "except\n",
      "b'0\\n'\n",
      "except\n",
      "b'0\\n'\n",
      "except\n",
      "b'0\\n'\n",
      "except\n",
      "b'0\\n'\n"
     ]
    },
    {
     "name": "stderr",
     "output_type": "stream",
     "text": [
      "\r",
      " 86%|████████▌ | 108/126 [1:31:15<16:15, 54.18s/it]"
     ]
    },
    {
     "name": "stdout",
     "output_type": "stream",
     "text": [
      "except\n",
      "b'0\\n'\n",
      "except\n",
      "b'0\\n'\n",
      "except\n",
      "b'0\\n'\n",
      "except\n",
      "b'0\\n'\n"
     ]
    },
    {
     "name": "stderr",
     "output_type": "stream",
     "text": [
      "\r",
      " 87%|████████▋ | 109/126 [1:32:18<16:02, 56.63s/it]"
     ]
    },
    {
     "name": "stdout",
     "output_type": "stream",
     "text": [
      "except\n",
      "b'0\\n'\n",
      "except\n",
      "b'0\\n'\n",
      "except\n",
      "b'0\\n'\n",
      "except\n",
      "b'0\\n'\n"
     ]
    },
    {
     "name": "stderr",
     "output_type": "stream",
     "text": [
      "\r",
      " 87%|████████▋ | 110/126 [1:33:00<13:58, 52.42s/it]"
     ]
    },
    {
     "name": "stdout",
     "output_type": "stream",
     "text": [
      "except\n",
      "b'0\\n'\n",
      "except\n",
      "b'0\\n'\n",
      "except\n",
      "b'0\\n'\n",
      "except\n",
      "b'0\\n'\n"
     ]
    },
    {
     "name": "stderr",
     "output_type": "stream",
     "text": [
      "\r",
      " 88%|████████▊ | 111/126 [1:33:41<12:14, 48.97s/it]"
     ]
    },
    {
     "name": "stdout",
     "output_type": "stream",
     "text": [
      "except\n",
      "b'0\\n'\n",
      "except\n",
      "b'0\\n'\n",
      "except\n",
      "b'0\\n'\n",
      "except\n",
      "b'0\\n'\n"
     ]
    },
    {
     "name": "stderr",
     "output_type": "stream",
     "text": [
      "\r",
      " 89%|████████▉ | 112/126 [1:34:46<12:33, 53.83s/it]"
     ]
    },
    {
     "name": "stdout",
     "output_type": "stream",
     "text": [
      "except\n",
      "b'0\\n'\n",
      "except\n",
      "b'0\\n'\n",
      "except\n",
      "b'0\\n'\n",
      "except\n",
      "b'0\\n'\n"
     ]
    },
    {
     "name": "stderr",
     "output_type": "stream",
     "text": [
      "\r",
      " 90%|████████▉ | 113/126 [1:35:30<10:57, 50.60s/it]"
     ]
    },
    {
     "name": "stdout",
     "output_type": "stream",
     "text": [
      "except\n",
      "b'0\\n'\n",
      "except\n",
      "b'0\\n'\n",
      "except\n",
      "b'0\\n'\n",
      "except\n",
      "b'0\\n'\n"
     ]
    },
    {
     "name": "stderr",
     "output_type": "stream",
     "text": [
      "\r",
      " 90%|█████████ | 114/126 [1:36:16<09:50, 49.24s/it]"
     ]
    },
    {
     "name": "stdout",
     "output_type": "stream",
     "text": [
      "except\n",
      "b'0\\n'\n",
      "except\n",
      "b'0\\n'\n",
      "except\n",
      "b'0\\n'\n",
      "except\n",
      "b'0\\n'\n"
     ]
    },
    {
     "name": "stderr",
     "output_type": "stream",
     "text": [
      "\r",
      " 91%|█████████▏| 115/126 [1:36:53<08:23, 45.75s/it]"
     ]
    },
    {
     "name": "stdout",
     "output_type": "stream",
     "text": [
      "except\n",
      "b'0\\n'\n",
      "except\n",
      "b'0\\n'\n",
      "except\n",
      "b'0\\n'\n",
      "except\n",
      "b'0\\n'\n"
     ]
    },
    {
     "name": "stderr",
     "output_type": "stream",
     "text": [
      "\r",
      " 92%|█████████▏| 116/126 [1:37:49<08:06, 48.65s/it]"
     ]
    },
    {
     "name": "stdout",
     "output_type": "stream",
     "text": [
      "except\n",
      "b'0\\n'\n",
      "except\n",
      "b'0\\n'\n",
      "except\n",
      "b'0\\n'\n",
      "except\n",
      "b'0\\n'\n"
     ]
    },
    {
     "name": "stderr",
     "output_type": "stream",
     "text": [
      "\r",
      " 93%|█████████▎| 117/126 [1:39:06<08:35, 57.30s/it]"
     ]
    },
    {
     "name": "stdout",
     "output_type": "stream",
     "text": [
      "except\n",
      "b'0\\n'\n",
      "except\n",
      "b'0\\n'\n",
      "except\n",
      "b'0\\n'\n",
      "except\n",
      "b'0\\n'\n"
     ]
    },
    {
     "name": "stderr",
     "output_type": "stream",
     "text": [
      "\r",
      " 94%|█████████▎| 118/126 [1:39:52<07:11, 53.96s/it]"
     ]
    },
    {
     "name": "stdout",
     "output_type": "stream",
     "text": [
      "except\n",
      "b'0\\n'\n",
      "except\n",
      "b'0\\n'\n",
      "except\n",
      "b'0\\n'\n",
      "except\n",
      "b'0\\n'\n"
     ]
    },
    {
     "name": "stderr",
     "output_type": "stream",
     "text": [
      "\r",
      " 94%|█████████▍| 119/126 [1:40:41<06:07, 52.46s/it]"
     ]
    },
    {
     "name": "stdout",
     "output_type": "stream",
     "text": [
      "except\n",
      "b'0\\n'\n",
      "except\n",
      "b'0\\n'\n",
      "except\n",
      "b'0\\n'\n",
      "except\n",
      "b'0\\n'\n"
     ]
    },
    {
     "name": "stderr",
     "output_type": "stream",
     "text": [
      "\r",
      " 95%|█████████▌| 120/126 [1:41:29<05:06, 51.04s/it]"
     ]
    },
    {
     "name": "stdout",
     "output_type": "stream",
     "text": [
      "except\n",
      "b'0\\n'\n",
      "except\n",
      "b'0\\n'\n",
      "except\n",
      "b'0\\n'\n",
      "except\n",
      "b'0\\n'\n"
     ]
    },
    {
     "name": "stderr",
     "output_type": "stream",
     "text": [
      "\r",
      " 96%|█████████▌| 121/126 [1:42:09<03:59, 47.84s/it]"
     ]
    },
    {
     "name": "stdout",
     "output_type": "stream",
     "text": [
      "except\n",
      "b'0\\n'\n",
      "except\n",
      "b'0\\n'\n",
      "except\n",
      "b'0\\n'\n",
      "except\n",
      "b'0\\n'\n"
     ]
    },
    {
     "name": "stderr",
     "output_type": "stream",
     "text": [
      "\r",
      " 97%|█████████▋| 122/126 [1:42:50<03:03, 45.83s/it]"
     ]
    },
    {
     "name": "stdout",
     "output_type": "stream",
     "text": [
      "except\n",
      "b'0\\n'\n",
      "except\n",
      "b'0\\n'\n",
      "except\n",
      "b'0\\n'\n",
      "except\n",
      "b'0\\n'\n"
     ]
    },
    {
     "name": "stderr",
     "output_type": "stream",
     "text": [
      "\r",
      " 98%|█████████▊| 123/126 [1:43:27<02:09, 43.07s/it]"
     ]
    },
    {
     "name": "stdout",
     "output_type": "stream",
     "text": [
      "except\n",
      "b'0\\n'\n",
      "except\n",
      "b'0\\n'\n",
      "except\n",
      "b'0\\n'\n",
      "except\n",
      "b'0\\n'\n"
     ]
    },
    {
     "name": "stderr",
     "output_type": "stream",
     "text": [
      "\r",
      " 98%|█████████▊| 124/126 [1:44:15<01:29, 44.51s/it]"
     ]
    },
    {
     "name": "stdout",
     "output_type": "stream",
     "text": [
      "except\n",
      "b'0\\n'\n",
      "except\n",
      "b'0\\n'\n",
      "except\n",
      "b'0\\n'\n",
      "except\n",
      "b'0\\n'\n"
     ]
    },
    {
     "name": "stderr",
     "output_type": "stream",
     "text": [
      "\r",
      " 99%|█████████▉| 125/126 [1:45:05<00:46, 46.14s/it]"
     ]
    },
    {
     "name": "stdout",
     "output_type": "stream",
     "text": [
      "except\n",
      "b'0\\n'\n",
      "except\n",
      "b'0\\n'\n",
      "except\n",
      "b'0\\n'\n",
      "except\n",
      "b'0\\n'\n"
     ]
    },
    {
     "name": "stderr",
     "output_type": "stream",
     "text": [
      "100%|██████████| 126/126 [1:46:16<00:00, 50.60s/it]"
     ]
    },
    {
     "name": "stdout",
     "output_type": "stream",
     "text": [
      "except\n",
      "b'0\\n'\n"
     ]
    },
    {
     "name": "stderr",
     "output_type": "stream",
     "text": [
      "\n"
     ]
    }
   ],
   "source": [
    "os.mkdir('csvs')\n",
    "model_nums_chunker = [200]\n",
    "cn.cynet_chunker(\n",
    "    MODEL_GLOB,\n",
    "    model_nums_chunker, \n",
    "    horizon, \n",
    "    DATA_PATH, \n",
    "    RUNLEN, \n",
    "    VARNAME, \n",
    "    RESPATH,\n",
    "    FLEX_TAIL_LEN=FLEX_TAIL_LEN,\n",
    "    cores=1, # dummy parameter\n",
    "    gamma=True,\n",
    "    PARTITION=PARTITION[0]\n",
    ")"
   ]
  },
  {
   "cell_type": "markdown",
   "metadata": {},
   "source": [
    "## Machine leanring algorithm \n",
    "**Note:** Before Cynet is moved to Python3, we will have to run ML in a separate file.\n",
    "I will copy the code here, but please don't run.\n",
    "\n",
    "Currently, the code is in `MachineLearning.ipynb`."
   ]
  },
  {
   "cell_type": "code",
   "execution_count": 14,
   "metadata": {},
   "outputs": [
    {
     "name": "stdout",
     "output_type": "stream",
     "text": [
      "            ml\n",
      "mean  0.771644\n",
      "50%   0.774193\n"
     ]
    }
   ],
   "source": [
    "from warnings import simplefilter\n",
    "simplefilter(action='ignore', category=FutureWarning)\n",
    "import numpy as np\n",
    "import pandas as pd\n",
    "import csv\n",
    "from glob import glob\n",
    "import subprocess\n",
    "import string\n",
    "import random\n",
    "import os\n",
    "from functools import reduce\n",
    "\n",
    "from sklearn.model_selection import TimeSeriesSplit\n",
    "from sklearn.metrics import fbeta_score, make_scorer, r2_score\n",
    "from sklearn.utils import shuffle\n",
    "\n",
    "from sklearn.tree import DecisionTreeClassifier\n",
    "from sklearn.ensemble import AdaBoostRegressor, AdaBoostClassifier, RandomForestRegressor, RandomForestClassifier, ExtraTreesClassifier\n",
    "from sklearn.neural_network import MLPClassifier\n",
    "\n",
    "# rom lightgbm import LGBMRegressor\n",
    "\n",
    "FLEXROC = f'{path}/cynet/bin/flexroc'\n",
    "\n",
    "# init_date, end_date, freq = '2012-01-01', '2016-12-31', 'D'\n",
    "# begin, end, extended_end = init_date, '2015-12-31', end_date\n",
    "# RUNLEN = len(pd.date_range(start=begin, end=extended_end, freq=freq))\n",
    "# FLEX_TAIL_LEN = len(pd.date_range(start=end, end=extended_end, freq=freq))\n",
    "# print(f'run length = {RUNLEN};\\nflex tail length = {FLEX_TAIL_LEN}.')\n",
    "TRAINLEN = RUNLEN - FLEX_TAIL_LEN\n",
    "\n",
    "def randomString(stringLength=8):\n",
    "    letters = string.ascii_lowercase\n",
    "    return ''.join(random.choice(letters) for i in range(stringLength))\n",
    "\n",
    "\n",
    "def run_one_combined(filenames, partition, regr_name):\n",
    "\n",
    "    dfs = []\n",
    "    for i, filename in enumerate(filenames):\n",
    "        # Read in features csvs.\n",
    "        df = pd.read_csv(filename, header=None)\n",
    "\n",
    "        # Drop empty columns\n",
    "        df = df.dropna()\n",
    "\n",
    "        # Renaming columns\n",
    "        cols = df.columns[1: -1]\n",
    "        cols = ['timestep'] + ['F_{}_{}'.format(i, x) for x in cols] + ['target']\n",
    "        df.columns = cols\n",
    "\n",
    "        # Drop out-of-sample rows.\n",
    "        df = df[df.target > -1]\n",
    "        \n",
    "        df['target'] = df['target'].apply(lambda x: 1 if x > partition else 0)\n",
    "\n",
    "        dfs.append(df)\n",
    "\n",
    "    df = reduce(lambda a, b: a.merge(b, how='inner', on=['timestep', 'target']), dfs)\n",
    "    df.set_index('timestep', inplace=True)\n",
    "    df.sort_index(inplace=True)\n",
    "\n",
    "\n",
    "    # remove identical columns and \n",
    "    # move target to the last column \n",
    "    cols_to_keep = []\n",
    "    for col in df:\n",
    "        a = df[col].unique()\n",
    "        if (col is not 'target') and (len(a) > 1):\n",
    "            cols_to_keep.append(col)\n",
    "    df = df[cols_to_keep + ['target']]\n",
    "\n",
    "\n",
    "    # Train test split\n",
    "    df_train = df[df.index < TRAINLEN]\n",
    "    df_test = df[df.index >= TRAINLEN]\n",
    "\n",
    "    data_train = df_train.values\n",
    "    data_test = df_test.values\n",
    "\n",
    "    X_train = data_train[:, :-1]\n",
    "    y_train = data_train[:, -1]\n",
    "    X_test = data_test[:, :-1]\n",
    "    y_test = data_test[:, -1]\n",
    "\n",
    "\n",
    "    if np.count_nonzero(y_test) == 0:\n",
    "        return -1\n",
    "\n",
    "    # Define Regressor or Classifier.\n",
    "    regrs = {\n",
    "        'ETree': ExtraTreesClassifier(\n",
    "            n_estimators=5000, \n",
    "            max_depth=2, \n",
    "            min_samples_split=2, \n",
    "            class_weight='balanced'),\n",
    "        'AdaB': AdaBoostClassifier(base_estimator=DecisionTreeClassifier(max_depth=2), n_estimators=1000),\n",
    "        'NN': MLPClassifier(alpha=1, max_iter=1000)\n",
    "    }\n",
    "    regr = regrs[regr_name]\n",
    "    \n",
    "    # Train the regressor.\n",
    "    try: \n",
    "        regr.fit(X_train, y_train)\n",
    "\n",
    "        y_prob = regr.predict_proba(X_test)\n",
    "        p_thresholds = [p[1] for p in y_prob]\n",
    "\n",
    "        # Very important, the y_test needs to be an int for flexroc to work properly.\n",
    "        to_write = [[int(y_test[n]), p_thresholds[n]] for n in range(len(p_thresholds))]\n",
    "\n",
    "        # Score or AUC\n",
    "        prefix = filename.rstrip('.csv')\n",
    "        log_filename = prefix + '.log'\n",
    "        roc_filename = prefix + '.roc'\n",
    "        with open(log_filename, 'w') as fh:\n",
    "            writer = csv.writer(fh, delimiter=' ')\n",
    "            for row in to_write:\n",
    "                writer.writerow(row)\n",
    "        auc_command = f'{FLEXROC} -i {log_filename}  -w 1 -x 0 -C 1 -L 1 -E 0 -f .2 -t .9 -r {roc_filename}'\n",
    "        output = subprocess.check_output(auc_command, shell=True)\n",
    "\n",
    "        # ------------add this line if working with python3 -----------------\n",
    "        output = output.decode('utf8')\n",
    "        # -------------------------------------------------------------------\n",
    "\n",
    "        auc = float(output.split(' ')[1])\n",
    "        return auc\n",
    "    except:\n",
    "        return -2\n",
    "\n",
    "\n",
    "csv_folder = f'{path}/ntb/csvs'\n",
    "partition = .5\n",
    "regr_name = 'ETree'\n",
    "output_file = f'{path}/ntb/ML_{regr_name}.csv'\n",
    "\n",
    "filenames = glob(f'{csv_folder}/*model.csv')\n",
    "model_ids, aucs = [], []\n",
    "for i, filename in enumerate(filenames):\n",
    "    model_id = filename.split('/')[-1][:-4].split('m')[0]\n",
    "    auc = run_one_combined([filename], partition, regr_name)\n",
    "    \n",
    "    model_ids.append(model_id)\n",
    "    aucs.append(auc)\n",
    "    \n",
    "    print(f'{i}/{len(filenames)}: model id = {model_id}, auc = {auc}')\n",
    "\n",
    "df = pd.DataFrame(index=model_ids, data={'ml': aucs})\n",
    "df.index.name = 'model_id'\n",
    "df.sort_index(inplace=True)\n",
    "df.to_csv(output_file)\n",
    "\n",
    "df = df[df.ml > 0]\n",
    "print(df.describe().loc()[['mean', '50%']])"
   ]
  },
  {
   "cell_type": "markdown",
   "metadata": {},
   "source": [
    "## Simulation"
   ]
  },
  {
   "cell_type": "markdown",
   "metadata": {},
   "source": [
    "### Get simulation file\n",
    "In the next step, we will use the simulation file to get spatial relaxation and snapshot."
   ]
  },
  {
   "cell_type": "code",
   "execution_count": 15,
   "metadata": {},
   "outputs": [
    {
     "name": "stderr",
     "output_type": "stream",
     "text": [
      "[Parallel(n_jobs=1)]: Using backend SequentialBackend with 1 concurrent workers.\n",
      "[Parallel(n_jobs=1)]: Done 1008 out of 1008 | elapsed:  7.2min finished\n"
     ]
    },
    {
     "name": "stdout",
     "output_type": "stream",
     "text": [
      "Concating 504 files.\n"
     ]
    }
   ],
   "source": [
    "log_path = FILEPATH\n",
    "\n",
    "cn.flexroc_only_parallel(\n",
    "    '{}/*.log'.format(log_path),\n",
    "    tpr_threshold=0.85,\n",
    "    fpr_threshold=None,\n",
    "    FLEX_TAIL_LEN=FLEX_TAIL_LEN, \n",
    "    cores=1)\n",
    "\n",
    "mapper = cn.mapped_events('{}/*{}models#*#*.csv'.format(log_path, model_nums[0]))\n",
    "mapper.concat_dataframes('{}/sim.csv'.format(log_path))"
   ]
  },
  {
   "cell_type": "markdown",
   "metadata": {},
   "source": [
    "### Get spatial relaxation and plot snapshots\n",
    "\n",
    "The following code isn't really runable right now. But after we move cynet to Python3, it will be okay."
   ]
  },
  {
   "cell_type": "code",
   "execution_count": 27,
   "metadata": {},
   "outputs": [],
   "source": [
    "import sys\n",
    "sys.path.append(f'{path}/cynet_utils/')\n",
    "import spatial as sp\n",
    "\n",
    "import matplotlib.pyplot as plt\n",
    "import matplotlib.cm\n",
    "from matplotlib.colors import ListedColormap, LinearSegmentedColormap\n",
    "\n",
    "import geopandas as gpd\n",
    "import contextily as ctx\n",
    "from tqdm import tqdm"
   ]
  },
  {
   "cell_type": "code",
   "execution_count": 28,
   "metadata": {},
   "outputs": [
    {
     "name": "stdout",
     "output_type": "stream",
     "text": [
      "total number of days = 366\n",
      "lat = (-4.000, 49.000)\n",
      "lon = (-6.000, 84.000)\n",
      "['Armed_Assault-Assassination-Hijacking-Hostage_Taking_Barricade_Incident-Hostage_Taking_Kidnapping'\n",
      " 'Bombing_Explosion-Facility_Infrastructure_Attack']\n",
      "2016-02-25\n",
      "tmporal comp: -->  tp  22  fp  50  fn  12\n",
      "day=1517, Armed_Assault-Assassination-Hijacking-Hostage_Taking_Barricade_Incident-Hostage_Taking_Kidnapping: fp=1, tp=22, fn=4; ppv=0.957, sens=0.846\n",
      "tmporal comp: -->  tp  27  fp  61  fn  12\n",
      "day=1517, Bombing_Explosion-Facility_Infrastructure_Attack: fp=0, tp=27, fn=5; ppv=1.000, sens=0.844\n"
     ]
    }
   ],
   "source": [
    "datetime_range = pd.date_range(start='2016-01-01', end='2016-12-31', freq='D')\n",
    "print(f'total number of days = {len(datetime_range)}')\n",
    "df = pd.read_csv(f'{path}/ntb/models/sim.csv')\n",
    "\n",
    "lat_min, lat_max = df.lat1.min(), df.lat2.max()\n",
    "lon_min, lon_max = df.lon1.min(), df.lon2.max()\n",
    "print(f'lat = ({lat_min:.3f}, {lat_max:.3f})')\n",
    "print(f'lon = ({lon_min:.3f}, {lon_max:.3f})')\n",
    "\n",
    "day_min = 1462\n",
    "df = df[ (df['day'] >= day_min) & (df['target'] != 'VAR') ]\n",
    "\n",
    "\n",
    "print(df.target.unique())\n",
    "events = [\n",
    "    'Armed_Assault-Assassination-Hijacking-Hostage_Taking_Barricade_Incident-Hostage_Taking_Kidnapping',\n",
    "    'Bombing_Explosion-Facility_Infrastructure_Attack'\n",
    "]\n",
    "\n",
    "day = 1517\n",
    "time = datetime_range[day - day_min].date()\n",
    "print(time)\n",
    "\n",
    "\n",
    "Z = 0.06\n",
    "parameters = {e: {} for e in events}\n",
    "for var in events:\n",
    "    types = [var]\n",
    "    fn, tp, fp, ppv, sens, lon_, lat_, int_plot, int_, dfG, dfFN, dfTP, dfFP, dfTP0 = sp.get_prediction(\n",
    "        df,\n",
    "        day,\n",
    "        types,\n",
    "        lat_min,\n",
    "        lat_max,\n",
    "        lon_min,\n",
    "        lon_max,\n",
    "        radius=8,\n",
    "        sigma=3.5,\n",
    "        detail=1.2,\n",
    "        miles=15,\n",
    "        Z=Z)\n",
    "\n",
    "    print('day={}, {}: fp={}, tp={}, fn={}; ppv={:.3f}, sens={:.3f}'\n",
    "          .format(day, var, fp, tp, fn, ppv, sens))\n",
    "    \n",
    "    parameters[var].update({\n",
    "        'fp': fp, 'tp': tp, 'fn': fn,\n",
    "        'ppv': ppv, 'sens': sens,\n",
    "        'lon': lon_, 'lat': lat_,\n",
    "        'int': int_, 'df': dfG,\n",
    "        'dffp': dfFP, 'dftp': dfTP, 'dffn': dfFN,\n",
    "        'dftp_0': dfTP0\n",
    "    })"
   ]
  },
  {
   "cell_type": "code",
   "execution_count": 29,
   "metadata": {},
   "outputs": [
    {
     "name": "stderr",
     "output_type": "stream",
     "text": [
      "100%|██████████| 58/58 [00:00<00:00, 8831.08it/s]\n",
      "100%|██████████| 58/58 [00:00<00:00, 7388.37it/s]\n"
     ]
    },
    {
     "data": {
      "text/plain": [
       "(-1000000.0, 11000000.0, -1200000.0, 9200000.0)"
      ]
     },
     "execution_count": 29,
     "metadata": {},
     "output_type": "execute_result"
    }
   ],
   "source": [
    "cmap0 = sp.truncate_colormap(plt.cm.get_cmap('Reds'), 0.3, .9)\n",
    "cmap1 = sp.truncate_colormap(plt.cm.get_cmap('Blues'), 0.3, .9)\n",
    "bcolor0 = 'brown'\n",
    "bcolor1 = 'blue'\n",
    "\n",
    "\n",
    "parameters[events[0]]['cmap'] = cmap0\n",
    "parameters[events[0]]['bcolor'] = bcolor0\n",
    "parameters[events[0]]['mcolor'] = bcolor0\n",
    "parameters[events[0]]['mtype'] = 'v'\n",
    "parameters[events[1]]['cmap'] = cmap1\n",
    "parameters[events[1]]['bcolor'] = bcolor1\n",
    "parameters[events[1]]['mcolor'] = bcolor1\n",
    "parameters[events[1]]['mtype'] = '^'\n",
    "\n",
    "xlim = [-.1e7, 1.1e7]\n",
    "ylim =[-.12e7, .92e7]\n",
    "\n",
    "barTitleSize, barTickerSize = 20, 18\n",
    "barWidth, barHeight = 1.4, 1.76\n",
    "markerSize = 60\n",
    "lighten_ratio = .2\n",
    "\n",
    "width_height_ratio = (xlim[1] - xlim[0]) / (ylim[1] - ylim[0])\n",
    "height = 10\n",
    "width = width_height_ratio * height\n",
    "fig = plt.figure(figsize=(width, height))\n",
    "# A MUST-HAVE OR OTHERWISE THE DIMENSION OF THE PLOT ARE NOT UNIFORM\n",
    "ax = fig.gca()\n",
    "ax.set_xlim(*xlim)\n",
    "ax.set_ylim(*ylim)\n",
    "\n",
    "var_title_map = {\n",
    "    events[0]: 'Personnel',\n",
    "    events[1]: 'Property'\n",
    "}\n",
    "for var in events:\n",
    "\n",
    "    fp, tp, fn = parameters[var]['fp'], parameters[var]['tp'], parameters[var]['fn']\n",
    "    lon_, lat_ = parameters[var]['lon'], parameters[var]['lat']\n",
    "    int_, dfG = parameters[var]['int'], parameters[var]['dftp']\n",
    "\n",
    "    dfG['Latitude'] = (dfG.lat1 + dfG.lat2) / 2\n",
    "    dfG['Longitude'] = (dfG.lon1 + dfG.lon2) / 2\n",
    "    dfG_ = dfG[['Latitude','Longitude']]\n",
    "    GND = gpd.GeoDataFrame(\n",
    "        dfG_, \n",
    "        geometry=gpd.points_from_xy(dfG_.Longitude, dfG_.Latitude))\n",
    "    GND.crs= {'init' :'epsg:4326'}\n",
    "    GND = GND.to_crs(epsg=3857)\n",
    "\n",
    "    Longitude = []\n",
    "    Latitude = []\n",
    "    density = []\n",
    "    for row in tqdm(np.arange(0,len(int_))):\n",
    "        for col in np.arange(0,len(int_[row])):\n",
    "            if int_[row, col] > 0:\n",
    "                Longitude = np.append(Longitude,lon_[row,col])\n",
    "                Latitude = np.append(Latitude,lat_[row,col])\n",
    "                density = np.append(density,int_[row,col])\n",
    "\n",
    "    df_density=pd.DataFrame(data={\n",
    "        'Longitude': Longitude, \n",
    "        'Latitude': Latitude, \n",
    "        'density':density})\n",
    "\n",
    "    wdf = gpd.GeoDataFrame(\n",
    "        df_density, \n",
    "        geometry=gpd.points_from_xy(df_density.Longitude, df_density.Latitude))\n",
    "    wdf.crs= {'init' :'epsg:4326'}\n",
    "    wdf = wdf.to_crs(epsg=3857)\n",
    "\n",
    "    ax = fig.gca()\n",
    "    ax = wdf.plot(\n",
    "        ax=ax,\n",
    "        column='density',\n",
    "        edgecolor='w',\n",
    "        linewidth=0,\n",
    "        cmap=parameters[var]['cmap'],\n",
    "        alpha=.6, \n",
    "        zorder=5, \n",
    "        marker='s',\n",
    "        markersize=135)\n",
    "\n",
    "    ax=GND.plot(\n",
    "        ax=ax, \n",
    "        marker=parameters[var]['mtype'],\n",
    "        lw=1,\n",
    "        # edgecolor='b',\n",
    "        facecolors=parameters[var]['mcolor'],\n",
    "        edgecolor=parameters[var]['mcolor'],\n",
    "        # color=lighten_color(parameters[var]['mcolor'], lighten_ratio), \n",
    "        markersize=150, \n",
    "        alpha=.8,\n",
    "        zorder=10)\n",
    "\n",
    "    ctx.add_basemap(ax, source=ctx.sources.ST_TONER_BACKGROUND,alpha=.5)  ###IXC\n",
    "\n",
    "\n",
    "# ======================== Time stamp ===================== START\n",
    "ax.text(\n",
    "    0.925, 0.05,\n",
    "    str(time).split()[0], \n",
    "    transform=ax.transAxes,\n",
    "    fontweight='bold',\n",
    "    fontsize=20,\n",
    "    color='w',\n",
    "    verticalalignment='bottom', \n",
    "    horizontalalignment='right', \n",
    "    bbox=dict(\n",
    "        boxstyle='round', \n",
    "        facecolor='midnightblue', \n",
    "        alpha=0.9)\n",
    ")\n",
    "# ======================== Time stamp ===================== END\n",
    "\n",
    "\n",
    "# ================== Add bars of FN, TP, FP ==============START\n",
    "width_ratio = barWidth / width\n",
    "height_ratio = barHeight / height\n",
    "parameters[events[0]]['bar_location'] = [0.625, 0.75, width_ratio, height_ratio]\n",
    "parameters[events[1]]['bar_location'] = [0.85, 0.75, width_ratio, height_ratio]\n",
    "\n",
    "plt.gcf().patches.extend([\n",
    "    plt.Rectangle(\n",
    "        (0.6, 0.7), \n",
    "        0.6, 0.25, \n",
    "        fill=True, \n",
    "        color='w', \n",
    "        alpha=0.9, \n",
    "        zorder=1,\n",
    "        transform=fig.transFigure, \n",
    "        figure=plt.gcf())\n",
    "])\n",
    "\n",
    "for var in events:\n",
    "    cmap = parameters[var]['cmap']\n",
    "    bar_location = parameters[var]['bar_location']\n",
    "    \n",
    "    bar_data = np.array([\n",
    "        parameters[var]['fn'], \n",
    "        parameters[var]['tp'], \n",
    "        parameters[var]['fp']\n",
    "    ])\n",
    "    bar_data = bar_data / bar_data.sum()\n",
    "\n",
    "    \n",
    "    ax2 = plt.gcf().add_axes(bar_location, zorder=20)\n",
    "    ax2.patch.set_alpha(1)\n",
    "    ax2.set_facecolor(\"white\")\n",
    "    \n",
    "    ax2.bar(\n",
    "        ['FN','TP','FP'],\n",
    "        bar_data,\n",
    "        color=parameters[var]['bcolor'],\n",
    "        lw=0,\n",
    "        zorder=20,\n",
    "        alpha=.9)\n",
    "\n",
    "    ax2.spines['bottom'].set_color('black')\n",
    "    ax2.spines['top'].set_color('black') \n",
    "    ax2.spines['right'].set_visible(False) \n",
    "    ax2.spines['left'].set_visible(False) \n",
    "    ax2.tick_params(axis='x', colors='black', pad=8)\n",
    "    ax2.tick_params(axis='y', colors='black')\n",
    "\n",
    "    ax2.set_title(\n",
    "        var_title_map[var], \n",
    "        color='black', \n",
    "        fontdict={'fontsize': barTitleSize, 'fontweight': 'bold'})\n",
    "    ttl = ax2.title\n",
    "    ttl.set_position([.5, 1.05])\n",
    "    ax2.grid(True)\n",
    "\n",
    "    for label in ax2.get_xticklabels():\n",
    "        label.set_color('black')\n",
    "        label.set_fontsize(barTickerSize)\n",
    "        label.set_fontweight('bold')\n",
    "\n",
    "    for label in ax2.get_yticklabels():\n",
    "        label.set_color('black')\n",
    "        label.set_fontsize(barTickerSize)\n",
    "        label.set_fontweight('bold')\n",
    "\n",
    "    ax2.tick_params(axis=u'both', which=u'both',length=0)\n",
    "# ================== Add bars of FN, TP, FP ==============END\n",
    "\n",
    "ax.axis('off')\n",
    "plt.show()\n",
    "\n",
    "# sp.saveFIG(f'snapshot_{day}.pdf')"
   ]
  },
  {
   "cell_type": "code",
   "execution_count": null,
   "metadata": {},
   "outputs": [],
   "source": []
  }
 ],
 "metadata": {
  "kernelspec": {
   "display_name": "Python 3",
   "language": "python",
   "name": "python3"
  },
  "language_info": {
   "codemirror_mode": {
    "name": "ipython",
    "version": 3
   },
   "file_extension": ".py",
   "mimetype": "text/x-python",
   "name": "python",
   "nbconvert_exporter": "python",
   "pygments_lexer": "ipython3",
   "version": "3.7.5"
  }
 },
 "nbformat": 4,
 "nbformat_minor": 4
}
