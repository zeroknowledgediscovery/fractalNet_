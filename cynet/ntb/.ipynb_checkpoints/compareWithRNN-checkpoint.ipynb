{
 "cells": [
  {
   "cell_type": "markdown",
   "metadata": {},
   "source": [
    "### Use recurrent neural network as a benchmark\n",
    "Before we update `Cynet` to run with Python3, we have to run RNN in a separate Python3 notebook. \n",
    "The notebook is called `LSTM.ipynb`.\n",
    "The LSTM result are saved to `LSTM_results` folder. \n",
    "The RNN AUCs is saved to file `LSTM_results/auc_rnn.csv`.\n",
    "In the following cell, we compare the `Cynet` AUCs and the RNN AUCs."
   ]
  },
  {
   "cell_type": "code",
   "execution_count": 2,
   "metadata": {},
   "outputs": [],
   "source": [
    "import pandas as pd"
   ]
  },
  {
   "cell_type": "code",
   "execution_count": 1,
   "metadata": {},
   "outputs": [
    {
     "ename": "NameError",
     "evalue": "name 'pd' is not defined",
     "output_type": "error",
     "traceback": [
      "\u001b[0;31m---------------------------------------------------------------------------\u001b[0m",
      "\u001b[0;31mNameError\u001b[0m                                 Traceback (most recent call last)",
      "\u001b[0;32m<ipython-input-1-d9efe9f2b736>\u001b[0m in \u001b[0;36m<module>\u001b[0;34m\u001b[0m\n\u001b[1;32m      1\u001b[0m \u001b[0;31m# Load Cynet AUCs and process\u001b[0m\u001b[0;34m\u001b[0m\u001b[0;34m\u001b[0m\u001b[0;34m\u001b[0m\u001b[0m\n\u001b[0;32m----> 2\u001b[0;31m \u001b[0mdf\u001b[0m \u001b[0;34m=\u001b[0m \u001b[0mpd\u001b[0m\u001b[0;34m.\u001b[0m\u001b[0mread_csv\u001b[0m\u001b[0;34m(\u001b[0m\u001b[0;34m'res_all.csv'\u001b[0m\u001b[0;34m)\u001b[0m\u001b[0;34m\u001b[0m\u001b[0;34m\u001b[0m\u001b[0m\n\u001b[0m\u001b[1;32m      3\u001b[0m \u001b[0mdf\u001b[0m\u001b[0;34m[\u001b[0m\u001b[0;34m'model_id'\u001b[0m\u001b[0;34m]\u001b[0m \u001b[0;34m=\u001b[0m \u001b[0mdf\u001b[0m\u001b[0;34m[\u001b[0m\u001b[0;34m'loc_id'\u001b[0m\u001b[0;34m]\u001b[0m\u001b[0;34m.\u001b[0m\u001b[0mapply\u001b[0m\u001b[0;34m(\u001b[0m\u001b[0;32mlambda\u001b[0m \u001b[0mx\u001b[0m\u001b[0;34m:\u001b[0m \u001b[0mint\u001b[0m\u001b[0;34m(\u001b[0m\u001b[0mx\u001b[0m\u001b[0;34m.\u001b[0m\u001b[0msplit\u001b[0m\u001b[0;34m(\u001b[0m\u001b[0;34m'/'\u001b[0m\u001b[0;34m)\u001b[0m\u001b[0;34m[\u001b[0m\u001b[0;34m-\u001b[0m\u001b[0;36m1\u001b[0m\u001b[0;34m]\u001b[0m\u001b[0;34m.\u001b[0m\u001b[0msplit\u001b[0m\u001b[0;34m(\u001b[0m\u001b[0;34m'm'\u001b[0m\u001b[0;34m)\u001b[0m\u001b[0;34m[\u001b[0m\u001b[0;36m0\u001b[0m\u001b[0;34m]\u001b[0m\u001b[0;34m)\u001b[0m\u001b[0;34m)\u001b[0m\u001b[0;34m\u001b[0m\u001b[0;34m\u001b[0m\u001b[0m\n\u001b[1;32m      4\u001b[0m \u001b[0mdf\u001b[0m \u001b[0;34m=\u001b[0m \u001b[0mdf\u001b[0m\u001b[0;34m[\u001b[0m\u001b[0;34m[\u001b[0m\u001b[0;34m'model_id'\u001b[0m\u001b[0;34m,\u001b[0m \u001b[0;34m'lattgt1'\u001b[0m\u001b[0;34m,\u001b[0m \u001b[0;34m'lattgt2'\u001b[0m\u001b[0;34m,\u001b[0m \u001b[0;34m'lontgt1'\u001b[0m\u001b[0;34m,\u001b[0m \u001b[0;34m'lontgt2'\u001b[0m\u001b[0;34m,\u001b[0m \u001b[0;34m'varsrc'\u001b[0m\u001b[0;34m,\u001b[0m \u001b[0;34m'vartgt'\u001b[0m\u001b[0;34m,\u001b[0m \u001b[0;34m'auc'\u001b[0m\u001b[0;34m]\u001b[0m\u001b[0;34m]\u001b[0m\u001b[0;34m.\u001b[0m\u001b[0mcopy\u001b[0m\u001b[0;34m(\u001b[0m\u001b[0;34m)\u001b[0m\u001b[0;34m\u001b[0m\u001b[0;34m\u001b[0m\u001b[0m\n\u001b[1;32m      5\u001b[0m df = pd.pivot_table(\n",
      "\u001b[0;31mNameError\u001b[0m: name 'pd' is not defined"
     ]
    }
   ],
   "source": [
    "# Load Cynet AUCs and process\n",
    "df = pd.read_csv('res_all.csv')\n",
    "df['model_id'] = df['loc_id'].apply(lambda x: int(x.split('/')[-1].split('m')[0]))\n",
    "df = df[['model_id', 'lattgt1', 'lattgt2', 'lontgt1', 'lontgt2', 'varsrc', 'vartgt', 'auc']].copy()\n",
    "df = pd.pivot_table(\n",
    "    df, \n",
    "    values='auc', \n",
    "    index=['model_id', 'lattgt1', 'lattgt2', 'lontgt1', 'lontgt2', 'vartgt'],\n",
    "    columns=['varsrc']).reset_index().set_index('model_id', drop=True)\n",
    "srcs = [\n",
    "    'ALL', \n",
    "    'Armed_Assault-Assassination-Hijacking-Hostage_Taking_Barricade_Incident-Hostage_Taking_Kidnapping',\n",
    "    'Bombing_Explosion-Facility_Infrastructure_Attack',\n",
    "    'VAR']\n",
    "df['best_auc'] = df[srcs].max(axis=1)\n",
    "df['best_src'] = df[srcs].idxmax(axis=1)\n",
    "df['lat'] = (df['lattgt1'] + df['lattgt2']) / 2.0\n",
    "df['lon'] = (df['lontgt1'] + df['lontgt2']) / 2.0\n",
    "\n",
    "# Load RNN AUCs and combine\n",
    "df_rnn = pd.read_csv('LSTM_results/auc_rnn.csv').set_index('model_id')\n",
    "df_combined = df.join(df_rnn)\n",
    "df_combined.to_csv('auc_cynet_rnn.csv', float_format='%.6f')\n",
    "\n",
    "# prune unvalid data (remove sequence with no event in the out-of-sample period)\n",
    "\n",
    "df_combined = df_combined[ (df_combined.best_auc < 0.9999) & (df_combined.rnn > 0)]\n",
    "summary = df_combined[['best_auc', 'rnn']].describe().loc[['mean', '50%']]\n",
    "summary"
   ]
  },
  {
   "cell_type": "code",
   "execution_count": null,
   "metadata": {},
   "outputs": [],
   "source": []
  }
 ],
 "metadata": {
  "kernelspec": {
   "display_name": "Python 3",
   "language": "python",
   "name": "python3"
  },
  "language_info": {
   "codemirror_mode": {
    "name": "ipython",
    "version": 3
   },
   "file_extension": ".py",
   "mimetype": "text/x-python",
   "name": "python",
   "nbconvert_exporter": "python",
   "pygments_lexer": "ipython3",
   "version": "3.7.5"
  }
 },
 "nbformat": 4,
 "nbformat_minor": 4
}
